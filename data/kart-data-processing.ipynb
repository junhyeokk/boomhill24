{
  "nbformat": 4,
  "nbformat_minor": 0,
  "metadata": {
    "colab": {
      "name": "kart-data-processing.ipynb",
      "provenance": [],
      "collapsed_sections": [],
      "include_colab_link": true
    },
    "kernelspec": {
      "name": "python3",
      "display_name": "Python 3"
    },
    "language_info": {
      "name": "python"
    }
  },
  "cells": [
    {
      "cell_type": "markdown",
      "metadata": {
        "id": "view-in-github",
        "colab_type": "text"
      },
      "source": [
        "<a href=\"https://colab.research.google.com/github/junhyeokk/boomhill24/blob/main/data/kart-data-processing.ipynb\" target=\"_parent\"><img src=\"https://colab.research.google.com/assets/colab-badge.svg\" alt=\"Open In Colab\"/></a>"
      ]
    },
    {
      "cell_type": "code",
      "metadata": {
        "colab": {
          "base_uri": "https://localhost:8080/"
        },
        "id": "v0o4U_ELfMXy",
        "outputId": "06cf36e8-8d12-4f7c-b049-2b157cf91bee"
      },
      "source": [
        "from google.colab import drive\n",
        "drive.mount('/content/gdrive/')"
      ],
      "execution_count": 264,
      "outputs": [
        {
          "output_type": "stream",
          "text": [
            "Drive already mounted at /content/gdrive/; to attempt to forcibly remount, call drive.mount(\"/content/gdrive/\", force_remount=True).\n"
          ],
          "name": "stdout"
        }
      ]
    },
    {
      "cell_type": "code",
      "metadata": {
        "id": "oFu-SJr8ffDq"
      },
      "source": [
        "import cv2\n",
        "import numpy as np\n",
        "import matplotlib.pyplot as plt"
      ],
      "execution_count": 265,
      "outputs": []
    },
    {
      "cell_type": "code",
      "metadata": {
        "id": "WrDKPINs3Ger"
      },
      "source": [
        "def mse(img): # Error between input image and white image\n",
        "  return np.sum((255-img)**2)/(np.shape(img)[0]*np.shape(img)[1])"
      ],
      "execution_count": 266,
      "outputs": []
    },
    {
      "cell_type": "code",
      "metadata": {
        "id": "bFEATT3m51cd"
      },
      "source": [
        "def is_pushed(img): # image is pushed image if error is lager than threshold(200) (check image is almost white)\n",
        "                    # when not pushed, image is almost white\n",
        "  return 1 if mse(img) > 200 else 0"
      ],
      "execution_count": 267,
      "outputs": []
    },
    {
      "cell_type": "code",
      "metadata": {
        "id": "nnP2_cIkfryR"
      },
      "source": [
        "cap = cv2.VideoCapture(\"/content/gdrive/MyDrive/m2.mp4\")"
      ],
      "execution_count": 268,
      "outputs": []
    },
    {
      "cell_type": "markdown",
      "metadata": {
        "id": "cy0DUh0KhAXo"
      },
      "source": [
        "영상 추출 관련 기본 데이터"
      ]
    },
    {
      "cell_type": "code",
      "metadata": {
        "colab": {
          "base_uri": "https://localhost:8080/"
        },
        "id": "iOlJYs87f1ip",
        "outputId": "e650ea00-db09-47d6-aae0-d4b37bf8f776"
      },
      "source": [
        "fps = round(cap.get(cv2.CAP_PROP_FPS))\n",
        "t = 30          # Start time\n",
        "end_sec = 110   # End time\n",
        "interval = 1    # Time interval\n",
        "# 단위는 초\n",
        "\n",
        "print(f\"fps : {fps}\")"
      ],
      "execution_count": 269,
      "outputs": [
        {
          "output_type": "stream",
          "text": [
            "fps : 60\n"
          ],
          "name": "stdout"
        }
      ]
    },
    {
      "cell_type": "code",
      "metadata": {
        "id": "qhp7AGIow5WK"
      },
      "source": [
        "# top left position of key\n",
        "# up, left, right, ctrl, shift, down \n",
        "key_pos = [(1265,914), (1188,992), (1343,992), (1092,992), (1092,914), (1265,992)]\n",
        "\n",
        "key_size = 20"
      ],
      "execution_count": 270,
      "outputs": []
    },
    {
      "cell_type": "code",
      "metadata": {
        "id": "hK6jQOCchLBk",
        "colab": {
          "base_uri": "https://localhost:8080/"
        },
        "outputId": "5eb65762-0eb9-4635-a18c-87f1f2193006"
      },
      "source": [
        "while t <= end_sec:\n",
        "  cap.set(cv2.CAP_PROP_POS_MSEC, t * 1000)\n",
        "  ret,frame = cap.read()\n",
        "\n",
        "  if not ret:\n",
        "    print(\"영상 시간 초과 또는 영상 관련 오류\")\n",
        "\n",
        "  # 키 입력 추출\n",
        "  key_array = [is_pushed(frame[index[1]:index[1]+key_size,index[0]:index[0]+key_size]) for index in key_pos]\n",
        "\n",
        "  keystring = ''.join(str(key) for key in key_array)\n",
        "  print(f\"key string at {t} is {keystring}\")\n",
        "\n",
        "  cropped_img = frame[:1080,:1440]\n",
        "  keylog_img = frame[881:1080,1056:1440]\n",
        "  cv2.imwrite(f\"/content/gdrive/MyDrive/kart_cap/kart_image{t}.jpg\", cropped_img)\n",
        "\n",
        "  # 키로그와 key string 비교 위해 keylog 이미지 저장\n",
        "  #cv2.imwrite(f\"/content/gdrive/MyDrive/kart_cap/keylog_image{t}.jpg\", keylog_img)\n",
        "\n",
        "  # csv 형식으로 저장 (해당 화면 이미지 파일, 다음 키 입력)\n",
        "  # 이미지 파일에서 키 뷰어부분 마스킹\n",
        "  t += interval"
      ],
      "execution_count": 271,
      "outputs": [
        {
          "output_type": "stream",
          "text": [
            "key string at 30 is 000000\n",
            "key string at 31 is 000000\n",
            "key string at 32 is 000000\n",
            "key string at 33 is 000000\n",
            "key string at 34 is 000000\n",
            "key string at 35 is 000000\n",
            "key string at 36 is 000000\n",
            "key string at 37 is 000000\n",
            "key string at 38 is 000000\n",
            "key string at 39 is 000000\n",
            "key string at 40 is 000000\n",
            "key string at 41 is 000000\n",
            "key string at 42 is 000000\n",
            "key string at 43 is 000000\n",
            "key string at 44 is 000000\n",
            "key string at 45 is 000000\n",
            "key string at 46 is 000000\n",
            "key string at 47 is 000000\n",
            "key string at 48 is 000000\n",
            "key string at 49 is 110000\n",
            "key string at 50 is 110000\n",
            "key string at 51 is 101000\n",
            "key string at 52 is 101000\n",
            "key string at 53 is 101000\n",
            "key string at 54 is 110000\n",
            "key string at 55 is 110000\n",
            "key string at 56 is 110000\n",
            "key string at 57 is 100000\n",
            "key string at 58 is 110000\n",
            "key string at 59 is 100000\n",
            "key string at 60 is 100000\n",
            "key string at 61 is 110000\n",
            "key string at 62 is 100000\n",
            "key string at 63 is 101000\n",
            "key string at 64 is 110010\n",
            "key string at 65 is 110000\n",
            "key string at 66 is 101100\n",
            "key string at 67 is 110000\n",
            "key string at 68 is 101010\n",
            "key string at 69 is 100000\n",
            "key string at 70 is 101000\n",
            "key string at 71 is 101000\n",
            "key string at 72 is 100100\n",
            "key string at 73 is 101000\n",
            "key string at 74 is 100000\n",
            "key string at 75 is 101000\n",
            "key string at 76 is 110000\n",
            "key string at 77 is 100000\n",
            "key string at 78 is 100000\n",
            "key string at 79 is 101000\n",
            "key string at 80 is 100000\n",
            "key string at 81 is 101000\n",
            "key string at 82 is 101000\n",
            "key string at 83 is 101000\n",
            "key string at 84 is 101000\n",
            "key string at 85 is 100000\n",
            "key string at 86 is 110010\n",
            "key string at 87 is 101000\n",
            "key string at 88 is 110000\n",
            "key string at 89 is 110000\n",
            "key string at 90 is 100000\n",
            "key string at 91 is 101000\n",
            "key string at 92 is 110000\n",
            "key string at 93 is 101000\n",
            "key string at 94 is 110000\n",
            "key string at 95 is 101000\n",
            "key string at 96 is 101000\n",
            "key string at 97 is 110000\n",
            "key string at 98 is 110000\n",
            "key string at 99 is 100000\n",
            "key string at 100 is 101000\n",
            "key string at 101 is 100100\n",
            "key string at 102 is 110010\n",
            "key string at 103 is 100000\n",
            "key string at 104 is 100100\n",
            "key string at 105 is 101000\n",
            "key string at 106 is 100000\n",
            "key string at 107 is 110000\n",
            "key string at 108 is 101010\n",
            "key string at 109 is 101010\n",
            "key string at 110 is 101010\n"
          ],
          "name": "stdout"
        }
      ]
    },
    {
      "cell_type": "code",
      "metadata": {
        "id": "lErwSnozhkPa"
      },
      "source": [
        "cap.release()"
      ],
      "execution_count": 272,
      "outputs": []
    }
  ]
}