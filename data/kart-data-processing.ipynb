{
  "nbformat": 4,
  "nbformat_minor": 0,
  "metadata": {
    "colab": {
      "name": "kart-data-processing.ipynb의 사본",
      "provenance": [],
      "collapsed_sections": []
    },
    "kernelspec": {
      "name": "python3",
      "display_name": "Python 3"
    },
    "language_info": {
      "name": "python"
    },
    "widgets": {
      "application/vnd.jupyter.widget-state+json": {
        "2083f34ea77b467089a3fa4dde11aac7": {
          "model_module": "@jupyter-widgets/controls",
          "model_name": "HBoxModel",
          "state": {
            "_view_name": "HBoxView",
            "_dom_classes": [],
            "_model_name": "HBoxModel",
            "_view_module": "@jupyter-widgets/controls",
            "_model_module_version": "1.5.0",
            "_view_count": null,
            "_view_module_version": "1.5.0",
            "box_style": "",
            "layout": "IPY_MODEL_9472a35ffb524d4797e9e16e8ce925e0",
            "_model_module": "@jupyter-widgets/controls",
            "children": [
              "IPY_MODEL_31d1126fe2764176b12c7bee6ec69c80",
              "IPY_MODEL_14d1f3b620e04771beb02eda21f3b065"
            ]
          }
        },
        "9472a35ffb524d4797e9e16e8ce925e0": {
          "model_module": "@jupyter-widgets/base",
          "model_name": "LayoutModel",
          "state": {
            "_view_name": "LayoutView",
            "grid_template_rows": null,
            "right": null,
            "justify_content": null,
            "_view_module": "@jupyter-widgets/base",
            "overflow": null,
            "_model_module_version": "1.2.0",
            "_view_count": null,
            "flex_flow": null,
            "width": null,
            "min_width": null,
            "border": null,
            "align_items": null,
            "bottom": null,
            "_model_module": "@jupyter-widgets/base",
            "top": null,
            "grid_column": null,
            "overflow_y": null,
            "overflow_x": null,
            "grid_auto_flow": null,
            "grid_area": null,
            "grid_template_columns": null,
            "flex": null,
            "_model_name": "LayoutModel",
            "justify_items": null,
            "grid_row": null,
            "max_height": null,
            "align_content": null,
            "visibility": null,
            "align_self": null,
            "height": null,
            "min_height": null,
            "padding": null,
            "grid_auto_rows": null,
            "grid_gap": null,
            "max_width": null,
            "order": null,
            "_view_module_version": "1.2.0",
            "grid_template_areas": null,
            "object_position": null,
            "object_fit": null,
            "grid_auto_columns": null,
            "margin": null,
            "display": null,
            "left": null
          }
        },
        "31d1126fe2764176b12c7bee6ec69c80": {
          "model_module": "@jupyter-widgets/controls",
          "model_name": "FloatProgressModel",
          "state": {
            "_view_name": "ProgressView",
            "style": "IPY_MODEL_58abbf6114bc43dbb481d98ec1f42784",
            "_dom_classes": [],
            "description": "100%",
            "_model_name": "FloatProgressModel",
            "bar_style": "success",
            "max": 50,
            "_view_module": "@jupyter-widgets/controls",
            "_model_module_version": "1.5.0",
            "value": 50,
            "_view_count": null,
            "_view_module_version": "1.5.0",
            "orientation": "horizontal",
            "min": 0,
            "description_tooltip": null,
            "_model_module": "@jupyter-widgets/controls",
            "layout": "IPY_MODEL_d57d59c0d3f34a79ab6e666b0145b8c4"
          }
        },
        "14d1f3b620e04771beb02eda21f3b065": {
          "model_module": "@jupyter-widgets/controls",
          "model_name": "HTMLModel",
          "state": {
            "_view_name": "HTMLView",
            "style": "IPY_MODEL_1a0c990fecd54e44a382fb7f1d52cd31",
            "_dom_classes": [],
            "description": "",
            "_model_name": "HTMLModel",
            "placeholder": "​",
            "_view_module": "@jupyter-widgets/controls",
            "_model_module_version": "1.5.0",
            "value": " 50/50 [00:28&lt;00:00,  1.76it/s]",
            "_view_count": null,
            "_view_module_version": "1.5.0",
            "description_tooltip": null,
            "_model_module": "@jupyter-widgets/controls",
            "layout": "IPY_MODEL_839b45ed1fd9497ba4dfe8b7e645091d"
          }
        },
        "58abbf6114bc43dbb481d98ec1f42784": {
          "model_module": "@jupyter-widgets/controls",
          "model_name": "ProgressStyleModel",
          "state": {
            "_view_name": "StyleView",
            "_model_name": "ProgressStyleModel",
            "description_width": "initial",
            "_view_module": "@jupyter-widgets/base",
            "_model_module_version": "1.5.0",
            "_view_count": null,
            "_view_module_version": "1.2.0",
            "bar_color": null,
            "_model_module": "@jupyter-widgets/controls"
          }
        },
        "d57d59c0d3f34a79ab6e666b0145b8c4": {
          "model_module": "@jupyter-widgets/base",
          "model_name": "LayoutModel",
          "state": {
            "_view_name": "LayoutView",
            "grid_template_rows": null,
            "right": null,
            "justify_content": null,
            "_view_module": "@jupyter-widgets/base",
            "overflow": null,
            "_model_module_version": "1.2.0",
            "_view_count": null,
            "flex_flow": null,
            "width": null,
            "min_width": null,
            "border": null,
            "align_items": null,
            "bottom": null,
            "_model_module": "@jupyter-widgets/base",
            "top": null,
            "grid_column": null,
            "overflow_y": null,
            "overflow_x": null,
            "grid_auto_flow": null,
            "grid_area": null,
            "grid_template_columns": null,
            "flex": null,
            "_model_name": "LayoutModel",
            "justify_items": null,
            "grid_row": null,
            "max_height": null,
            "align_content": null,
            "visibility": null,
            "align_self": null,
            "height": null,
            "min_height": null,
            "padding": null,
            "grid_auto_rows": null,
            "grid_gap": null,
            "max_width": null,
            "order": null,
            "_view_module_version": "1.2.0",
            "grid_template_areas": null,
            "object_position": null,
            "object_fit": null,
            "grid_auto_columns": null,
            "margin": null,
            "display": null,
            "left": null
          }
        },
        "1a0c990fecd54e44a382fb7f1d52cd31": {
          "model_module": "@jupyter-widgets/controls",
          "model_name": "DescriptionStyleModel",
          "state": {
            "_view_name": "StyleView",
            "_model_name": "DescriptionStyleModel",
            "description_width": "",
            "_view_module": "@jupyter-widgets/base",
            "_model_module_version": "1.5.0",
            "_view_count": null,
            "_view_module_version": "1.2.0",
            "_model_module": "@jupyter-widgets/controls"
          }
        },
        "839b45ed1fd9497ba4dfe8b7e645091d": {
          "model_module": "@jupyter-widgets/base",
          "model_name": "LayoutModel",
          "state": {
            "_view_name": "LayoutView",
            "grid_template_rows": null,
            "right": null,
            "justify_content": null,
            "_view_module": "@jupyter-widgets/base",
            "overflow": null,
            "_model_module_version": "1.2.0",
            "_view_count": null,
            "flex_flow": null,
            "width": null,
            "min_width": null,
            "border": null,
            "align_items": null,
            "bottom": null,
            "_model_module": "@jupyter-widgets/base",
            "top": null,
            "grid_column": null,
            "overflow_y": null,
            "overflow_x": null,
            "grid_auto_flow": null,
            "grid_area": null,
            "grid_template_columns": null,
            "flex": null,
            "_model_name": "LayoutModel",
            "justify_items": null,
            "grid_row": null,
            "max_height": null,
            "align_content": null,
            "visibility": null,
            "align_self": null,
            "height": null,
            "min_height": null,
            "padding": null,
            "grid_auto_rows": null,
            "grid_gap": null,
            "max_width": null,
            "order": null,
            "_view_module_version": "1.2.0",
            "grid_template_areas": null,
            "object_position": null,
            "object_fit": null,
            "grid_auto_columns": null,
            "margin": null,
            "display": null,
            "left": null
          }
        }
      }
    }
  },
  "cells": [
    {
      "cell_type": "code",
      "metadata": {
        "colab": {
          "base_uri": "https://localhost:8080/"
        },
        "id": "v0o4U_ELfMXy",
        "outputId": "3a983c8c-a7c3-4b03-972d-abe2fd284a8f"
      },
      "source": [
        "from google.colab import drive\n",
        "drive.mount('/content/gdrive/')"
      ],
      "execution_count": 1,
      "outputs": [
        {
          "output_type": "stream",
          "text": [
            "Mounted at /content/gdrive/\n"
          ],
          "name": "stdout"
        }
      ]
    },
    {
      "cell_type": "code",
      "metadata": {
        "id": "oFu-SJr8ffDq"
      },
      "source": [
        "import cv2\n",
        "import numpy as np\n",
        "import matplotlib.pyplot as plt\n",
        "import csv\n",
        "import os\n",
        "from tqdm.notebook import tqdm"
      ],
      "execution_count": 16,
      "outputs": []
    },
    {
      "cell_type": "code",
      "metadata": {
        "id": "WrDKPINs3Ger"
      },
      "source": [
        "def mse(img): # Error between input image and white image\n",
        "  return np.sum((255-img)**2)/(np.shape(img)[0]*np.shape(img)[1])\n",
        "  \n",
        "def is_pushed(img): # image is pushed image if error is lager than threshold(200) (check image is almost white)\n",
        "                    # when not pushed, image is almost white\n",
        "  return 1 if mse(img) > 200 else 0"
      ],
      "execution_count": 3,
      "outputs": []
    },
    {
      "cell_type": "code",
      "metadata": {
        "id": "bFEATT3m51cd"
      },
      "source": [
        "# 저장 path 설정\n",
        "drivepath = \"/content/gdrive/MyDrive/\"\n",
        "vidname = \"kart_test.mp4\"                            # video 파일 이름\n",
        "capdir = f\"cap2_{vidname}/\"                # 이미지 저장 directory 이름\n",
        "csvname = f\"{vidname}.csv\"                # csv 파일 이름\n",
        "cappath = os.path.join(drivepath,capdir)  # 이미지 저장 경로\n",
        "csvpath = os.path.join(drivepath, \"csv/\")  # csv 파일 경로\n",
        "vidpath = os.path.join(drivepath, vidname)\n",
        "\n",
        "# directory 없을 시 생성\n",
        "if not os.path.exists(cappath):\n",
        "  os.makedirs(cappath)\n",
        "\n",
        "if not os.path.exists(csvpath):\n",
        "  os.makedirs(csvpath)"
      ],
      "execution_count": 11,
      "outputs": []
    },
    {
      "cell_type": "code",
      "metadata": {
        "id": "nnP2_cIkfryR"
      },
      "source": [
        "# csv, 비디오 파일 open\n",
        "cap = cv2.VideoCapture(vidpath)\n",
        "fcsv = open(os.path.join(csvpath+csvname),'w',encoding='utf-8')\n",
        "wrcsv = csv.writer(fcsv)"
      ],
      "execution_count": 12,
      "outputs": []
    },
    {
      "cell_type": "markdown",
      "metadata": {
        "id": "cy0DUh0KhAXo"
      },
      "source": [
        "영상 추출 관련 기본 데이터"
      ]
    },
    {
      "cell_type": "code",
      "metadata": {
        "colab": {
          "base_uri": "https://localhost:8080/"
        },
        "id": "iOlJYs87f1ip",
        "outputId": "73a0ef49-8dc7-4455-a038-9363c35d864f"
      },
      "source": [
        "fps = round(cap.get(cv2.CAP_PROP_FPS))\n",
        "start_sec = 105          # Start time\n",
        "end_sec = 110   # End time\n",
        "interval = 0.1    # Time interval\n",
        "# 단위는 초\n",
        "\n",
        "print(f\"fps : {fps}\")"
      ],
      "execution_count": 13,
      "outputs": [
        {
          "output_type": "stream",
          "text": [
            "fps : 60\n"
          ],
          "name": "stdout"
        }
      ]
    },
    {
      "cell_type": "code",
      "metadata": {
        "id": "qhp7AGIow5WK"
      },
      "source": [
        "# top left position of key\n",
        "# up, left, right, ctrl, shift, down \n",
        "key_pos = [(1265,914), (1188,992), (1343,992), (1092,992), (1092,914), (1265,992)]\n",
        "\n",
        "# 키 인식 이미지 크기\n",
        "key_size = 20\n",
        "\n",
        "prevpath = \"\""
      ],
      "execution_count": 14,
      "outputs": []
    },
    {
      "cell_type": "code",
      "metadata": {
        "id": "hK6jQOCchLBk",
        "colab": {
          "base_uri": "https://localhost:8080/",
          "height": 66,
          "referenced_widgets": [
            "2083f34ea77b467089a3fa4dde11aac7",
            "9472a35ffb524d4797e9e16e8ce925e0",
            "31d1126fe2764176b12c7bee6ec69c80",
            "14d1f3b620e04771beb02eda21f3b065",
            "58abbf6114bc43dbb481d98ec1f42784",
            "d57d59c0d3f34a79ab6e666b0145b8c4",
            "1a0c990fecd54e44a382fb7f1d52cd31",
            "839b45ed1fd9497ba4dfe8b7e645091d"
          ]
        },
        "outputId": "db547084-01a6-4c65-c809-fcbaf771e135"
      },
      "source": [
        "for t in tqdm(np.arange(start_sec, end_sec, interval)):\n",
        "  cap.set(cv2.CAP_PROP_POS_MSEC, t * 1000)\n",
        "  ret,frame = cap.read()\n",
        "\n",
        "  if not ret:\n",
        "    print(\"영상 시간 초과 또는 영상 관련 오류\")\n",
        "\n",
        "  # 키 입력 추출\n",
        "  key_array = [is_pushed(frame[index[1]:index[1]+key_size,index[0]:index[0]+key_size]) for index in key_pos]\n",
        "\n",
        "  # 추출된 키 입력을 string type 변경\n",
        "  keystring = ''.join(str(key) for key in key_array)\n",
        "  #print(f\"key string at {t} is {keystring}\")\n",
        "\n",
        "  # 게임 화면만 저장\n",
        "  cropped_img = frame[:1080,:1440]\n",
        "\n",
        "  # 이미지 파일에서 키 뷰어부분 마스킹\n",
        "  frame[881:1080,1056:1440] = 0\n",
        "\n",
        "  # 이미지 저장 경로\n",
        "  imgpath = os.path.join(capdir,f\"t{t}.png\")\n",
        "\n",
        "  # 이미지 저장\n",
        "  cv2.imwrite(os.path.join(drivepath,imgpath), cropped_img)\n",
        "\n",
        "  # csv 파일 저장 (이미지 저장 경로, 이전 입력)\n",
        "  wrcsv.writerow([prevpath,keystring])\n",
        "\n",
        "  t += interval\n",
        "  prevpath = imgpath"
      ],
      "execution_count": 17,
      "outputs": [
        {
          "output_type": "display_data",
          "data": {
            "application/vnd.jupyter.widget-view+json": {
              "model_id": "2083f34ea77b467089a3fa4dde11aac7",
              "version_minor": 0,
              "version_major": 2
            },
            "text/plain": [
              "HBox(children=(FloatProgress(value=0.0, max=50.0), HTML(value='')))"
            ]
          },
          "metadata": {
            "tags": []
          }
        },
        {
          "output_type": "stream",
          "text": [
            "\n"
          ],
          "name": "stdout"
        }
      ]
    },
    {
      "cell_type": "code",
      "metadata": {
        "id": "lErwSnozhkPa"
      },
      "source": [
        "cap.release()\n",
        "fcsv.close()"
      ],
      "execution_count": 18,
      "outputs": []
    },
    {
      "cell_type": "code",
      "metadata": {
        "id": "wrtyPwKn6byo"
      },
      "source": [
        ""
      ],
      "execution_count": null,
      "outputs": []
    }
  ]
}