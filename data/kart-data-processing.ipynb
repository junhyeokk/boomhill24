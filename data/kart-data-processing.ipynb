{
  "nbformat": 4,
  "nbformat_minor": 0,
  "metadata": {
    "colab": {
      "name": "kart-data-processing.ipynb",
      "provenance": [],
      "collapsed_sections": [],
      "include_colab_link": true
    },
    "kernelspec": {
      "name": "python3",
      "display_name": "Python 3"
    },
    "language_info": {
      "name": "python"
    }
  },
  "cells": [
    {
      "cell_type": "markdown",
      "metadata": {
        "id": "view-in-github",
        "colab_type": "text"
      },
      "source": [
        "<a href=\"https://colab.research.google.com/github/junhyeokk/boomhill24/blob/main/data/kart-data-processing.ipynb\" target=\"_parent\"><img src=\"https://colab.research.google.com/assets/colab-badge.svg\" alt=\"Open In Colab\"/></a>"
      ]
    },
    {
      "cell_type": "code",
      "metadata": {
        "colab": {
          "base_uri": "https://localhost:8080/"
        },
        "id": "v0o4U_ELfMXy",
        "outputId": "6bfd9ecd-2a4d-4d9e-88a1-a34f009a40f6"
      },
      "source": [
        "from google.colab import drive\n",
        "drive.mount('/content/gdrive/')"
      ],
      "execution_count": 150,
      "outputs": [
        {
          "output_type": "stream",
          "text": [
            "Drive already mounted at /content/gdrive/; to attempt to forcibly remount, call drive.mount(\"/content/gdrive/\", force_remount=True).\n"
          ],
          "name": "stdout"
        }
      ]
    },
    {
      "cell_type": "code",
      "metadata": {
        "id": "oFu-SJr8ffDq"
      },
      "source": [
        "import cv2\n",
        "import numpy as np\n",
        "import matplotlib.pyplot as plt\n",
        "import csv\n",
        "import os"
      ],
      "execution_count": 151,
      "outputs": []
    },
    {
      "cell_type": "code",
      "metadata": {
        "id": "WrDKPINs3Ger"
      },
      "source": [
        "def mse(img): # Error between input image and white image\n",
        "  return np.sum((255-img)**2)/(np.shape(img)[0]*np.shape(img)[1])\n",
        "  \n",
        "def is_pushed(img): # image is pushed image if error is lager than threshold(200) (check image is almost white)\n",
        "                    # when not pushed, image is almost white\n",
        "  return 1 if mse(img) > 200 else 0"
      ],
      "execution_count": 152,
      "outputs": []
    },
    {
      "cell_type": "code",
      "metadata": {
        "id": "bFEATT3m51cd"
      },
      "source": [
        "# 저장 path 설정\n",
        "drivepath = \"/content/gdrive/MyDrive/\"\n",
        "vidname = \"m2\"\n",
        "vidpath = os.path.join(drivepath,vidname+\".mp4\")\n",
        "cappath = os.path.join(drivepath,vidname)\n",
        "csvpath = os.path.join(cappath,vidname+\".csv\")\n",
        "\n",
        "if not os.path.exists(cappath):\n",
        "  os.makedirs(cappath)\n"
      ],
      "execution_count": 153,
      "outputs": []
    },
    {
      "cell_type": "code",
      "metadata": {
        "id": "nnP2_cIkfryR"
      },
      "source": [
        "# csv, 비디오 파일 open\n",
        "cap = cv2.VideoCapture(vidpath)\n",
        "fcsv = open(csvpath,'w',encoding='utf-8')\n",
        "wrcsv = csv.writer(fcsv)"
      ],
      "execution_count": 154,
      "outputs": []
    },
    {
      "cell_type": "markdown",
      "metadata": {
        "id": "cy0DUh0KhAXo"
      },
      "source": [
        "영상 추출 관련 기본 데이터"
      ]
    },
    {
      "cell_type": "code",
      "metadata": {
        "colab": {
          "base_uri": "https://localhost:8080/"
        },
        "id": "iOlJYs87f1ip",
        "outputId": "0ba3eec1-8e78-45a2-f759-d37d33e687c2"
      },
      "source": [
        "fps = round(cap.get(cv2.CAP_PROP_FPS))\n",
        "t = 30          # Start time\n",
        "end_sec = 110   # End time\n",
        "interval = 5    # Time interval\n",
        "# 단위는 초\n",
        "\n",
        "print(f\"fps : {fps}\")"
      ],
      "execution_count": 155,
      "outputs": [
        {
          "output_type": "stream",
          "text": [
            "fps : 60\n"
          ],
          "name": "stdout"
        }
      ]
    },
    {
      "cell_type": "code",
      "metadata": {
        "id": "qhp7AGIow5WK"
      },
      "source": [
        "# top left position of key\n",
        "# up, left, right, ctrl, shift, down \n",
        "key_pos = [(1265,914), (1188,992), (1343,992), (1092,992), (1092,914), (1265,992)]\n",
        "\n",
        "key_size = 20\n",
        "\n",
        "previnput = \"000000\""
      ],
      "execution_count": 156,
      "outputs": []
    },
    {
      "cell_type": "code",
      "metadata": {
        "id": "hK6jQOCchLBk",
        "colab": {
          "base_uri": "https://localhost:8080/"
        },
        "outputId": "7172f20e-017e-4751-c4a2-60be98f0a9b9"
      },
      "source": [
        "while t <= end_sec:\n",
        "  cap.set(cv2.CAP_PROP_POS_MSEC, t * 1000)\n",
        "  ret,frame = cap.read()\n",
        "\n",
        "  if not ret:\n",
        "    print(\"영상 시간 초과 또는 영상 관련 오류\")\n",
        "\n",
        "  # 키 입력 추출\n",
        "  key_array = [is_pushed(frame[index[1]:index[1]+key_size,index[0]:index[0]+key_size]) for index in key_pos]\n",
        "\n",
        "  # 추출된 키 입력을 string type 변경\n",
        "  keystring = ''.join(str(key) for key in key_array)\n",
        "  print(f\"key string at {t} is {keystring}\")\n",
        "\n",
        "  # 게임 화면만 저장\n",
        "  cropped_img = frame[:1080,:1440]\n",
        "\n",
        "  # 이미지 파일에서 키 뷰어부분 마스킹\n",
        "  frame[881:1080,1056:1440] = 0\n",
        "\n",
        "  # 이미지 저장 경로\n",
        "  imgpath = os.path.join(cappath,f\"t{t}.png\")\n",
        "\n",
        "  # 이미지 저장\n",
        "  cv2.imwrite(imgpath, cropped_img)\n",
        "\n",
        "  # csv 파일 저장\n",
        "  wrcsv.writerow([imgpath,previnput])\n",
        "\n",
        "  t += interval\n",
        "  previnput = keystring"
      ],
      "execution_count": 157,
      "outputs": [
        {
          "output_type": "stream",
          "text": [
            "key string at 30 is 000000\n",
            "key string at 35 is 000000\n",
            "key string at 40 is 000000\n",
            "key string at 45 is 000000\n",
            "key string at 50 is 110000\n",
            "key string at 55 is 110000\n",
            "key string at 60 is 100000\n",
            "key string at 65 is 110000\n",
            "key string at 70 is 101000\n",
            "key string at 75 is 101000\n",
            "key string at 80 is 100000\n",
            "key string at 85 is 100000\n",
            "key string at 90 is 100000\n",
            "key string at 95 is 101000\n",
            "key string at 100 is 101000\n",
            "key string at 105 is 101000\n",
            "key string at 110 is 101010\n"
          ],
          "name": "stdout"
        }
      ]
    },
    {
      "cell_type": "code",
      "metadata": {
        "id": "lErwSnozhkPa"
      },
      "source": [
        "cap.release()\n",
        "fcsv.close()"
      ],
      "execution_count": 158,
      "outputs": []
    }
  ]
}