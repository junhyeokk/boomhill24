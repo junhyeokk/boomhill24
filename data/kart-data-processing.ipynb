{
  "nbformat": 4,
  "nbformat_minor": 0,
  "metadata": {
    "colab": {
      "name": "kart-data-processing.ipynb",
      "provenance": [],
      "collapsed_sections": []
    },
    "kernelspec": {
      "name": "python3",
      "display_name": "Python 3"
    },
    "language_info": {
      "name": "python"
    }
  },
  "cells": [
    {
      "cell_type": "code",
      "metadata": {
        "colab": {
          "base_uri": "https://localhost:8080/"
        },
        "id": "v0o4U_ELfMXy",
        "outputId": "6c65edac-83eb-4883-d7f2-246f6170bffc"
      },
      "source": [
        "from google.colab import drive\n",
        "drive.mount('/content/gdrive/')"
      ],
      "execution_count": null,
      "outputs": [
        {
          "output_type": "stream",
          "text": [
            "Mounted at /content/gdrive/\n"
          ],
          "name": "stdout"
        }
      ]
    },
    {
      "cell_type": "code",
      "metadata": {
        "id": "oFu-SJr8ffDq"
      },
      "source": [
        "import cv2"
      ],
      "execution_count": 24,
      "outputs": []
    },
    {
      "cell_type": "code",
      "metadata": {
        "id": "nnP2_cIkfryR"
      },
      "source": [
        "cap = cv2.VideoCapture(\"/content/gdrive/MyDrive/kart_test.mp4\")"
      ],
      "execution_count": 39,
      "outputs": []
    },
    {
      "cell_type": "markdown",
      "metadata": {
        "id": "cy0DUh0KhAXo"
      },
      "source": [
        "영상 추출 관련 기본 데이터"
      ]
    },
    {
      "cell_type": "code",
      "metadata": {
        "colab": {
          "base_uri": "https://localhost:8080/"
        },
        "id": "iOlJYs87f1ip",
        "outputId": "8a9317cc-43ce-4f54-9477-a1d8b458fc07"
      },
      "source": [
        "fps = round(cap.get(cv2.CAP_PROP_FPS))\n",
        "t = 1051.10\n",
        "end_sec = 1101.10\n",
        "interval = 10\n",
        "# 단위는 초\n",
        "print(f\"fps : {fps}\")"
      ],
      "execution_count": 40,
      "outputs": [
        {
          "output_type": "stream",
          "text": [
            "fps : 60\n"
          ],
          "name": "stdout"
        }
      ]
    },
    {
      "cell_type": "code",
      "metadata": {
        "id": "hK6jQOCchLBk"
      },
      "source": [
        "while t <= end_sec:\n",
        "  cap.set(cv2.CAP_PROP_POS_MSEC, t * 1000)\n",
        "  ret, frame = cap.read()\n",
        "\n",
        "  if not ret:\n",
        "    print(\"영상 시간 초과 또는 영상 관련 오류\")\n",
        "\n",
        "  cropped_img = frame[:1080, :1440]\n",
        "  cv2.imwrite(f\"/content/gdrive/MyDrive/kart_test/test_kart_image{t}.jpg\", cropped_img)\n",
        "  # 키 입력 추출\n",
        "  # csv 형식으로 저장 (해당 화면 이미지 파일, 다음 키 입력)\n",
        "  # 이미지 파일에서 키 뷰어부분 마스킹\n",
        "  t += interval"
      ],
      "execution_count": 41,
      "outputs": []
    },
    {
      "cell_type": "code",
      "metadata": {
        "id": "lErwSnozhkPa"
      },
      "source": [
        "cap.release()"
      ],
      "execution_count": 42,
      "outputs": []
    },
    {
      "cell_type": "code",
      "metadata": {
        "id": "_ZGmLhhNlYca"
      },
      "source": [
        ""
      ],
      "execution_count": null,
      "outputs": []
    }
  ]
}