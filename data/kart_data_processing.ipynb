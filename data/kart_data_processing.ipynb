{
  "nbformat": 4,
  "nbformat_minor": 0,
  "metadata": {
    "colab": {
      "name": "kart-data-processing.ipynb",
      "provenance": [],
      "collapsed_sections": [],
      "include_colab_link": true
    },
    "kernelspec": {
      "name": "python3",
      "display_name": "Python 3"
    },
    "language_info": {
      "name": "python"
    },
    "widgets": {
      "application/vnd.jupyter.widget-state+json": {
        "3e635e3b05fa4a80bfe7ef63ee5330ac": {
          "model_module": "@jupyter-widgets/controls",
          "model_name": "HBoxModel",
          "state": {
            "_view_name": "HBoxView",
            "_dom_classes": [],
            "_model_name": "HBoxModel",
            "_view_module": "@jupyter-widgets/controls",
            "_model_module_version": "1.5.0",
            "_view_count": null,
            "_view_module_version": "1.5.0",
            "box_style": "",
            "layout": "IPY_MODEL_f65df9b2f50e4a1bbf178baa8c3a7f26",
            "_model_module": "@jupyter-widgets/controls",
            "children": [
              "IPY_MODEL_ad96ce0986b048e98d6be8161eeaea34",
              "IPY_MODEL_7710767445ac4b62b17ec327637b015a"
            ]
          }
        },
        "f65df9b2f50e4a1bbf178baa8c3a7f26": {
          "model_module": "@jupyter-widgets/base",
          "model_name": "LayoutModel",
          "state": {
            "_view_name": "LayoutView",
            "grid_template_rows": null,
            "right": null,
            "justify_content": null,
            "_view_module": "@jupyter-widgets/base",
            "overflow": null,
            "_model_module_version": "1.2.0",
            "_view_count": null,
            "flex_flow": null,
            "width": null,
            "min_width": null,
            "border": null,
            "align_items": null,
            "bottom": null,
            "_model_module": "@jupyter-widgets/base",
            "top": null,
            "grid_column": null,
            "overflow_y": null,
            "overflow_x": null,
            "grid_auto_flow": null,
            "grid_area": null,
            "grid_template_columns": null,
            "flex": null,
            "_model_name": "LayoutModel",
            "justify_items": null,
            "grid_row": null,
            "max_height": null,
            "align_content": null,
            "visibility": null,
            "align_self": null,
            "height": null,
            "min_height": null,
            "padding": null,
            "grid_auto_rows": null,
            "grid_gap": null,
            "max_width": null,
            "order": null,
            "_view_module_version": "1.2.0",
            "grid_template_areas": null,
            "object_position": null,
            "object_fit": null,
            "grid_auto_columns": null,
            "margin": null,
            "display": null,
            "left": null
          }
        },
        "ad96ce0986b048e98d6be8161eeaea34": {
          "model_module": "@jupyter-widgets/controls",
          "model_name": "FloatProgressModel",
          "state": {
            "_view_name": "ProgressView",
            "style": "IPY_MODEL_0aa3993066164f2b9366e7e666a60009",
            "_dom_classes": [],
            "description": "100%",
            "_model_name": "FloatProgressModel",
            "bar_style": "success",
            "max": 1070,
            "_view_module": "@jupyter-widgets/controls",
            "_model_module_version": "1.5.0",
            "value": 1070,
            "_view_count": null,
            "_view_module_version": "1.5.0",
            "orientation": "horizontal",
            "min": 0,
            "description_tooltip": null,
            "_model_module": "@jupyter-widgets/controls",
            "layout": "IPY_MODEL_7e928215fc704ab6a416f88c5202862b"
          }
        },
        "7710767445ac4b62b17ec327637b015a": {
          "model_module": "@jupyter-widgets/controls",
          "model_name": "HTMLModel",
          "state": {
            "_view_name": "HTMLView",
            "style": "IPY_MODEL_97b487dff3354220b77865e062c11042",
            "_dom_classes": [],
            "description": "",
            "_model_name": "HTMLModel",
            "placeholder": "​",
            "_view_module": "@jupyter-widgets/controls",
            "_model_module_version": "1.5.0",
            "value": " 1070/1070 [11:55&lt;00:00,  1.50it/s]",
            "_view_count": null,
            "_view_module_version": "1.5.0",
            "description_tooltip": null,
            "_model_module": "@jupyter-widgets/controls",
            "layout": "IPY_MODEL_d066dfd676e244af868de7fa4ca8b04a"
          }
        },
        "0aa3993066164f2b9366e7e666a60009": {
          "model_module": "@jupyter-widgets/controls",
          "model_name": "ProgressStyleModel",
          "state": {
            "_view_name": "StyleView",
            "_model_name": "ProgressStyleModel",
            "description_width": "initial",
            "_view_module": "@jupyter-widgets/base",
            "_model_module_version": "1.5.0",
            "_view_count": null,
            "_view_module_version": "1.2.0",
            "bar_color": null,
            "_model_module": "@jupyter-widgets/controls"
          }
        },
        "7e928215fc704ab6a416f88c5202862b": {
          "model_module": "@jupyter-widgets/base",
          "model_name": "LayoutModel",
          "state": {
            "_view_name": "LayoutView",
            "grid_template_rows": null,
            "right": null,
            "justify_content": null,
            "_view_module": "@jupyter-widgets/base",
            "overflow": null,
            "_model_module_version": "1.2.0",
            "_view_count": null,
            "flex_flow": null,
            "width": null,
            "min_width": null,
            "border": null,
            "align_items": null,
            "bottom": null,
            "_model_module": "@jupyter-widgets/base",
            "top": null,
            "grid_column": null,
            "overflow_y": null,
            "overflow_x": null,
            "grid_auto_flow": null,
            "grid_area": null,
            "grid_template_columns": null,
            "flex": null,
            "_model_name": "LayoutModel",
            "justify_items": null,
            "grid_row": null,
            "max_height": null,
            "align_content": null,
            "visibility": null,
            "align_self": null,
            "height": null,
            "min_height": null,
            "padding": null,
            "grid_auto_rows": null,
            "grid_gap": null,
            "max_width": null,
            "order": null,
            "_view_module_version": "1.2.0",
            "grid_template_areas": null,
            "object_position": null,
            "object_fit": null,
            "grid_auto_columns": null,
            "margin": null,
            "display": null,
            "left": null
          }
        },
        "97b487dff3354220b77865e062c11042": {
          "model_module": "@jupyter-widgets/controls",
          "model_name": "DescriptionStyleModel",
          "state": {
            "_view_name": "StyleView",
            "_model_name": "DescriptionStyleModel",
            "description_width": "",
            "_view_module": "@jupyter-widgets/base",
            "_model_module_version": "1.5.0",
            "_view_count": null,
            "_view_module_version": "1.2.0",
            "_model_module": "@jupyter-widgets/controls"
          }
        },
        "d066dfd676e244af868de7fa4ca8b04a": {
          "model_module": "@jupyter-widgets/base",
          "model_name": "LayoutModel",
          "state": {
            "_view_name": "LayoutView",
            "grid_template_rows": null,
            "right": null,
            "justify_content": null,
            "_view_module": "@jupyter-widgets/base",
            "overflow": null,
            "_model_module_version": "1.2.0",
            "_view_count": null,
            "flex_flow": null,
            "width": null,
            "min_width": null,
            "border": null,
            "align_items": null,
            "bottom": null,
            "_model_module": "@jupyter-widgets/base",
            "top": null,
            "grid_column": null,
            "overflow_y": null,
            "overflow_x": null,
            "grid_auto_flow": null,
            "grid_area": null,
            "grid_template_columns": null,
            "flex": null,
            "_model_name": "LayoutModel",
            "justify_items": null,
            "grid_row": null,
            "max_height": null,
            "align_content": null,
            "visibility": null,
            "align_self": null,
            "height": null,
            "min_height": null,
            "padding": null,
            "grid_auto_rows": null,
            "grid_gap": null,
            "max_width": null,
            "order": null,
            "_view_module_version": "1.2.0",
            "grid_template_areas": null,
            "object_position": null,
            "object_fit": null,
            "grid_auto_columns": null,
            "margin": null,
            "display": null,
            "left": null
          }
        }
      }
    }
  },
  "cells": [
    {
      "cell_type": "markdown",
      "metadata": {
        "id": "view-in-github",
        "colab_type": "text"
      },
      "source": [
        "<a href=\"https://colab.research.google.com/github/junhyeokk/boomhill24/blob/main/data/kart_data_processing.ipynb\" target=\"_parent\"><img src=\"https://colab.research.google.com/assets/colab-badge.svg\" alt=\"Open In Colab\"/></a>"
      ]
    },
    {
      "cell_type": "code",
      "metadata": {
        "colab": {
          "base_uri": "https://localhost:8080/"
        },
        "id": "v0o4U_ELfMXy",
        "outputId": "c49137fa-0991-4d7f-a11d-a13068797496"
      },
      "source": [
        "from google.colab import drive\n",
        "drive.mount('/content/gdrive/')"
      ],
      "execution_count": null,
      "outputs": [
        {
          "output_type": "stream",
          "text": [
            "Drive already mounted at /content/gdrive/; to attempt to forcibly remount, call drive.mount(\"/content/gdrive/\", force_remount=True).\n"
          ],
          "name": "stdout"
        }
      ]
    },
    {
      "cell_type": "code",
      "metadata": {
        "id": "oFu-SJr8ffDq"
      },
      "source": [
        "import cv2\n",
        "import numpy as np\n",
        "import matplotlib.pyplot as plt\n",
        "import csv\n",
        "import os\n",
        "from tqdm.notebook import tqdm"
      ],
      "execution_count": null,
      "outputs": []
    },
    {
      "cell_type": "code",
      "metadata": {
        "id": "WrDKPINs3Ger"
      },
      "source": [
        "def mse(img): # Error between input image and white image\n",
        "  return np.sum((255-img)**2)/(np.shape(img)[0]*np.shape(img)[1])\n",
        "  \n",
        "def is_pushed(img): # image is pushed image if error is lager than threshold(200) (check image is almost white)\n",
        "                    # when not pushed, image is almost white\n",
        "  return 1 if mse(img) > 200 else 0"
      ],
      "execution_count": null,
      "outputs": []
    },
    {
      "cell_type": "code",
      "metadata": {
        "id": "eBBAHaosmp3B"
      },
      "source": [
        "# video 파일 이름\n",
        "vidname = \"kart_test\"\n",
        "# 카트가 사용하는 엔진 입력\n",
        "enginetype = 'x'"
      ],
      "execution_count": null,
      "outputs": []
    },
    {
      "cell_type": "code",
      "metadata": {
        "id": "bFEATT3m51cd"
      },
      "source": [
        "# 저장 path 설정\n",
        "drivepath = \"/content/gdrive/MyDrive/\"\n",
        "capdir1 = f\"{vidname}_screen_mark3_4/\"             # 이미지 저장 directory 이름\n",
        "capdir2 = f\"{vidname}_minimap_mark3_4\"\n",
        "csvname = f\"{vidname}_minimap_mark3_4.csv\"                # csv 파일 이름\n",
        "cappath1 = os.path.join(drivepath, capdir1)  # 이미지 저장 경로\n",
        "cappath2 = os.path.join(drivepath, capdir2)\n",
        "csvpath = os.path.join(drivepath, \"csv/\")  # csv 파일 경로\n",
        "vidpath = os.path.join(drivepath, vidname + \".mp4\")\n",
        "\n",
        "# directory 없을 시 생성\n",
        "if not os.path.exists(cappath1):\n",
        "  os.makedirs(cappath1)\n",
        "\n",
        "if not os.path.exists(cappath2):\n",
        "  os.makedirs(cappath2)\n",
        "\n",
        "if not os.path.exists(csvpath):\n",
        "  os.makedirs(csvpath)"
      ],
      "execution_count": null,
      "outputs": []
    },
    {
      "cell_type": "code",
      "metadata": {
        "id": "nnP2_cIkfryR"
      },
      "source": [
        "# csv 파일 생성, 비디오 파일 open\n",
        "cap = cv2.VideoCapture(vidpath)\n",
        "fcsv = open(os.path.join(csvpath+csvname),'w',encoding='utf-8')\n",
        "wrcsv = csv.writer(fcsv)"
      ],
      "execution_count": null,
      "outputs": []
    },
    {
      "cell_type": "code",
      "metadata": {
        "id": "qhp7AGIow5WK"
      },
      "source": [
        "# top left position of key\n",
        "# up, left, right, ctrl, shift, down \n",
        "key_pos = [(1265,914), (1188,992), (1343,992), (1092,992), (1092,914), (1265,992)]\n",
        "\n",
        "# 키 인식 이미지 크기\n",
        "key_size = 20\n",
        "\n",
        "# 계기판 숫자 위치 (V1 엔진 or X 엔진)\n",
        "# 3자리 일 경우\n",
        "if enginetype == 'v1':\n",
        "  gauge100pos = [649,965]\n",
        "  gauge010pos = [697,965]\n",
        "  gauge001pos = [745,965]\n",
        "  # 2자리 일 경우\n",
        "  gauge10pos = [673,965]\n",
        "  gauge01pos = [721,965]\n",
        "  gauge_w = 48; gauge_h = 56\n",
        "if enginetype == 'x':\n",
        "  gauge100pos = [672,982]\n",
        "  gauge010pos = [703,982]\n",
        "  gauge001pos = [734,982]\n",
        "  # 2자리 일 경우\n",
        "  gauge10pos = [688,982]\n",
        "  gauge01pos = [719,982]\n",
        "  gauge_w = 31; gauge_h = 56\n",
        "\n",
        "prevpath = \"\"\n",
        "prevminimap = \"\"\n",
        "prevspeed = 0"
      ],
      "execution_count": null,
      "outputs": []
    },
    {
      "cell_type": "code",
      "metadata": {
        "id": "M0fHmDkIpraa",
        "colab": {
          "base_uri": "https://localhost:8080/"
        },
        "outputId": "81ba4c4c-a9fb-461e-bb83-e2724328bde2"
      },
      "source": [
        "gauge = []\n",
        "# 저장된 계기판 숫자 예시 이미지 로드\n",
        "# x 엔진 : /xnum/  v1 엔진 : /v1num/\n",
        "numpath = os.path.join(drivepath,enginetype+'num/')\n",
        "print(numpath)\n",
        "for i in np.arange(10):\n",
        "  gaugepath = os.path.join(numpath + f'/num{i}.png')\n",
        "  gaugenum = cv2.imread(gaugepath, cv2.IMREAD_GRAYSCALE)\n",
        "  _, num_thresh = cv2.threshold(gaugenum, 135, 255, cv2.THRESH_BINARY)\n",
        "  gauge.append(num_thresh)"
      ],
      "execution_count": null,
      "outputs": [
        {
          "output_type": "stream",
          "text": [
            "/content/gdrive/MyDrive/xnum/\n"
          ],
          "name": "stdout"
        }
      ]
    },
    {
      "cell_type": "code",
      "metadata": {
        "id": "9Ry1H7jRSo9f"
      },
      "source": [
        "# 숫자 이미지를 예시 이미지와 매칭\n",
        "def gauge_match(numimg):\n",
        "  _, img_thresh = cv2.threshold(numimg, 135, 255, cv2.THRESH_BINARY)\n",
        "  for i, num in enumerate(gauge):\n",
        "    diff = cv2.bitwise_xor(img_thresh,num)\n",
        "    diffcount = cv2.countNonZero(diff)\n",
        "    #plt.subplot(2,5,i+1)\n",
        "    #plt.imshow(diff,cmap='gray')\n",
        "    if diffcount < 200:\n",
        "      #plt.show()\n",
        "      #print(f'{i}th diff is {diffcount}')\n",
        "      return i\n",
        "  # 매칭하는 이미지가 없다면 0\n",
        "  #plt.show()\n",
        "  return 0"
      ],
      "execution_count": null,
      "outputs": []
    },
    {
      "cell_type": "code",
      "metadata": {
        "id": "Dk1FYgFXfi3c"
      },
      "source": [
        "def gauge_speed(frame):\n",
        "  # 현재 계기판 이미지 자리별 추출 (자리가 매치하지 않으면 0로 계산)\n",
        "  gaugeimg_100 = cv2.cvtColor(frame[gauge100pos[1]:gauge100pos[1]+gauge_h,\n",
        "                                    gauge100pos[0]:gauge100pos[0]+gauge_w],\n",
        "                              cv2.COLOR_BGR2GRAY)\n",
        "  gaugeimg_010 = cv2.cvtColor(frame[gauge010pos[1]:gauge010pos[1]+gauge_h,\n",
        "                                    gauge010pos[0]:gauge010pos[0]+gauge_w],\n",
        "                              cv2.COLOR_BGR2GRAY)\n",
        "  gaugeimg_001 = cv2.cvtColor(frame[gauge001pos[1]:gauge001pos[1]+gauge_h,\n",
        "                                    gauge001pos[0]:gauge001pos[0]+gauge_w],\n",
        "                              cv2.COLOR_BGR2GRAY)  \n",
        "  gaugeimg_10 = cv2.cvtColor(frame[gauge10pos[1]:gauge10pos[1]+gauge_h,\n",
        "                                   gauge10pos[0]:gauge10pos[0]+gauge_w],\n",
        "                             cv2.COLOR_BGR2GRAY)\n",
        "  gaugeimg_01 = cv2.cvtColor(frame[gauge01pos[1]:gauge01pos[1]+gauge_h,\n",
        "                                   gauge01pos[0]:gauge01pos[0]+gauge_w],\n",
        "                              cv2.COLOR_BGR2GRAY)\n",
        "  speed_100 = gauge_match(gaugeimg_100)\n",
        "  speed_010 = gauge_match(gaugeimg_010)\n",
        "  speed_001 = gauge_match(gaugeimg_001)\n",
        "  speed_10 = gauge_match(gaugeimg_10)\n",
        "  speed_01 = gauge_match(gaugeimg_01)\n",
        "\n",
        "  \n",
        "  # 자리가 매치하지 않으면 0으로 계산됨(무시됨)    \n",
        "  return speed_100*100 + speed_010*10 + speed_001 + speed_10*10 + speed_01"
      ],
      "execution_count": null,
      "outputs": []
    },
    {
      "cell_type": "markdown",
      "metadata": {
        "id": "cy0DUh0KhAXo"
      },
      "source": [
        "영상 추출 관련 기본 데이터"
      ]
    },
    {
      "cell_type": "code",
      "metadata": {
        "colab": {
          "base_uri": "https://localhost:8080/"
        },
        "id": "iOlJYs87f1ip",
        "outputId": "06d8503b-2f10-4ad3-e21b-9ee847bd6536"
      },
      "source": [
        "fps = round(cap.get(cv2.CAP_PROP_FPS))\n",
        "start_sec = 1404        # Start time\n",
        "end_sec = 1511         # End time\n",
        "interval = 0.1          # Time interval\n",
        "# 단위는 초\n",
        "\n",
        "print(f\"fps : {fps}\")"
      ],
      "execution_count": null,
      "outputs": [
        {
          "output_type": "stream",
          "text": [
            "fps : 60\n"
          ],
          "name": "stdout"
        }
      ]
    },
    {
      "cell_type": "code",
      "metadata": {
        "id": "hK6jQOCchLBk",
        "colab": {
          "base_uri": "https://localhost:8080/",
          "height": 66,
          "referenced_widgets": [
            "3e635e3b05fa4a80bfe7ef63ee5330ac",
            "f65df9b2f50e4a1bbf178baa8c3a7f26",
            "ad96ce0986b048e98d6be8161eeaea34",
            "7710767445ac4b62b17ec327637b015a",
            "0aa3993066164f2b9366e7e666a60009",
            "7e928215fc704ab6a416f88c5202862b",
            "97b487dff3354220b77865e062c11042",
            "d066dfd676e244af868de7fa4ca8b04a"
          ]
        },
        "outputId": "afc905eb-3e5b-4ca9-915f-293850deb620"
      },
      "source": [
        "for t in tqdm(np.arange(start_sec, end_sec, interval)):\n",
        "  cap.set(cv2.CAP_PROP_POS_MSEC, t * 1000)\n",
        "  ret,frame = cap.read()\n",
        "\n",
        "  if not ret:\n",
        "    print(\"영상 시간 초과 또는 영상 관련 오류\")\n",
        "\n",
        "\n",
        "  '''\n",
        "  speed = gauge_speed(frame)\n",
        "  \n",
        "  # 계기판 이미지 출력 후 비교\n",
        "  gaugeimg_total = cv2.cvtColor(frame[int(gauge100pos[1]):int(gauge100pos[1]+gauge_h),\n",
        "                                   int(gauge100pos[0]):int(gauge001pos[0]+gauge_w)],\n",
        "                              cv2.COLOR_BGR2GRAY)\n",
        "  _, gauge_thresh = cv2.threshold(gaugeimg_total, 135, 255, cv2.THRESH_BINARY)\n",
        "  plt.imshow(gauge_thresh,cmap='gray')\n",
        "  plt.title(speed)\n",
        "  plt.show()\n",
        "  '''\n",
        "\n",
        "\n",
        "\n",
        "  speed = gauge_speed(frame)\n",
        "\n",
        "  # 키 입력 추출\n",
        "  key_array = [is_pushed(frame[index[1]:index[1]+key_size,index[0]:index[0]+key_size]) for index in key_pos]\n",
        "\n",
        "  # 추출된 키 입력을 string type 변경\n",
        "  keystring = ''.join(str(key) for key in key_array)\n",
        "  #print(f\"key string at {t} is {keystring}\")\n",
        "\n",
        "  # 게임 화면만 저장\n",
        "  cropped_img = frame[:1080,:1440]\n",
        "  minimap_img = frame[401:637, 1164:1416]\n",
        "\n",
        "  # 이미지 파일에서 키 뷰어부분 마스킹\n",
        "  frame[881:1080,1056:1440] = 0\n",
        "\n",
        "  # 이미지 저장 경로\n",
        "  imgpath1 = os.path.join(capdir1, f\"t{t}.jpg\")\n",
        "  imgpath2 = os.path.join(capdir2, f\"t{t}.jpg\")\n",
        "\n",
        "  # 이미지 저장\n",
        "  cv2.imwrite(os.path.join(drivepath, imgpath1), cropped_img)\n",
        "  cv2.imwrite(os.path.join(drivepath, imgpath2), minimap_img)\n",
        "\n",
        "  # csv 파일 저장 (이전 이미지 저장 경로, 이전 이미지 속도, 입력)\n",
        "  wrcsv.writerow([prevpath, prevminimap, prevspeed, keystring])\n",
        "\n",
        "  t += interval\n",
        "  prevpath = imgpath1\n",
        "  prevminimap = imgpath2\n",
        "  prevspeed = speed\n",
        "\n"
      ],
      "execution_count": null,
      "outputs": [
        {
          "output_type": "display_data",
          "data": {
            "application/vnd.jupyter.widget-view+json": {
              "model_id": "3e635e3b05fa4a80bfe7ef63ee5330ac",
              "version_minor": 0,
              "version_major": 2
            },
            "text/plain": [
              "HBox(children=(FloatProgress(value=0.0, max=1070.0), HTML(value='')))"
            ]
          },
          "metadata": {
            "tags": []
          }
        },
        {
          "output_type": "stream",
          "text": [
            "\n"
          ],
          "name": "stdout"
        }
      ]
    },
    {
      "cell_type": "code",
      "metadata": {
        "id": "lErwSnozhkPa"
      },
      "source": [
        "cap.release()\n",
        "fcsv.close()"
      ],
      "execution_count": null,
      "outputs": []
    },
    {
      "cell_type": "code",
      "metadata": {
        "id": "wrtyPwKn6byo"
      },
      "source": [
        ""
      ],
      "execution_count": null,
      "outputs": []
    }
  ]
}