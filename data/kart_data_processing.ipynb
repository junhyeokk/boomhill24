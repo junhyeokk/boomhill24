{
  "nbformat": 4,
  "nbformat_minor": 0,
  "metadata": {
    "colab": {
      "name": "kart-data-processing.ipynb",
      "provenance": [],
      "collapsed_sections": [],
      "include_colab_link": true
    },
    "kernelspec": {
      "name": "python3",
      "display_name": "Python 3"
    },
    "language_info": {
      "name": "python"
    }
  },
  "cells": [
    {
      "cell_type": "markdown",
      "metadata": {
        "id": "view-in-github",
        "colab_type": "text"
      },
      "source": [
        "<a href=\"https://colab.research.google.com/github/junhyeokk/boomhill24/blob/main/data/kart_data_processing.ipynb\" target=\"_parent\"><img src=\"https://colab.research.google.com/assets/colab-badge.svg\" alt=\"Open In Colab\"/></a>"
      ]
    },
    {
      "cell_type": "code",
      "metadata": {
        "colab": {
          "base_uri": "https://localhost:8080/"
        },
        "id": "v0o4U_ELfMXy",
        "outputId": "5724b781-0cf6-4fd5-dd93-066cf2d57166"
      },
      "source": [
        "from google.colab import drive\n",
        "drive.mount('/content/gdrive/')"
      ],
      "execution_count": 179,
      "outputs": [
        {
          "output_type": "stream",
          "text": [
            "Drive already mounted at /content/gdrive/; to attempt to forcibly remount, call drive.mount(\"/content/gdrive/\", force_remount=True).\n"
          ],
          "name": "stdout"
        }
      ]
    },
    {
      "cell_type": "code",
      "metadata": {
        "id": "oFu-SJr8ffDq"
      },
      "source": [
        "import cv2\n",
        "import numpy as np\n",
        "import matplotlib.pyplot as plt"
      ],
      "execution_count": 180,
      "outputs": []
    },
    {
      "cell_type": "code",
      "metadata": {
        "id": "nnP2_cIkfryR"
      },
      "source": [
        "cap = cv2.VideoCapture(\"/content/gdrive/MyDrive/m2.mp4\")"
      ],
      "execution_count": 181,
      "outputs": []
    },
    {
      "cell_type": "markdown",
      "metadata": {
        "id": "cy0DUh0KhAXo"
      },
      "source": [
        "영상 추출 관련 기본 데이터"
      ]
    },
    {
      "cell_type": "code",
      "metadata": {
        "colab": {
          "base_uri": "https://localhost:8080/"
        },
        "id": "iOlJYs87f1ip",
        "outputId": "6cb665cb-a43d-4984-a318-a8840344e227"
      },
      "source": [
        "fps = round(cap.get(cv2.CAP_PROP_FPS))\n",
        "t = 30\n",
        "end_sec = 110\n",
        "interval = 5\n",
        "# 단위는 초\n",
        "print(f\"fps : {fps}\")"
      ],
      "execution_count": 182,
      "outputs": [
        {
          "output_type": "stream",
          "text": [
            "fps : 60\n"
          ],
          "name": "stdout"
        }
      ]
    },
    {
      "cell_type": "code",
      "metadata": {
        "id": "fcwJbesLU3a6"
      },
      "source": [
        "up_pos = np.array([[1265,914],[1274,923]])\n",
        "down_pos = np.array([[1265,992],[1274,1001]])\n",
        "left_pos = np.array([[1187,992],[1206,1001]])\n",
        "right_pos = np.array([[1343,992],[1352,1001]])\n",
        "ctrl_pos = np.array([[1091,992],[1110,1001]])\n",
        "shift_pos = np.array([[1091,914],[1110,923]])"
      ],
      "execution_count": 183,
      "outputs": []
    },
    {
      "cell_type": "code",
      "metadata": {
        "id": "hK6jQOCchLBk",
        "colab": {
          "base_uri": "https://localhost:8080/"
        },
        "outputId": "f68926c6-095a-4478-ff16-ed8bd0d947e0"
      },
      "source": [
        "while t <= end_sec:\n",
        "  cap.set(cv2.CAP_PROP_POS_MSEC, t * 1000)\n",
        "  ret,frame = cap.read()\n",
        "\n",
        "  if not ret:\n",
        "    print(\"영상 시간 초과 또는 영상 관련 오류\")\n",
        "\n",
        "  up_pushed = 1 if (np.sum(frame[up_pos[0,1]:up_pos[1,1],up_pos[0,0]:up_pos[1,0]]) < 50000) else 0\n",
        "  down_pushed = 1 if (np.sum(frame[down_pos[0,1]:down_pos[1,1],down_pos[0,0]:down_pos[1,0]]) < 50000) else 0\n",
        "  left_pushed = 1 if (np.sum(frame[left_pos[0,1]:left_pos[1,1],left_pos[0,0]:left_pos[1,0]]) < 50000) else 0\n",
        "  right_pushed = 1 if (np.sum(frame[right_pos[0,1]:right_pos[1,1],right_pos[0,0]:right_pos[1,0]]) < 50000) else 0\n",
        "  ctrl_pushed = 1 if (np.sum(frame[ctrl_pos[0,1]:ctrl_pos[1,1],ctrl_pos[0,0]:ctrl_pos[1,0]]) < 50000) else 0\n",
        "  shift_pushed = 1 if (np.sum(frame[shift_pos[0,1]:shift_pos[1,1],shift_pos[0,0]:shift_pos[1,0]]) < 50000) else 0\n",
        "\n",
        "  key_pushed = [up_pushed,left_pushed,right_pushed,ctrl_pushed,shift_pushed,down_pushed]\n",
        "  keystring = ''.join(map(str,key_pushed))\n",
        "  print(f\"key string at {t} is {keystring}\")\n",
        "  cropped_img = frame[:1080,:1440]\n",
        "  cv2.imwrite(f\"/content/gdrive/MyDrive/kart_cap/kart_image{t}.jpg\", cropped_img)\n",
        "  # 키 입력 추출\n",
        "  # csv 형식으로 저장 (해당 화면 이미지 파일, 다음 키 입력)\n",
        "  # 이미지 파일에서 키 뷰어부분 마스킹\n",
        "  t += interval"
      ],
      "execution_count": 184,
      "outputs": [
        {
          "output_type": "stream",
          "text": [
            "key string at 30 is 000000\n",
            "key string at 35 is 000000\n",
            "key string at 40 is 000000\n",
            "key string at 45 is 000000\n",
            "key string at 50 is 110000\n",
            "key string at 55 is 110000\n",
            "key string at 60 is 100000\n",
            "key string at 65 is 110000\n",
            "key string at 70 is 101000\n",
            "key string at 75 is 101000\n",
            "key string at 80 is 100000\n",
            "key string at 85 is 100000\n",
            "key string at 90 is 100000\n",
            "key string at 95 is 101000\n",
            "key string at 100 is 101000\n",
            "key string at 105 is 101000\n",
            "key string at 110 is 101000\n"
          ],
          "name": "stdout"
        }
      ]
    },
    {
      "cell_type": "code",
      "metadata": {
        "id": "lErwSnozhkPa"
      },
      "source": [
        "cap.release()"
      ],
      "execution_count": 185,
      "outputs": []
    }
  ]
}