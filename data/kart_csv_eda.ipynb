{
  "nbformat": 4,
  "nbformat_minor": 0,
  "metadata": {
    "colab": {
      "name": "kart-csv-eda.ipynb",
      "provenance": [],
      "collapsed_sections": []
    },
    "kernelspec": {
      "name": "python3",
      "display_name": "Python 3"
    },
    "language_info": {
      "name": "python"
    }
  },
  "cells": [
    {
      "cell_type": "code",
      "metadata": {
        "colab": {
          "base_uri": "https://localhost:8080/"
        },
        "id": "RhByyn5mKahy",
        "outputId": "5aa784c0-0d2f-4f78-8b7d-c4328df50dd7"
      },
      "source": [
        "from google.colab import drive\n",
        "drive.mount('/content/gdrive/')"
      ],
      "execution_count": 1,
      "outputs": [
        {
          "output_type": "stream",
          "text": [
            "Mounted at /content/gdrive/\n"
          ],
          "name": "stdout"
        }
      ]
    },
    {
      "cell_type": "code",
      "metadata": {
        "id": "oHjl4Wa_KKDg"
      },
      "source": [
        "import os\n",
        "import numpy as np\n",
        "import pandas as pd\n",
        "import matplotlib.pyplot as plt"
      ],
      "execution_count": 2,
      "outputs": []
    },
    {
      "cell_type": "code",
      "metadata": {
        "id": "-yYrhiOiKnO_",
        "colab": {
          "base_uri": "https://localhost:8080/"
        },
        "outputId": "8bb724db-26cb-4272-9ee2-1989b9d57c86"
      },
      "source": [
        "drivepath = \"/content/gdrive/MyDrive/kart/\"\n",
        "csvpath = os.path.join(drivepath, \"csv/\")  # csv 파일 경로\n",
        "csvList = sorted( os.listdir(csvpath) )\n",
        "print(csvList)"
      ],
      "execution_count": 3,
      "outputs": [
        {
          "output_type": "stream",
          "text": [
            "['kart_test.mp4.csv']\n"
          ],
          "name": "stdout"
        }
      ]
    },
    {
      "cell_type": "code",
      "metadata": {
        "colab": {
          "base_uri": "https://localhost:8080/"
        },
        "id": "4avP3aGRt2qg",
        "outputId": "c22b19fb-8348-403f-ce6e-7920d868133b"
      },
      "source": [
        "csvFile = os.path.join(csvpath, csvList[0])\n",
        "print(csvFile)"
      ],
      "execution_count": 4,
      "outputs": [
        {
          "output_type": "stream",
          "text": [
            "/content/gdrive/MyDrive/kart/csv/kart_test.mp4.csv\n"
          ],
          "name": "stdout"
        }
      ]
    },
    {
      "cell_type": "markdown",
      "metadata": {
        "id": "qFVUfsn9hZs-"
      },
      "source": [
        "단순한 입력 카운트 비율"
      ]
    },
    {
      "cell_type": "code",
      "metadata": {
        "id": "uwjtgqt3L2AL",
        "colab": {
          "base_uri": "https://localhost:8080/",
          "height": 268
        },
        "outputId": "5ae888aa-7a16-4d85-8e32-f115ba53f081"
      },
      "source": [
        "df = pd.read_csv(csvFile, names=[\"filename\", \"input\"], dtype={\"filename\": str, \"input\": str})\n",
        "\n",
        "labels = [\"up\", \"left\", \"right\", \"ctrl\", \"shift\", \"down\"]\n",
        "key_counts = np.zeros(6)\n",
        "\n",
        "for input in df[\"input\"]:\n",
        "  for idx in range(6):\n",
        "    if '1' == input[idx]:\n",
        "      key_counts[idx] += 1\n",
        "\n",
        "#plt.pie(key_counts, labels = labels, startangle = 90, autopct = \"%0.1f %%\")\n",
        "\n",
        "key_counts = key_counts / len(df) * 100\n",
        "\n",
        "plt.bar(labels, key_counts)\n",
        "for i, v in enumerate(labels):\n",
        "  plt.text(v, key_counts[i], key_counts[i],                 # 좌표 (x축 = v, y축 = y[0]..y[1], 표시 = y[0]..y[1])\n",
        "            fontsize = 9, \n",
        "            color='blue',\n",
        "            horizontalalignment='center',  # horizontalalignment (left, center, right)\n",
        "            verticalalignment='bottom')    # verticalalignment (top, center, bottom)\n",
        "plt.show()"
      ],
      "execution_count": 5,
      "outputs": [
        {
          "output_type": "display_data",
          "data": {
            "image/png": "[encoded data removed]",
            "text/plain": [
              "<Figure size 432x288 with 1 Axes>"
            ]
          },
          "metadata": {
            "tags": [],
            "needs_background": "light"
          }
        }
      ]
    },
    {
      "cell_type": "markdown",
      "metadata": {
        "id": "THGyZ5NphYSq"
      },
      "source": [
        "x축: 프레임\n",
        "\n",
        "y축: 누적 카운트"
      ]
    },
    {
      "cell_type": "code",
      "metadata": {
        "id": "J1ejIvEfhWTG",
        "colab": {
          "base_uri": "https://localhost:8080/",
          "height": 265
        },
        "outputId": "2639799e-b43d-453f-f9b7-73508b611f6d"
      },
      "source": [
        "df = pd.read_csv(csvFile, names=[\"filename\", \"input\"], dtype={\"filename\": str, \"input\": str})\n",
        "\n",
        "labels = [\"up\", \"left\", \"right\", \"ctrl\", \"shift\", \"down\"]\n",
        "key_counts = [[0], [0], [0], [0], [0], [0]]\n",
        "\n",
        "for input in df[\"input\"]:\n",
        "  for idx in range(6):\n",
        "    if '1' == input[idx]:\n",
        "      key_counts[idx].append(key_counts[idx][-1] + 1)\n",
        "    else:\n",
        "      key_counts[idx].append(key_counts[idx][-1])\n",
        "\n",
        "for idx in range(len(labels)):\n",
        "  plt.plot(range(len(df)+1), key_counts[idx], label=labels[idx])\n",
        "plt.legend()\n",
        "plt.show()"
      ],
      "execution_count": 6,
      "outputs": [
        {
          "output_type": "display_data",
          "data": {
            "image/png": "[encoded data removed]",
            "text/plain": [
              "<Figure size 432x288 with 1 Axes>"
            ]
          },
          "metadata": {
            "tags": [],
            "needs_background": "light"
          }
        }
      ]
    },
    {
      "cell_type": "markdown",
      "metadata": {
        "id": "Xa2YY5Bmq0kN"
      },
      "source": [
        "x축: 프레임\n",
        "\n",
        "y축?: 키 입력 여부"
      ]
    },
    {
      "cell_type": "code",
      "metadata": {
        "id": "s5sLXaVGq3di",
        "colab": {
          "base_uri": "https://localhost:8080/",
          "height": 361
        },
        "outputId": "c4b3174c-8576-4faf-92c2-6c0b11519f41"
      },
      "source": [
        "df = pd.read_csv(csvFile, names=[\"filename\", \"input\"], dtype={\"filename\": str, \"input\": str})\n",
        "\n",
        "labels = [\"up\", \"left\", \"right\", \"ctrl\", \"shift\", \"down\"]\n",
        "key_counts = [[], [], [], [], [], []]\n",
        "\n",
        "for input in df[\"input\"]:\n",
        "  for idx in range(6):\n",
        "    if '1' == input[idx]:\n",
        "      key_counts[idx].append(1)\n",
        "    else:\n",
        "      key_counts[idx].append(0)\n",
        "\n",
        "plt.rcParams['figure.figsize'] = [20,6]\n",
        "fig = plt.figure()\n",
        "\n",
        "ax = []\n",
        "for idx in range(6):\n",
        "  ax.append(fig.add_subplot(6, 1, idx+1))\n",
        "  #ax[idx].axes.xaxis.set_visible(False)  # ticks  label 다 제거\n",
        "  #ax[idx].axes.yaxis.set_visible(False)\n",
        "  ax[idx].axes.xaxis.set_ticklabels([])  # ticks 제거\n",
        "  ax[idx].axes.yaxis.set_ticklabels([])\n",
        "  ax[idx].bar(range(len(df)), key_counts[idx], width=1.0)\n",
        "  ax[idx].set_ylabel(labels[idx])\n",
        "  ax[idx].set_xlim(0, len(df))                 # x축 범위\n",
        "  ax[idx].set_ylim(0, 1)                       # y축 범위\n",
        "\n",
        "plt.show()"
      ],
      "execution_count": 7,
      "outputs": [
        {
          "output_type": "display_data",
          "data": {
            "image/png": "[encoded data removed]",
            "text/plain": [
              "<Figure size 1440x432 with 6 Axes>"
            ]
          },
          "metadata": {
            "tags": [],
            "needs_background": "light"
          }
        }
      ]
    }
  ]
}