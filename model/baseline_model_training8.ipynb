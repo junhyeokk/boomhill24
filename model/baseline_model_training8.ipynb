{
  "nbformat": 4,
  "nbformat_minor": 0,
  "metadata": {
    "accelerator": "GPU",
    "colab": {
      "name": "baseline-model-training8",
      "provenance": [],
      "collapsed_sections": []
    },
    "kernelspec": {
      "display_name": "Python 3",
      "name": "python3"
    },
    "language_info": {
      "name": "python"
    },
    "widgets": {
      "application/vnd.jupyter.widget-state+json": {
        "c8e741c391b8475ebc18f0da8b8d4b1b": {
          "model_module": "@jupyter-widgets/controls",
          "model_name": "HBoxModel",
          "state": {
            "_view_name": "HBoxView",
            "_dom_classes": [],
            "_model_name": "HBoxModel",
            "_view_module": "@jupyter-widgets/controls",
            "_model_module_version": "1.5.0",
            "_view_count": null,
            "_view_module_version": "1.5.0",
            "box_style": "",
            "layout": "IPY_MODEL_1f6ed1d4fa6d4b9bb857c05e8fe65889",
            "_model_module": "@jupyter-widgets/controls",
            "children": [
              "IPY_MODEL_d78f80faa9834c77a8c1f7065e52c852",
              "IPY_MODEL_fa73bae9e60743e797787a1b246fd384"
            ]
          }
        },
        "1f6ed1d4fa6d4b9bb857c05e8fe65889": {
          "model_module": "@jupyter-widgets/base",
          "model_name": "LayoutModel",
          "state": {
            "_view_name": "LayoutView",
            "grid_template_rows": null,
            "right": null,
            "justify_content": null,
            "_view_module": "@jupyter-widgets/base",
            "overflow": null,
            "_model_module_version": "1.2.0",
            "_view_count": null,
            "flex_flow": null,
            "width": null,
            "min_width": null,
            "border": null,
            "align_items": null,
            "bottom": null,
            "_model_module": "@jupyter-widgets/base",
            "top": null,
            "grid_column": null,
            "overflow_y": null,
            "overflow_x": null,
            "grid_auto_flow": null,
            "grid_area": null,
            "grid_template_columns": null,
            "flex": null,
            "_model_name": "LayoutModel",
            "justify_items": null,
            "grid_row": null,
            "max_height": null,
            "align_content": null,
            "visibility": null,
            "align_self": null,
            "height": null,
            "min_height": null,
            "padding": null,
            "grid_auto_rows": null,
            "grid_gap": null,
            "max_width": null,
            "order": null,
            "_view_module_version": "1.2.0",
            "grid_template_areas": null,
            "object_position": null,
            "object_fit": null,
            "grid_auto_columns": null,
            "margin": null,
            "display": null,
            "left": null
          }
        },
        "d78f80faa9834c77a8c1f7065e52c852": {
          "model_module": "@jupyter-widgets/controls",
          "model_name": "FloatProgressModel",
          "state": {
            "_view_name": "ProgressView",
            "style": "IPY_MODEL_0f70b6e9953747c0b48ebe5edfd8d20c",
            "_dom_classes": [],
            "description": "100%",
            "_model_name": "FloatProgressModel",
            "bar_style": "success",
            "max": 102530333,
            "_view_module": "@jupyter-widgets/controls",
            "_model_module_version": "1.5.0",
            "value": 102530333,
            "_view_count": null,
            "_view_module_version": "1.5.0",
            "orientation": "horizontal",
            "min": 0,
            "description_tooltip": null,
            "_model_module": "@jupyter-widgets/controls",
            "layout": "IPY_MODEL_9751526e2bf24d83907e3d6334e54d6b"
          }
        },
        "fa73bae9e60743e797787a1b246fd384": {
          "model_module": "@jupyter-widgets/controls",
          "model_name": "HTMLModel",
          "state": {
            "_view_name": "HTMLView",
            "style": "IPY_MODEL_822e855709324ec488e37e3b699aec42",
            "_dom_classes": [],
            "description": "",
            "_model_name": "HTMLModel",
            "placeholder": "​",
            "_view_module": "@jupyter-widgets/controls",
            "_model_module_version": "1.5.0",
            "value": " 97.8M/97.8M [01:33&lt;00:00, 1.09MB/s]",
            "_view_count": null,
            "_view_module_version": "1.5.0",
            "description_tooltip": null,
            "_model_module": "@jupyter-widgets/controls",
            "layout": "IPY_MODEL_1394beb2ebf94870ae5bf5bf954a4cca"
          }
        },
        "0f70b6e9953747c0b48ebe5edfd8d20c": {
          "model_module": "@jupyter-widgets/controls",
          "model_name": "ProgressStyleModel",
          "state": {
            "_view_name": "StyleView",
            "_model_name": "ProgressStyleModel",
            "description_width": "initial",
            "_view_module": "@jupyter-widgets/base",
            "_model_module_version": "1.5.0",
            "_view_count": null,
            "_view_module_version": "1.2.0",
            "bar_color": null,
            "_model_module": "@jupyter-widgets/controls"
          }
        },
        "9751526e2bf24d83907e3d6334e54d6b": {
          "model_module": "@jupyter-widgets/base",
          "model_name": "LayoutModel",
          "state": {
            "_view_name": "LayoutView",
            "grid_template_rows": null,
            "right": null,
            "justify_content": null,
            "_view_module": "@jupyter-widgets/base",
            "overflow": null,
            "_model_module_version": "1.2.0",
            "_view_count": null,
            "flex_flow": null,
            "width": null,
            "min_width": null,
            "border": null,
            "align_items": null,
            "bottom": null,
            "_model_module": "@jupyter-widgets/base",
            "top": null,
            "grid_column": null,
            "overflow_y": null,
            "overflow_x": null,
            "grid_auto_flow": null,
            "grid_area": null,
            "grid_template_columns": null,
            "flex": null,
            "_model_name": "LayoutModel",
            "justify_items": null,
            "grid_row": null,
            "max_height": null,
            "align_content": null,
            "visibility": null,
            "align_self": null,
            "height": null,
            "min_height": null,
            "padding": null,
            "grid_auto_rows": null,
            "grid_gap": null,
            "max_width": null,
            "order": null,
            "_view_module_version": "1.2.0",
            "grid_template_areas": null,
            "object_position": null,
            "object_fit": null,
            "grid_auto_columns": null,
            "margin": null,
            "display": null,
            "left": null
          }
        },
        "822e855709324ec488e37e3b699aec42": {
          "model_module": "@jupyter-widgets/controls",
          "model_name": "DescriptionStyleModel",
          "state": {
            "_view_name": "StyleView",
            "_model_name": "DescriptionStyleModel",
            "description_width": "",
            "_view_module": "@jupyter-widgets/base",
            "_model_module_version": "1.5.0",
            "_view_count": null,
            "_view_module_version": "1.2.0",
            "_model_module": "@jupyter-widgets/controls"
          }
        },
        "1394beb2ebf94870ae5bf5bf954a4cca": {
          "model_module": "@jupyter-widgets/base",
          "model_name": "LayoutModel",
          "state": {
            "_view_name": "LayoutView",
            "grid_template_rows": null,
            "right": null,
            "justify_content": null,
            "_view_module": "@jupyter-widgets/base",
            "overflow": null,
            "_model_module_version": "1.2.0",
            "_view_count": null,
            "flex_flow": null,
            "width": null,
            "min_width": null,
            "border": null,
            "align_items": null,
            "bottom": null,
            "_model_module": "@jupyter-widgets/base",
            "top": null,
            "grid_column": null,
            "overflow_y": null,
            "overflow_x": null,
            "grid_auto_flow": null,
            "grid_area": null,
            "grid_template_columns": null,
            "flex": null,
            "_model_name": "LayoutModel",
            "justify_items": null,
            "grid_row": null,
            "max_height": null,
            "align_content": null,
            "visibility": null,
            "align_self": null,
            "height": null,
            "min_height": null,
            "padding": null,
            "grid_auto_rows": null,
            "grid_gap": null,
            "max_width": null,
            "order": null,
            "_view_module_version": "1.2.0",
            "grid_template_areas": null,
            "object_position": null,
            "object_fit": null,
            "grid_auto_columns": null,
            "margin": null,
            "display": null,
            "left": null
          }
        }
      }
    }
  },
  "cells": [
    {
      "cell_type": "code",
      "metadata": {
        "colab": {
          "base_uri": "https://localhost:8080/"
        },
        "id": "_nG8cgSvr3Iw",
        "outputId": "61aff988-0194-41f1-e091-9c2df313a01b"
      },
      "source": [
        "from google.colab import drive\n",
        "drive.mount('/content/gdrive/')"
      ],
      "execution_count": 1,
      "outputs": [
        {
          "output_type": "stream",
          "text": [
            "Mounted at /content/gdrive/\n"
          ],
          "name": "stdout"
        }
      ]
    },
    {
      "cell_type": "code",
      "metadata": {
        "id": "PssSplM2wemG"
      },
      "source": [
        "import os\n",
        "import csv\n",
        "import random\n",
        "import numpy as np\n",
        "from PIL import Image as PIL_Image\n",
        "\n",
        "import torch\n",
        "import torch.nn as nn\n",
        "import torch.optim as optim\n",
        "import torch.nn.functional as F\n",
        "import torch.utils.data as data\n",
        "from torch.optim.lr_scheduler import StepLR, CosineAnnealingLR\n",
        "from torch.autograd import Variable\n",
        "\n",
        "from torchvision import transforms\n",
        "from torchvision.models import resnet50, resnet152"
      ],
      "execution_count": 2,
      "outputs": []
    },
    {
      "cell_type": "markdown",
      "metadata": {
        "id": "7NWq3tjAdRZl"
      },
      "source": [
        "# 랜덤 시드 고정"
      ]
    },
    {
      "cell_type": "code",
      "metadata": {
        "id": "L8zWtPW8JY5O"
      },
      "source": [
        "seed = 400\n",
        "\n",
        "os.environ['PYTHONHASHSEED'] = str(seed)\n",
        "random.seed(seed)\n",
        "np.random.seed(seed)\n",
        "torch.manual_seed(seed)    \n",
        "torch.cuda.manual_seed(seed)\n",
        "torch.backends.cudnn.deterministic = True"
      ],
      "execution_count": 7,
      "outputs": []
    },
    {
      "cell_type": "code",
      "metadata": {
        "id": "IbCoXUpEs3tm"
      },
      "source": [
        "drivepath = \"/content/gdrive/MyDrive\""
      ],
      "execution_count": 8,
      "outputs": []
    },
    {
      "cell_type": "code",
      "metadata": {
        "colab": {
          "base_uri": "https://localhost:8080/"
        },
        "id": "MfQlU0pjQu2t",
        "outputId": "f609610c-1abb-43eb-dfe6-e7b5840c5144"
      },
      "source": [
        "device_type = \"cuda\" if torch.cuda.is_available() else \"cpu\"\n",
        "device = torch.device(device_type)\n",
        "print(device)"
      ],
      "execution_count": 9,
      "outputs": [
        {
          "output_type": "stream",
          "text": [
            "cuda\n"
          ],
          "name": "stdout"
        }
      ]
    },
    {
      "cell_type": "markdown",
      "metadata": {
        "id": "2Bs7yOD-dYuP"
      },
      "source": [
        "# 모델과 그에 맞는 데이터셋 설정\n",
        "\n",
        "Convolution layer의 출력을 FC layer에 통과시킨 뒤 매 타임스탭마다 이미지를 입력받아 키 입력을 출력하는 다대다 lstm 모델을 구성합니다."
      ]
    },
    {
      "cell_type": "code",
      "metadata": {
        "id": "tmc26h6VoJyU"
      },
      "source": [
        "class KartModel8(nn.Module):\n",
        "  def __init__(self, num_class = 64, cnn_to_lstm = 1024, lstm_hidden = 512, num_layers = 5):\n",
        "    super(KartModel8, self).__init__()\n",
        "    self.num_class = num_class\n",
        "    self.num_layers = num_layers\n",
        "    self.hidden_size = lstm_hidden\n",
        "\n",
        "    self.resnet = resnet50(pretrained=True)\n",
        "    self.resnet.fc = nn.Sequential(\n",
        "      nn.Linear(in_features=2048, out_features=cnn_to_lstm, bias=True),\n",
        "      nn.ReLU(),\n",
        "    )\n",
        "    self.lstm_image = nn.LSTM(\n",
        "        input_size = cnn_to_lstm,\n",
        "        hidden_size = lstm_hidden,\n",
        "        num_layers = num_layers,\n",
        "        batch_first = True,\n",
        "        dropout = 0.3,\n",
        "    )\n",
        "    self.lstm_key = nn.LSTM(\n",
        "        input_size = 6,\n",
        "        hidden_size = lstm_hidden,\n",
        "        num_layers = num_layers,\n",
        "        batch_first = True,\n",
        "        dropout = 0.3,\n",
        "    )\n",
        "\n",
        "    self.fc_1 = nn.Linear(lstm_hidden * 2, lstm_hidden * 2)\n",
        "    self.bn1 = nn.BatchNorm1d(lstm_hidden * 2)\n",
        "    self.relu = nn.ReLU()\n",
        "    self.fc_2 = nn.Linear(lstm_hidden * 2, lstm_hidden)\n",
        "    self.bn2 = nn.BatchNorm1d(lstm_hidden)\n",
        "    self.fc_3 = nn.Linear(lstm_hidden, num_class)\n",
        "    # self.sigmoid = nn.Sigmoid()\n",
        "\n",
        "  def forward(self, x_3d, key_inputs, hidden1 = None, hidden2 = None):\n",
        "    for t in range(x_3d.size(1)):\n",
        "      with torch.no_grad():\n",
        "        x = self.resnet(x_3d[:, t, :, :, :])\n",
        "        out1, hidden1 = self.lstm_image(x.unsqueeze(1), hidden1)\n",
        "    # batch first = True\n",
        "    # batch, seq, hidden_size\n",
        "\n",
        "    out2, hidden2 = self.lstm_key(key_inputs, hidden2)\n",
        "\n",
        "    out = self.fc_1(torch.cat([out1[:, -1, :], out2[:, -1, :]], dim=1))\n",
        "    # 마지막 sequence\n",
        "    out = self.bn1(out)\n",
        "    out = self.relu(out)\n",
        "    out = self.fc_2(out)\n",
        "    out = self.bn2(out)\n",
        "    out = self.relu(out)\n",
        "    out = self.fc_3(out)\n",
        "    # out = self.sigmoid(out)\n",
        "\n",
        "    return out, hidden1, hidden2"
      ],
      "execution_count": 10,
      "outputs": []
    },
    {
      "cell_type": "code",
      "metadata": {
        "id": "baQjpWskDxNZ"
      },
      "source": [
        "seq_size = 10"
      ],
      "execution_count": 13,
      "outputs": []
    },
    {
      "cell_type": "code",
      "metadata": {
        "id": "ITBTnuR9oOUt"
      },
      "source": [
        "class KartDataSet8(data.Dataset):\n",
        "  def __init__(self, csv_files):\n",
        "    self.image_seqs = []\n",
        "    self.label_seqs = []\n",
        "\n",
        "    for csv_file in csv_files:\n",
        "      images = []\n",
        "      labels = []\n",
        "\n",
        "      with open(csv_file) as csvfile:\n",
        "        csv_reader = csv.reader(csvfile)\n",
        "        next(csv_reader, None)        # 첫번째 row 스킵\n",
        "        \n",
        "        for row in csv_reader:\n",
        "          images.append(drivepath + '/' + row[0])\n",
        "          labels.append([int(x) for x in list(row[1])])\n",
        "\n",
        "      for i in range(len(images)):\n",
        "        if i - seq_size >= 0:\n",
        "          self.image_seqs.append(images[i - seq_size + 1:i + 1])\n",
        "          # 하나 적게\n",
        "          self.label_seqs.append(labels[i - seq_size:i + 1])\n",
        "\n",
        "  def __getitem__(self, index):\n",
        "    # cur_seq_size = random.randint(1, seq_size)\n",
        "    cur_seq_size=20\n",
        "    image_paths = self.image_seqs[index][:cur_seq_size]\n",
        "    images = [PIL_Image.open(image_path) for image_path in image_paths]\n",
        "    labels = self.label_seqs[index][:cur_seq_size + 1]\n",
        "    label = int(''.join(map(str, labels[-1])), 2)\n",
        "\n",
        "    image_pads = [torch.rand(3, 224, 224) for _ in range(seq_size - cur_seq_size)]\n",
        "    label_pads = [[random.randint(0, 1) for _ in range(6)] for _ in range(seq_size - cur_seq_size)]\n",
        "\n",
        "    preprocess = transforms.Compose([\n",
        "      transforms.Resize((224, 224)),\n",
        "      transforms.ToTensor(),\n",
        "      # transforms.Grayscale(num_output_channels=3),\n",
        "      transforms.Normalize((0.5, 0.5, 0.5), (0.5, 0.5, 0.5)),     # -1 ~ 1 로 normalize\n",
        "    ])\n",
        "\n",
        "    preprocessed_list = []\n",
        "    for img in images:\n",
        "      preprocessed_list.append(preprocess(img))\n",
        "\n",
        "    # print(label_pads + labels[:-1])\n",
        "    \n",
        "    return torch.stack(image_pads + preprocessed_list), torch.Tensor(label_pads + labels[:-1]), label\n",
        "\n",
        "  def __len__(self):\n",
        "    return len(self.image_seqs)"
      ],
      "execution_count": 14,
      "outputs": []
    },
    {
      "cell_type": "code",
      "metadata": {
        "colab": {
          "base_uri": "https://localhost:8080/"
        },
        "id": "Jsv0biYQq_0l",
        "outputId": "b9616aef-989d-402c-e768-54b1d473c221"
      },
      "source": [
        "csvs = [f\"{drivepath}/csv/kart_test_minimap_test_{str(i)}.csv\" for i in range(5)]\n",
        "# csvs = [f\"{drivepath}/csv/kart_test_minimap2.csv\"]\n",
        "dataset = KartDataSet8(csvs)\n",
        "# x = dataset[1]\n",
        "# print(x[0].shape)\n",
        "# print(x[1].shape)\n",
        "print((dataset[0][0]).shape)\n",
        "print((dataset[0][1]).shape)\n",
        "print((dataset[99][2]))\n",
        "# seq, channel, width, height\n",
        "# label"
      ],
      "execution_count": 15,
      "outputs": [
        {
          "output_type": "stream",
          "text": [
            "torch.Size([10, 3, 224, 224])\n",
            "torch.Size([10, 6])\n",
            "48\n"
          ],
          "name": "stdout"
        }
      ]
    },
    {
      "cell_type": "markdown",
      "metadata": {
        "id": "bO9v0wAPdy0H"
      },
      "source": [
        "# 하이퍼 파라미터 설정"
      ]
    },
    {
      "cell_type": "code",
      "metadata": {
        "id": "mhSINRr2RITa"
      },
      "source": [
        "num_epochs = 10\n",
        "lr = 1e-4\n",
        "batch_size = 8\n",
        "log_interval = 10"
      ],
      "execution_count": 16,
      "outputs": []
    },
    {
      "cell_type": "code",
      "metadata": {
        "colab": {
          "base_uri": "https://localhost:8080/"
        },
        "id": "Gql6fhRSrkhV",
        "outputId": "ca7ab432-1b5a-4726-b443-4d8b49ed53e6"
      },
      "source": [
        "loader = data.DataLoader(\n",
        "    dataset,\n",
        "    batch_size=batch_size,\n",
        "    num_workers=4,\n",
        "    shuffle=True,\n",
        "    drop_last=True,\n",
        ")"
      ],
      "execution_count": 17,
      "outputs": [
        {
          "output_type": "stream",
          "text": [
            "/usr/local/lib/python3.7/dist-packages/torch/utils/data/dataloader.py:481: UserWarning: This DataLoader will create 4 worker processes in total. Our suggested max number of worker in current system is 2, which is smaller than what this DataLoader is going to create. Please be aware that excessive worker creation might get DataLoader running slow or even freeze, lower the worker number to avoid potential slowness/freeze if necessary.\n",
            "  cpuset_checked))\n"
          ],
          "name": "stderr"
        }
      ]
    },
    {
      "cell_type": "code",
      "metadata": {
        "colab": {
          "base_uri": "https://localhost:8080/"
        },
        "id": "G0JaHwJTFfIZ",
        "outputId": "ec9c4a9c-26ba-4beb-bf9e-087d26831684"
      },
      "source": [
        "print(len(loader))\n",
        "print(len(dataset))"
      ],
      "execution_count": 18,
      "outputs": [
        {
          "output_type": "stream",
          "text": [
            "659\n",
            "5275\n"
          ],
          "name": "stdout"
        }
      ]
    },
    {
      "cell_type": "markdown",
      "metadata": {
        "id": "vPAQgxFNd4fS"
      },
      "source": [
        "# 모델 저장 설정 및 학습 가능한 레이어 확인"
      ]
    },
    {
      "cell_type": "code",
      "metadata": {
        "colab": {
          "base_uri": "https://localhost:8080/",
          "height": 1000,
          "referenced_widgets": [
            "c8e741c391b8475ebc18f0da8b8d4b1b",
            "1f6ed1d4fa6d4b9bb857c05e8fe65889",
            "d78f80faa9834c77a8c1f7065e52c852",
            "fa73bae9e60743e797787a1b246fd384",
            "0f70b6e9953747c0b48ebe5edfd8d20c",
            "9751526e2bf24d83907e3d6334e54d6b",
            "822e855709324ec488e37e3b699aec42",
            "1394beb2ebf94870ae5bf5bf954a4cca"
          ]
        },
        "id": "UEEp2bw_09UO",
        "outputId": "32a0c1d4-1a47-47b2-ff30-6c0b31878ecc"
      },
      "source": [
        "save_path = drivepath + \"/test_model_minimap5.pt\"\n",
        "\n",
        "model = KartModel8()\n",
        "# model.load_state_dict(torch.load(save_path))\n",
        "model = model.to(device)\n",
        "\n",
        "for param, weight in model.named_parameters():\n",
        "    print(f\"param {param:20} required gradient? -> {weight.requires_grad}\")\n",
        "# model = model.to(device)"
      ],
      "execution_count": 19,
      "outputs": [
        {
          "output_type": "stream",
          "text": [
            "Downloading: \"https://download.pytorch.org/models/resnet50-0676ba61.pth\" to /root/.cache/torch/hub/checkpoints/resnet50-0676ba61.pth\n"
          ],
          "name": "stderr"
        },
        {
          "output_type": "display_data",
          "data": {
            "application/vnd.jupyter.widget-view+json": {
              "model_id": "c8e741c391b8475ebc18f0da8b8d4b1b",
              "version_minor": 0,
              "version_major": 2
            },
            "text/plain": [
              "HBox(children=(FloatProgress(value=0.0, max=102530333.0), HTML(value='')))"
            ]
          },
          "metadata": {
            "tags": []
          }
        },
        {
          "output_type": "stream",
          "text": [
            "\n",
            "param resnet.conv1.weight  required gradient? -> True\n",
            "param resnet.bn1.weight    required gradient? -> True\n",
            "param resnet.bn1.bias      required gradient? -> True\n",
            "param resnet.layer1.0.conv1.weight required gradient? -> True\n",
            "param resnet.layer1.0.bn1.weight required gradient? -> True\n",
            "param resnet.layer1.0.bn1.bias required gradient? -> True\n",
            "param resnet.layer1.0.conv2.weight required gradient? -> True\n",
            "param resnet.layer1.0.bn2.weight required gradient? -> True\n",
            "param resnet.layer1.0.bn2.bias required gradient? -> True\n",
            "param resnet.layer1.0.conv3.weight required gradient? -> True\n",
            "param resnet.layer1.0.bn3.weight required gradient? -> True\n",
            "param resnet.layer1.0.bn3.bias required gradient? -> True\n",
            "param resnet.layer1.0.downsample.0.weight required gradient? -> True\n",
            "param resnet.layer1.0.downsample.1.weight required gradient? -> True\n",
            "param resnet.layer1.0.downsample.1.bias required gradient? -> True\n",
            "param resnet.layer1.1.conv1.weight required gradient? -> True\n",
            "param resnet.layer1.1.bn1.weight required gradient? -> True\n",
            "param resnet.layer1.1.bn1.bias required gradient? -> True\n",
            "param resnet.layer1.1.conv2.weight required gradient? -> True\n",
            "param resnet.layer1.1.bn2.weight required gradient? -> True\n",
            "param resnet.layer1.1.bn2.bias required gradient? -> True\n",
            "param resnet.layer1.1.conv3.weight required gradient? -> True\n",
            "param resnet.layer1.1.bn3.weight required gradient? -> True\n",
            "param resnet.layer1.1.bn3.bias required gradient? -> True\n",
            "param resnet.layer1.2.conv1.weight required gradient? -> True\n",
            "param resnet.layer1.2.bn1.weight required gradient? -> True\n",
            "param resnet.layer1.2.bn1.bias required gradient? -> True\n",
            "param resnet.layer1.2.conv2.weight required gradient? -> True\n",
            "param resnet.layer1.2.bn2.weight required gradient? -> True\n",
            "param resnet.layer1.2.bn2.bias required gradient? -> True\n",
            "param resnet.layer1.2.conv3.weight required gradient? -> True\n",
            "param resnet.layer1.2.bn3.weight required gradient? -> True\n",
            "param resnet.layer1.2.bn3.bias required gradient? -> True\n",
            "param resnet.layer2.0.conv1.weight required gradient? -> True\n",
            "param resnet.layer2.0.bn1.weight required gradient? -> True\n",
            "param resnet.layer2.0.bn1.bias required gradient? -> True\n",
            "param resnet.layer2.0.conv2.weight required gradient? -> True\n",
            "param resnet.layer2.0.bn2.weight required gradient? -> True\n",
            "param resnet.layer2.0.bn2.bias required gradient? -> True\n",
            "param resnet.layer2.0.conv3.weight required gradient? -> True\n",
            "param resnet.layer2.0.bn3.weight required gradient? -> True\n",
            "param resnet.layer2.0.bn3.bias required gradient? -> True\n",
            "param resnet.layer2.0.downsample.0.weight required gradient? -> True\n",
            "param resnet.layer2.0.downsample.1.weight required gradient? -> True\n",
            "param resnet.layer2.0.downsample.1.bias required gradient? -> True\n",
            "param resnet.layer2.1.conv1.weight required gradient? -> True\n",
            "param resnet.layer2.1.bn1.weight required gradient? -> True\n",
            "param resnet.layer2.1.bn1.bias required gradient? -> True\n",
            "param resnet.layer2.1.conv2.weight required gradient? -> True\n",
            "param resnet.layer2.1.bn2.weight required gradient? -> True\n",
            "param resnet.layer2.1.bn2.bias required gradient? -> True\n",
            "param resnet.layer2.1.conv3.weight required gradient? -> True\n",
            "param resnet.layer2.1.bn3.weight required gradient? -> True\n",
            "param resnet.layer2.1.bn3.bias required gradient? -> True\n",
            "param resnet.layer2.2.conv1.weight required gradient? -> True\n",
            "param resnet.layer2.2.bn1.weight required gradient? -> True\n",
            "param resnet.layer2.2.bn1.bias required gradient? -> True\n",
            "param resnet.layer2.2.conv2.weight required gradient? -> True\n",
            "param resnet.layer2.2.bn2.weight required gradient? -> True\n",
            "param resnet.layer2.2.bn2.bias required gradient? -> True\n",
            "param resnet.layer2.2.conv3.weight required gradient? -> True\n",
            "param resnet.layer2.2.bn3.weight required gradient? -> True\n",
            "param resnet.layer2.2.bn3.bias required gradient? -> True\n",
            "param resnet.layer2.3.conv1.weight required gradient? -> True\n",
            "param resnet.layer2.3.bn1.weight required gradient? -> True\n",
            "param resnet.layer2.3.bn1.bias required gradient? -> True\n",
            "param resnet.layer2.3.conv2.weight required gradient? -> True\n",
            "param resnet.layer2.3.bn2.weight required gradient? -> True\n",
            "param resnet.layer2.3.bn2.bias required gradient? -> True\n",
            "param resnet.layer2.3.conv3.weight required gradient? -> True\n",
            "param resnet.layer2.3.bn3.weight required gradient? -> True\n",
            "param resnet.layer2.3.bn3.bias required gradient? -> True\n",
            "param resnet.layer3.0.conv1.weight required gradient? -> True\n",
            "param resnet.layer3.0.bn1.weight required gradient? -> True\n",
            "param resnet.layer3.0.bn1.bias required gradient? -> True\n",
            "param resnet.layer3.0.conv2.weight required gradient? -> True\n",
            "param resnet.layer3.0.bn2.weight required gradient? -> True\n",
            "param resnet.layer3.0.bn2.bias required gradient? -> True\n",
            "param resnet.layer3.0.conv3.weight required gradient? -> True\n",
            "param resnet.layer3.0.bn3.weight required gradient? -> True\n",
            "param resnet.layer3.0.bn3.bias required gradient? -> True\n",
            "param resnet.layer3.0.downsample.0.weight required gradient? -> True\n",
            "param resnet.layer3.0.downsample.1.weight required gradient? -> True\n",
            "param resnet.layer3.0.downsample.1.bias required gradient? -> True\n",
            "param resnet.layer3.1.conv1.weight required gradient? -> True\n",
            "param resnet.layer3.1.bn1.weight required gradient? -> True\n",
            "param resnet.layer3.1.bn1.bias required gradient? -> True\n",
            "param resnet.layer3.1.conv2.weight required gradient? -> True\n",
            "param resnet.layer3.1.bn2.weight required gradient? -> True\n",
            "param resnet.layer3.1.bn2.bias required gradient? -> True\n",
            "param resnet.layer3.1.conv3.weight required gradient? -> True\n",
            "param resnet.layer3.1.bn3.weight required gradient? -> True\n",
            "param resnet.layer3.1.bn3.bias required gradient? -> True\n",
            "param resnet.layer3.2.conv1.weight required gradient? -> True\n",
            "param resnet.layer3.2.bn1.weight required gradient? -> True\n",
            "param resnet.layer3.2.bn1.bias required gradient? -> True\n",
            "param resnet.layer3.2.conv2.weight required gradient? -> True\n",
            "param resnet.layer3.2.bn2.weight required gradient? -> True\n",
            "param resnet.layer3.2.bn2.bias required gradient? -> True\n",
            "param resnet.layer3.2.conv3.weight required gradient? -> True\n",
            "param resnet.layer3.2.bn3.weight required gradient? -> True\n",
            "param resnet.layer3.2.bn3.bias required gradient? -> True\n",
            "param resnet.layer3.3.conv1.weight required gradient? -> True\n",
            "param resnet.layer3.3.bn1.weight required gradient? -> True\n",
            "param resnet.layer3.3.bn1.bias required gradient? -> True\n",
            "param resnet.layer3.3.conv2.weight required gradient? -> True\n",
            "param resnet.layer3.3.bn2.weight required gradient? -> True\n",
            "param resnet.layer3.3.bn2.bias required gradient? -> True\n",
            "param resnet.layer3.3.conv3.weight required gradient? -> True\n",
            "param resnet.layer3.3.bn3.weight required gradient? -> True\n",
            "param resnet.layer3.3.bn3.bias required gradient? -> True\n",
            "param resnet.layer3.4.conv1.weight required gradient? -> True\n",
            "param resnet.layer3.4.bn1.weight required gradient? -> True\n",
            "param resnet.layer3.4.bn1.bias required gradient? -> True\n",
            "param resnet.layer3.4.conv2.weight required gradient? -> True\n",
            "param resnet.layer3.4.bn2.weight required gradient? -> True\n",
            "param resnet.layer3.4.bn2.bias required gradient? -> True\n",
            "param resnet.layer3.4.conv3.weight required gradient? -> True\n",
            "param resnet.layer3.4.bn3.weight required gradient? -> True\n",
            "param resnet.layer3.4.bn3.bias required gradient? -> True\n",
            "param resnet.layer3.5.conv1.weight required gradient? -> True\n",
            "param resnet.layer3.5.bn1.weight required gradient? -> True\n",
            "param resnet.layer3.5.bn1.bias required gradient? -> True\n",
            "param resnet.layer3.5.conv2.weight required gradient? -> True\n",
            "param resnet.layer3.5.bn2.weight required gradient? -> True\n",
            "param resnet.layer3.5.bn2.bias required gradient? -> True\n",
            "param resnet.layer3.5.conv3.weight required gradient? -> True\n",
            "param resnet.layer3.5.bn3.weight required gradient? -> True\n",
            "param resnet.layer3.5.bn3.bias required gradient? -> True\n",
            "param resnet.layer4.0.conv1.weight required gradient? -> True\n",
            "param resnet.layer4.0.bn1.weight required gradient? -> True\n",
            "param resnet.layer4.0.bn1.bias required gradient? -> True\n",
            "param resnet.layer4.0.conv2.weight required gradient? -> True\n",
            "param resnet.layer4.0.bn2.weight required gradient? -> True\n",
            "param resnet.layer4.0.bn2.bias required gradient? -> True\n",
            "param resnet.layer4.0.conv3.weight required gradient? -> True\n",
            "param resnet.layer4.0.bn3.weight required gradient? -> True\n",
            "param resnet.layer4.0.bn3.bias required gradient? -> True\n",
            "param resnet.layer4.0.downsample.0.weight required gradient? -> True\n",
            "param resnet.layer4.0.downsample.1.weight required gradient? -> True\n",
            "param resnet.layer4.0.downsample.1.bias required gradient? -> True\n",
            "param resnet.layer4.1.conv1.weight required gradient? -> True\n",
            "param resnet.layer4.1.bn1.weight required gradient? -> True\n",
            "param resnet.layer4.1.bn1.bias required gradient? -> True\n",
            "param resnet.layer4.1.conv2.weight required gradient? -> True\n",
            "param resnet.layer4.1.bn2.weight required gradient? -> True\n",
            "param resnet.layer4.1.bn2.bias required gradient? -> True\n",
            "param resnet.layer4.1.conv3.weight required gradient? -> True\n",
            "param resnet.layer4.1.bn3.weight required gradient? -> True\n",
            "param resnet.layer4.1.bn3.bias required gradient? -> True\n",
            "param resnet.layer4.2.conv1.weight required gradient? -> True\n",
            "param resnet.layer4.2.bn1.weight required gradient? -> True\n",
            "param resnet.layer4.2.bn1.bias required gradient? -> True\n",
            "param resnet.layer4.2.conv2.weight required gradient? -> True\n",
            "param resnet.layer4.2.bn2.weight required gradient? -> True\n",
            "param resnet.layer4.2.bn2.bias required gradient? -> True\n",
            "param resnet.layer4.2.conv3.weight required gradient? -> True\n",
            "param resnet.layer4.2.bn3.weight required gradient? -> True\n",
            "param resnet.layer4.2.bn3.bias required gradient? -> True\n",
            "param resnet.fc.0.weight   required gradient? -> True\n",
            "param resnet.fc.0.bias     required gradient? -> True\n",
            "param lstm_image.weight_ih_l0 required gradient? -> True\n",
            "param lstm_image.weight_hh_l0 required gradient? -> True\n",
            "param lstm_image.bias_ih_l0 required gradient? -> True\n",
            "param lstm_image.bias_hh_l0 required gradient? -> True\n",
            "param lstm_image.weight_ih_l1 required gradient? -> True\n",
            "param lstm_image.weight_hh_l1 required gradient? -> True\n",
            "param lstm_image.bias_ih_l1 required gradient? -> True\n",
            "param lstm_image.bias_hh_l1 required gradient? -> True\n",
            "param lstm_image.weight_ih_l2 required gradient? -> True\n",
            "param lstm_image.weight_hh_l2 required gradient? -> True\n",
            "param lstm_image.bias_ih_l2 required gradient? -> True\n",
            "param lstm_image.bias_hh_l2 required gradient? -> True\n",
            "param lstm_image.weight_ih_l3 required gradient? -> True\n",
            "param lstm_image.weight_hh_l3 required gradient? -> True\n",
            "param lstm_image.bias_ih_l3 required gradient? -> True\n",
            "param lstm_image.bias_hh_l3 required gradient? -> True\n",
            "param lstm_image.weight_ih_l4 required gradient? -> True\n",
            "param lstm_image.weight_hh_l4 required gradient? -> True\n",
            "param lstm_image.bias_ih_l4 required gradient? -> True\n",
            "param lstm_image.bias_hh_l4 required gradient? -> True\n",
            "param lstm_key.weight_ih_l0 required gradient? -> True\n",
            "param lstm_key.weight_hh_l0 required gradient? -> True\n",
            "param lstm_key.bias_ih_l0  required gradient? -> True\n",
            "param lstm_key.bias_hh_l0  required gradient? -> True\n",
            "param lstm_key.weight_ih_l1 required gradient? -> True\n",
            "param lstm_key.weight_hh_l1 required gradient? -> True\n",
            "param lstm_key.bias_ih_l1  required gradient? -> True\n",
            "param lstm_key.bias_hh_l1  required gradient? -> True\n",
            "param lstm_key.weight_ih_l2 required gradient? -> True\n",
            "param lstm_key.weight_hh_l2 required gradient? -> True\n",
            "param lstm_key.bias_ih_l2  required gradient? -> True\n",
            "param lstm_key.bias_hh_l2  required gradient? -> True\n",
            "param lstm_key.weight_ih_l3 required gradient? -> True\n",
            "param lstm_key.weight_hh_l3 required gradient? -> True\n",
            "param lstm_key.bias_ih_l3  required gradient? -> True\n",
            "param lstm_key.bias_hh_l3  required gradient? -> True\n",
            "param lstm_key.weight_ih_l4 required gradient? -> True\n",
            "param lstm_key.weight_hh_l4 required gradient? -> True\n",
            "param lstm_key.bias_ih_l4  required gradient? -> True\n",
            "param lstm_key.bias_hh_l4  required gradient? -> True\n",
            "param fc_1.weight          required gradient? -> True\n",
            "param fc_1.bias            required gradient? -> True\n",
            "param bn1.weight           required gradient? -> True\n",
            "param bn1.bias             required gradient? -> True\n",
            "param fc_2.weight          required gradient? -> True\n",
            "param fc_2.bias            required gradient? -> True\n",
            "param bn2.weight           required gradient? -> True\n",
            "param bn2.bias             required gradient? -> True\n",
            "param fc_3.weight          required gradient? -> True\n",
            "param fc_3.bias            required gradient? -> True\n"
          ],
          "name": "stdout"
        }
      ]
    },
    {
      "cell_type": "markdown",
      "metadata": {
        "id": "9oDeDJoneDDL"
      },
      "source": [
        "# Loss, Optimizer, Scheduler 설정"
      ]
    },
    {
      "cell_type": "code",
      "metadata": {
        "id": "IL90tvKMLKVt"
      },
      "source": [
        "criterion = nn.CrossEntropyLoss()\n",
        "# pos_weight = torch.Tensor([5/95, 70/30, 70/30, 95/5, 85/15, 1.0])\n",
        "# pos_weight = pos_weight.to(device)\n",
        "# criterion = nn.BCEWithLogitsLoss(pos_weight=pos_weight)\n",
        "# criterion = nn.BCEWithLogitsLoss()\n",
        "# criterion = nn.BCELoss()\n",
        "optimizer = optim.Adam(model.parameters(), lr=lr, weight_decay=5e-4)\n",
        "# scheduler = StepLR(optimizer, 5, gamma=0.5)\n",
        "scheduler = CosineAnnealingLR(optimizer, T_max=50)"
      ],
      "execution_count": 20,
      "outputs": []
    },
    {
      "cell_type": "code",
      "metadata": {
        "colab": {
          "base_uri": "https://localhost:8080/"
        },
        "id": "qCNzyGm_H5dM",
        "outputId": "210cf2af-0379-4856-fcc0-e20dbcf133a8"
      },
      "source": [
        "it = iter(loader)"
      ],
      "execution_count": 21,
      "outputs": [
        {
          "output_type": "stream",
          "text": [
            "/usr/local/lib/python3.7/dist-packages/torch/utils/data/dataloader.py:481: UserWarning: This DataLoader will create 4 worker processes in total. Our suggested max number of worker in current system is 2, which is smaller than what this DataLoader is going to create. Please be aware that excessive worker creation might get DataLoader running slow or even freeze, lower the worker number to avoid potential slowness/freeze if necessary.\n",
            "  cpuset_checked))\n"
          ],
          "name": "stderr"
        }
      ]
    },
    {
      "cell_type": "code",
      "metadata": {
        "colab": {
          "base_uri": "https://localhost:8080/"
        },
        "id": "mtaaB5sNndlt",
        "outputId": "f43b7be4-0cb1-4bbe-bdf2-1fffb55ec013"
      },
      "source": [
        "inputs, key_inputs, labels = next(it)\n",
        "print(inputs.shape)\n",
        "print(key_inputs.shape)\n",
        "print(labels)\n",
        "# batch, seq, channel, width, height\n",
        "# batch, seq, label"
      ],
      "execution_count": 22,
      "outputs": [
        {
          "output_type": "stream",
          "text": [
            "torch.Size([8, 10, 3, 224, 224])\n",
            "torch.Size([8, 10, 6])\n",
            "tensor([32, 32, 48, 40, 48, 32, 32, 42])\n"
          ],
          "name": "stdout"
        }
      ]
    },
    {
      "cell_type": "markdown",
      "metadata": {
        "id": "ADHzW0qMeK9_"
      },
      "source": [
        "# 데이터로더, 모델 인풋, 아웃풋 점검"
      ]
    },
    {
      "cell_type": "code",
      "metadata": {
        "colab": {
          "base_uri": "https://localhost:8080/",
          "height": 814
        },
        "id": "bFQfddsJ2FXn",
        "outputId": "85c7f64a-32ef-4579-dd1a-5a826ec8a15b"
      },
      "source": [
        "from torchvision.transforms import ToPILImage\n",
        "from IPython.display import Image\n",
        "to_img = ToPILImage()\n",
        "sigmoid = nn.Sigmoid()\n",
        "\n",
        "display(to_img(inputs[0][0]))\n",
        "display(to_img(inputs[0][1]))\n",
        "display(to_img(inputs[0][-1]))\n",
        "\n",
        "inputs = inputs.to(device)\n",
        "key_inputs = key_inputs.to(device)\n",
        "labels = labels.to(device)\n",
        "outs, _, _ = model(inputs, key_inputs)\n",
        "preds = torch.argmax(outs, dim=-1)\n",
        "print(preds)\n",
        "print(labels)\n",
        "matches = (labels == preds).sum().item()\n",
        "print(matches)\n",
        "# print(((outs > 0.5) == labels).sum(axis=1))\n",
        "# print((((outs > 0.5) == labels).sum(axis=1) == 6).sum())\n",
        "loss = criterion(outs, labels)\n",
        "# print(labels)\n",
        "print(loss.cpu())\n",
        "# print(((labels == (outs > 0.5)).sum(axis=2) == 6).sum())\n",
        "# print(outs > 0.5)\n",
        "# print(labels)"
      ],
      "execution_count": 23,
      "outputs": [
        {
          "output_type": "display_data",
          "data": {
            "image/png": "[encoded data removed]",
            "text/plain": [
              "<PIL.Image.Image image mode=RGB size=224x224 at 0x7F731C30EA10>"
            ]
          },
          "metadata": {
            "tags": []
          }
        },
        {
          "output_type": "display_data",
          "data": {
            "image/png": "[encoded data removed]",
            "text/plain": [
              "<PIL.Image.Image image mode=RGB size=224x224 at 0x7F731C31C5D0>"
            ]
          },
          "metadata": {
            "tags": []
          }
        },
        {
          "output_type": "display_data",
          "data": {
            "image/png": "[encoded data removed]",
            "text/plain": [
              "<PIL.Image.Image image mode=RGB size=224x224 at 0x7F731D5A6D10>"
            ]
          },
          "metadata": {
            "tags": []
          }
        },
        {
          "output_type": "stream",
          "text": [
            "/usr/local/lib/python3.7/dist-packages/torch/nn/functional.py:718: UserWarning: Named tensors and all their associated APIs are an experimental feature and subject to change. Please do not use them for anything important until they are released as stable. (Triggered internally at  /pytorch/c10/core/TensorImpl.h:1156.)\n",
            "  return torch.max_pool2d(input, kernel_size, stride, padding, dilation, ceil_mode)\n"
          ],
          "name": "stderr"
        },
        {
          "output_type": "stream",
          "text": [
            "tensor([19, 57, 49, 26, 23, 18,  4, 36], device='cuda:0')\n",
            "tensor([32, 32, 48, 40, 48, 32, 32, 42], device='cuda:0')\n",
            "0\n",
            "tensor(4.3512, grad_fn=<CopyBackwards>)\n"
          ],
          "name": "stdout"
        }
      ]
    },
    {
      "cell_type": "markdown",
      "metadata": {
        "id": "YUEu9R1ZeTXY"
      },
      "source": [
        "# 학습 진행상황 확인을 위한 wandb 설정"
      ]
    },
    {
      "cell_type": "code",
      "metadata": {
        "colab": {
          "base_uri": "https://localhost:8080/"
        },
        "id": "97MpR5dh-2H7",
        "outputId": "abaef1ab-2573-420f-da13-2a2ef6467519"
      },
      "source": [
        "!pip install wandb"
      ],
      "execution_count": 24,
      "outputs": [
        {
          "output_type": "stream",
          "text": [
            "Collecting wandb\n",
            "\u001b[?25l  Downloading https://files.pythonhosted.org/packages/d4/f6/91c07f54c2162854f5028aaa13f576ca17a3bc0cf6da02c2ad5baddae128/wandb-0.10.33-py2.py3-none-any.whl (1.8MB)\n",
            "\u001b[K     |████████████████████████████████| 1.8MB 8.2MB/s \n",
            "\u001b[?25hRequirement already satisfied: requests<3,>=2.0.0 in /usr/local/lib/python3.7/dist-packages (from wandb) (2.23.0)\n",
            "Collecting configparser>=3.8.1\n",
            "  Downloading https://files.pythonhosted.org/packages/fd/01/ff260a18caaf4457eb028c96eeb405c4a230ca06c8ec9c1379f813caa52e/configparser-5.0.2-py3-none-any.whl\n",
            "Collecting sentry-sdk>=0.4.0\n",
            "\u001b[?25l  Downloading https://files.pythonhosted.org/packages/ce/41/75fad31fff378871c462745ce724b3701a6acad17028d79476ec2545e40f/sentry_sdk-1.3.0-py2.py3-none-any.whl (133kB)\n",
            "\u001b[K     |████████████████████████████████| 143kB 52.6MB/s \n",
            "\u001b[?25hRequirement already satisfied: PyYAML in /usr/local/lib/python3.7/dist-packages (from wandb) (3.13)\n",
            "Collecting shortuuid>=0.5.0\n",
            "  Downloading https://files.pythonhosted.org/packages/25/a6/2ecc1daa6a304e7f1b216f0896b26156b78e7c38e1211e9b798b4716c53d/shortuuid-1.0.1-py3-none-any.whl\n",
            "Collecting GitPython>=1.0.0\n",
            "\u001b[?25l  Downloading https://files.pythonhosted.org/packages/bc/91/b38c4fabb6e5092ab23492ded4f318ab7299b19263272b703478038c0fbc/GitPython-3.1.18-py3-none-any.whl (170kB)\n",
            "\u001b[K     |████████████████████████████████| 174kB 51.4MB/s \n",
            "\u001b[?25hRequirement already satisfied: psutil>=5.0.0 in /usr/local/lib/python3.7/dist-packages (from wandb) (5.4.8)\n",
            "Requirement already satisfied: python-dateutil>=2.6.1 in /usr/local/lib/python3.7/dist-packages (from wandb) (2.8.1)\n",
            "Requirement already satisfied: Click!=8.0.0,>=7.0 in /usr/local/lib/python3.7/dist-packages (from wandb) (7.1.2)\n",
            "Requirement already satisfied: promise<3,>=2.0 in /usr/local/lib/python3.7/dist-packages (from wandb) (2.3)\n",
            "Requirement already satisfied: protobuf>=3.12.0 in /usr/local/lib/python3.7/dist-packages (from wandb) (3.17.3)\n",
            "Requirement already satisfied: six>=1.13.0 in /usr/local/lib/python3.7/dist-packages (from wandb) (1.15.0)\n",
            "Collecting docker-pycreds>=0.4.0\n",
            "  Downloading https://files.pythonhosted.org/packages/f5/e8/f6bd1eee09314e7e6dee49cbe2c5e22314ccdb38db16c9fc72d2fa80d054/docker_pycreds-0.4.0-py2.py3-none-any.whl\n",
            "Collecting subprocess32>=3.5.3\n",
            "\u001b[?25l  Downloading https://files.pythonhosted.org/packages/32/c8/564be4d12629b912ea431f1a50eb8b3b9d00f1a0b1ceff17f266be190007/subprocess32-3.5.4.tar.gz (97kB)\n",
            "\u001b[K     |████████████████████████████████| 102kB 15.9MB/s \n",
            "\u001b[?25hCollecting pathtools\n",
            "  Downloading https://files.pythonhosted.org/packages/e7/7f/470d6fcdf23f9f3518f6b0b76be9df16dcc8630ad409947f8be2eb0ed13a/pathtools-0.1.2.tar.gz\n",
            "Requirement already satisfied: idna<3,>=2.5 in /usr/local/lib/python3.7/dist-packages (from requests<3,>=2.0.0->wandb) (2.10)\n",
            "Requirement already satisfied: urllib3!=1.25.0,!=1.25.1,<1.26,>=1.21.1 in /usr/local/lib/python3.7/dist-packages (from requests<3,>=2.0.0->wandb) (1.24.3)\n",
            "Requirement already satisfied: chardet<4,>=3.0.2 in /usr/local/lib/python3.7/dist-packages (from requests<3,>=2.0.0->wandb) (3.0.4)\n",
            "Requirement already satisfied: certifi>=2017.4.17 in /usr/local/lib/python3.7/dist-packages (from requests<3,>=2.0.0->wandb) (2021.5.30)\n",
            "Collecting gitdb<5,>=4.0.1\n",
            "\u001b[?25l  Downloading https://files.pythonhosted.org/packages/ea/e8/f414d1a4f0bbc668ed441f74f44c116d9816833a48bf81d22b697090dba8/gitdb-4.0.7-py3-none-any.whl (63kB)\n",
            "\u001b[K     |████████████████████████████████| 71kB 11.7MB/s \n",
            "\u001b[?25hRequirement already satisfied: typing-extensions>=3.7.4.0; python_version < \"3.8\" in /usr/local/lib/python3.7/dist-packages (from GitPython>=1.0.0->wandb) (3.7.4.3)\n",
            "Collecting smmap<5,>=3.0.1\n",
            "  Downloading https://files.pythonhosted.org/packages/68/ee/d540eb5e5996eb81c26ceffac6ee49041d473bc5125f2aa995cf51ec1cf1/smmap-4.0.0-py2.py3-none-any.whl\n",
            "Building wheels for collected packages: subprocess32, pathtools\n",
            "  Building wheel for subprocess32 (setup.py) ... \u001b[?25l\u001b[?25hdone\n",
            "  Created wheel for subprocess32: filename=subprocess32-3.5.4-cp37-none-any.whl size=6502 sha256=d5d616f7107c19e4db5726599a639e32843eb9dd665fecb8a4d3bfe10da9c45c\n",
            "  Stored in directory: /root/.cache/pip/wheels/68/39/1a/5e402bdfdf004af1786c8b853fd92f8c4a04f22aad179654d1\n",
            "  Building wheel for pathtools (setup.py) ... \u001b[?25l\u001b[?25hdone\n",
            "  Created wheel for pathtools: filename=pathtools-0.1.2-cp37-none-any.whl size=8807 sha256=177a2e8c2807834dcf51c99725ce918bef4c554c9d14ad332a54d8122c7b6ea7\n",
            "  Stored in directory: /root/.cache/pip/wheels/0b/04/79/c3b0c3a0266a3cb4376da31e5bfe8bba0c489246968a68e843\n",
            "Successfully built subprocess32 pathtools\n",
            "Installing collected packages: configparser, sentry-sdk, shortuuid, smmap, gitdb, GitPython, docker-pycreds, subprocess32, pathtools, wandb\n",
            "Successfully installed GitPython-3.1.18 configparser-5.0.2 docker-pycreds-0.4.0 gitdb-4.0.7 pathtools-0.1.2 sentry-sdk-1.3.0 shortuuid-1.0.1 smmap-4.0.0 subprocess32-3.5.4 wandb-0.10.33\n"
          ],
          "name": "stdout"
        }
      ]
    },
    {
      "cell_type": "code",
      "metadata": {
        "colab": {
          "base_uri": "https://localhost:8080/",
          "height": 69
        },
        "id": "MBXF3hbr_CnU",
        "outputId": "bfd15888-c249-4584-9a5a-6553fe4adaae"
      },
      "source": [
        "import wandb\n",
        "\n",
        "wandb.login()"
      ],
      "execution_count": 25,
      "outputs": [
        {
          "output_type": "display_data",
          "data": {
            "application/javascript": [
              "\n",
              "        window._wandbApiKey = new Promise((resolve, reject) => {\n",
              "            function loadScript(url) {\n",
              "            return new Promise(function(resolve, reject) {\n",
              "                let newScript = document.createElement(\"script\");\n",
              "                newScript.onerror = reject;\n",
              "                newScript.onload = resolve;\n",
              "                document.body.appendChild(newScript);\n",
              "                newScript.src = url;\n",
              "            });\n",
              "            }\n",
              "            loadScript(\"https://cdn.jsdelivr.net/npm/postmate/build/postmate.min.js\").then(() => {\n",
              "            const iframe = document.createElement('iframe')\n",
              "            iframe.style.cssText = \"width:0;height:0;border:none\"\n",
              "            document.body.appendChild(iframe)\n",
              "            const handshake = new Postmate({\n",
              "                container: iframe,\n",
              "                url: 'https://wandb.ai/authorize'\n",
              "            });\n",
              "            const timeout = setTimeout(() => reject(\"Couldn't auto authenticate\"), 5000)\n",
              "            handshake.then(function(child) {\n",
              "                child.on('authorize', data => {\n",
              "                    clearTimeout(timeout)\n",
              "                    resolve(data)\n",
              "                });\n",
              "            });\n",
              "            })\n",
              "        });\n",
              "    "
            ],
            "text/plain": [
              "<IPython.core.display.Javascript object>"
            ]
          },
          "metadata": {
            "tags": []
          }
        },
        {
          "output_type": "stream",
          "text": [
            "\u001b[34m\u001b[1mwandb\u001b[0m: Appending key for api.wandb.ai to your netrc file: /root/.netrc\n"
          ],
          "name": "stderr"
        },
        {
          "output_type": "execute_result",
          "data": {
            "text/plain": [
              "True"
            ]
          },
          "metadata": {
            "tags": []
          },
          "execution_count": 25
        }
      ]
    },
    {
      "cell_type": "code",
      "metadata": {
        "colab": {
          "base_uri": "https://localhost:8080/",
          "height": 596
        },
        "id": "ywyX1-As_Nou",
        "outputId": "c2894c53-3aca-4330-99f6-d182385da837"
      },
      "source": [
        "config = {}\n",
        "config['n_epochs'] = num_epochs\n",
        "config['batch_sze'] = batch_size\n",
        "# config['lr'] = lr\n",
        "\n",
        "\n",
        "wandb.init(project=\"boomhill24_6\", config=config)"
      ],
      "execution_count": 26,
      "outputs": [
        {
          "output_type": "stream",
          "text": [
            "\u001b[34m\u001b[1mwandb\u001b[0m: Currently logged in as: \u001b[33mjunhyeokk\u001b[0m (use `wandb login --relogin` to force relogin)\n"
          ],
          "name": "stderr"
        },
        {
          "output_type": "display_data",
          "data": {
            "text/html": [
              "\n",
              "                Tracking run with wandb version 0.10.33<br/>\n",
              "                Syncing run <strong style=\"color:#cdcd00\">misty-sun-12</strong> to <a href=\"https://wandb.ai\" target=\"_blank\">Weights & Biases</a> <a href=\"https://docs.wandb.com/integrations/jupyter.html\" target=\"_blank\">(Documentation)</a>.<br/>\n",
              "                Project page: <a href=\"https://wandb.ai/junhyeokk/boomhill24_6\" target=\"_blank\">https://wandb.ai/junhyeokk/boomhill24_6</a><br/>\n",
              "                Run page: <a href=\"https://wandb.ai/junhyeokk/boomhill24_6/runs/2mwi67zh\" target=\"_blank\">https://wandb.ai/junhyeokk/boomhill24_6/runs/2mwi67zh</a><br/>\n",
              "                Run data is saved locally in <code>/content/wandb/run-20210711_133023-2mwi67zh</code><br/><br/>\n",
              "            "
            ],
            "text/plain": [
              "<IPython.core.display.HTML object>"
            ]
          },
          "metadata": {
            "tags": []
          }
        },
        {
          "output_type": "execute_result",
          "data": {
            "text/plain": [
              "<wandb.sdk.wandb_run.Run at 0x7f72a4d2f750>"
            ],
            "text/html": [
              "<h1>Run(2mwi67zh)</h1><iframe src=\"https://wandb.ai/junhyeokk/boomhill24_6/runs/2mwi67zh\" style=\"border:none;width:100%;height:400px\"></iframe>"
            ]
          },
          "metadata": {
            "tags": []
          },
          "execution_count": 26
        }
      ]
    },
    {
      "cell_type": "markdown",
      "metadata": {
        "id": "hinVVVHHeXxT"
      },
      "source": [
        "# 학습 진행 및 저장"
      ]
    },
    {
      "cell_type": "code",
      "metadata": {
        "colab": {
          "base_uri": "https://localhost:8080/"
        },
        "id": "ZfhPU3UcEqJl",
        "outputId": "2d503ec0-27ed-4b79-a242-24455d5d8e0c"
      },
      "source": [
        "for epoch in range(num_epochs):\n",
        "  model.train()\n",
        "  loss_value = 0\n",
        "  matches = 0\n",
        "  \n",
        "  for idx, train_batch in enumerate(loader):\n",
        "    inputs, key_inputs, labels = train_batch\n",
        "    inputs = inputs.to(device)\n",
        "    key_inputs = key_inputs.to(device)\n",
        "    labels = labels.to(device)\n",
        "\n",
        "    outs, _, _ = model(inputs, key_inputs)\n",
        "    preds = torch.argmax(outs, dim=-1)\n",
        "    loss = criterion(outs, labels)\n",
        "\n",
        "    loss.backward()\n",
        "    optimizer.step()\n",
        "    optimizer.zero_grad()\n",
        "\n",
        "    loss_value += loss.item()\n",
        "    # matches += (preds == labels).sum().item()\n",
        "    # matches += ((preds == labels).sum(axis = 1) == 6).sum()\n",
        "    matches += (labels == preds).sum().item()\n",
        "\n",
        "    if (idx + 1) % log_interval == 0:\n",
        "      train_loss = loss_value / log_interval\n",
        "      train_acc = matches / batch_size / log_interval\n",
        "      current_lr = scheduler.get_last_lr()\n",
        "\n",
        "      wandb.log({\"epoch\" : epoch, \"training_loss\" : train_loss, \"training_acc\" : train_acc, \"learning_rate\" : current_lr})\n",
        "      print(\n",
        "          f\"Epoch[{epoch + 1}/{num_epochs}]({idx + 1}/{len(loader)}) || \"\n",
        "          # f\"training loss {train_loss:4.4} || lr {current_lr}\"\n",
        "          f\"training loss {train_loss:4.4} || training accuracy {train_acc:4.2%} || lr {current_lr}\"\n",
        "      )\n",
        "\n",
        "      loss_value = 0\n",
        "      matches = 0\n",
        "\n",
        "    scheduler.step()\n",
        "    \n",
        "  # torch.save(model.state_dict(), save_path)"
      ],
      "execution_count": 29,
      "outputs": [
        {
          "output_type": "stream",
          "text": [
            "/usr/local/lib/python3.7/dist-packages/torch/utils/data/dataloader.py:481: UserWarning: This DataLoader will create 4 worker processes in total. Our suggested max number of worker in current system is 2, which is smaller than what this DataLoader is going to create. Please be aware that excessive worker creation might get DataLoader running slow or even freeze, lower the worker number to avoid potential slowness/freeze if necessary.\n",
            "  cpuset_checked))\n"
          ],
          "name": "stderr"
        },
        {
          "output_type": "stream",
          "text": [
            "Epoch[1/10](10/659) || training loss 1.39 || training accuracy 47.50% || lr [9.990133642128417e-05]\n",
            "Epoch[1/10](20/659) || training loss 1.117 || training accuracy 58.75% || lr [9.221639627498297e-05]\n",
            "Epoch[1/10](30/659) || training loss 1.432 || training accuracy 46.25% || lr [6.84062276341466e-05]\n",
            "Epoch[1/10](40/659) || training loss 1.439 || training accuracy 53.75% || lr [3.756550564171113e-05]\n",
            "Epoch[1/10](50/659) || training loss 1.442 || training accuracy 51.25% || lr [1.1474337861194495e-05]\n",
            "Epoch[1/10](60/659) || training loss 1.546 || training accuracy 41.25% || lr [9.866357858625546e-08]\n",
            "Epoch[1/10](70/659) || training loss 1.227 || training accuracy 60.00% || lr [7.783603724908109e-06]\n",
            "Epoch[1/10](80/659) || training loss 1.381 || training accuracy 51.25% || lr [3.159377236580434e-05]\n",
            "Epoch[1/10](90/659) || training loss 1.528 || training accuracy 48.75% || lr [6.24344943583162e-05]\n",
            "Epoch[1/10](100/659) || training loss 1.791 || training accuracy 43.75% || lr [8.852566213889304e-05]\n",
            "Epoch[1/10](110/659) || training loss 1.617 || training accuracy 47.50% || lr [9.990133642153155e-05]\n",
            "Epoch[1/10](120/659) || training loss 1.52 || training accuracy 47.50% || lr [9.221639627521024e-05]\n",
            "Epoch[1/10](130/659) || training loss 1.457 || training accuracy 45.00% || lr [6.840622763431688e-05]\n",
            "Epoch[1/10](140/659) || training loss 1.416 || training accuracy 48.75% || lr [3.756550564180237e-05]\n",
            "Epoch[1/10](150/659) || training loss 1.634 || training accuracy 36.25% || lr [1.1474337861225387e-05]\n",
            "Epoch[1/10](160/659) || training loss 1.254 || training accuracy 51.25% || lr [9.866357858656623e-08]\n",
            "Epoch[1/10](170/659) || training loss 1.662 || training accuracy 43.75% || lr [7.783603724914748e-06]\n",
            "Epoch[1/10](180/659) || training loss 1.363 || training accuracy 50.00% || lr [3.159377236582645e-05]\n",
            "Epoch[1/10](190/659) || training loss 1.471 || training accuracy 47.50% || lr [6.243449435836087e-05]\n",
            "Epoch[1/10](200/659) || training loss 1.66 || training accuracy 42.50% || lr [8.852566213895893e-05]\n",
            "Epoch[1/10](210/659) || training loss 1.442 || training accuracy 41.25% || lr [9.990133642160458e-05]\n",
            "Epoch[1/10](220/659) || training loss 1.337 || training accuracy 48.75% || lr [9.221639627527832e-05]\n",
            "Epoch[1/10](230/659) || training loss 1.449 || training accuracy 53.75% || lr [6.840622763436532e-05]\n",
            "Epoch[1/10](240/659) || training loss 1.466 || training accuracy 41.25% || lr [3.756550564183092e-05]\n",
            "Epoch[1/10](250/659) || training loss 1.242 || training accuracy 58.75% || lr [1.1474337861234475e-05]\n",
            "Epoch[1/10](260/659) || training loss 1.665 || training accuracy 51.25% || lr [9.866357858670507e-08]\n",
            "Epoch[1/10](270/659) || training loss 1.458 || training accuracy 48.75% || lr [7.783603724905412e-06]\n",
            "Epoch[1/10](280/659) || training loss 1.439 || training accuracy 48.75% || lr [3.159377236579254e-05]\n",
            "Epoch[1/10](290/659) || training loss 1.512 || training accuracy 46.25% || lr [6.243449435829233e-05]\n",
            "Epoch[1/10](300/659) || training loss 1.62 || training accuracy 50.00% || lr [8.852566213885862e-05]\n",
            "Epoch[1/10](310/659) || training loss 1.512 || training accuracy 46.25% || lr [9.990133642149224e-05]\n",
            "Epoch[1/10](320/659) || training loss 1.451 || training accuracy 52.50% || lr [9.221639627517356e-05]\n",
            "Epoch[1/10](330/659) || training loss 1.345 || training accuracy 53.75% || lr [6.840622763428932e-05]\n",
            "Epoch[1/10](340/659) || training loss 1.355 || training accuracy 57.50% || lr [3.756550564178969e-05]\n",
            "Epoch[1/10](350/659) || training loss 1.25 || training accuracy 46.25% || lr [1.1474337861220438e-05]\n",
            "Epoch[1/10](360/659) || training loss 1.369 || training accuracy 60.00% || lr [9.866357858666066e-08]\n",
            "Epoch[1/10](370/659) || training loss 1.55 || training accuracy 47.50% || lr [7.783603724908568e-06]\n",
            "Epoch[1/10](380/659) || training loss 1.138 || training accuracy 58.75% || lr [3.159377236581288e-05]\n",
            "Epoch[1/10](390/659) || training loss 1.458 || training accuracy 51.25% || lr [6.243449435833348e-05]\n",
            "Epoch[1/10](400/659) || training loss 1.549 || training accuracy 41.25% || lr [8.852566213891963e-05]\n",
            "Epoch[1/10](410/659) || training loss 1.618 || training accuracy 46.25% || lr [9.990133642155982e-05]\n",
            "Epoch[1/10](420/659) || training loss 1.498 || training accuracy 52.50% || lr [9.221639627523656e-05]\n",
            "Epoch[1/10](430/659) || training loss 1.368 || training accuracy 52.50% || lr [6.840622763433397e-05]\n",
            "Epoch[1/10](440/659) || training loss 1.411 || training accuracy 52.50% || lr [3.7565505641813424e-05]\n",
            "Epoch[1/10](450/659) || training loss 1.514 || training accuracy 46.25% || lr [1.1474337861228897e-05]\n",
            "Epoch[1/10](460/659) || training loss 1.421 || training accuracy 42.50% || lr [9.866357858662202e-08]\n",
            "Epoch[1/10](470/659) || training loss 1.382 || training accuracy 47.50% || lr [7.783603724900752e-06]\n",
            "Epoch[1/10](480/659) || training loss 1.443 || training accuracy 48.75% || lr [3.159377236577366e-05]\n",
            "Epoch[1/10](490/659) || training loss 1.272 || training accuracy 45.00% || lr [6.243449435826489e-05]\n",
            "Epoch[1/10](500/659) || training loss 1.613 || training accuracy 40.00% || lr [8.852566213881926e-05]\n",
            "Epoch[1/10](510/659) || training loss 1.215 || training accuracy 56.25% || lr [9.990133642144721e-05]\n",
            "Epoch[1/10](520/659) || training loss 1.262 || training accuracy 55.00% || lr [9.221639627513177e-05]\n",
            "Epoch[1/10](530/659) || training loss 1.556 || training accuracy 41.25% || lr [6.840622763425794e-05]\n",
            "Epoch[1/10](540/659) || training loss 1.578 || training accuracy 48.75% || lr [3.756550564177214e-05]\n",
            "Epoch[1/10](550/659) || training loss 1.542 || training accuracy 50.00% || lr [1.147433786121484e-05]\n",
            "Epoch[1/10](560/659) || training loss 1.456 || training accuracy 50.00% || lr [9.866357858657747e-08]\n",
            "Epoch[1/10](570/659) || training loss 1.503 || training accuracy 51.25% || lr [7.783603724905429e-06]\n",
            "Epoch[1/10](580/659) || training loss 1.456 || training accuracy 48.75% || lr [3.1593772365796625e-05]\n",
            "Epoch[1/10](590/659) || training loss 1.547 || training accuracy 45.00% || lr [6.243449435830597e-05]\n",
            "Epoch[1/10](600/659) || training loss 1.424 || training accuracy 43.75% || lr [8.852566213888006e-05]\n",
            "Epoch[1/10](610/659) || training loss 1.463 || training accuracy 50.00% || lr [9.990133642151466e-05]\n",
            "Epoch[1/10](620/659) || training loss 1.319 || training accuracy 52.50% || lr [9.22163962751945e-05]\n",
            "Epoch[1/10](630/659) || training loss 1.376 || training accuracy 58.75% || lr [6.840622763430241e-05]\n",
            "Epoch[1/10](640/659) || training loss 1.386 || training accuracy 52.50% || lr [3.7565505641795744e-05]\n",
            "Epoch[1/10](650/659) || training loss 1.44 || training accuracy 57.50% || lr [1.1474337861223257e-05]\n",
            "Epoch[2/10](10/659) || training loss 1.546 || training accuracy 47.50% || lr [6.184665997806058e-06]\n",
            "Epoch[2/10](20/659) || training loss 1.567 || training accuracy 48.75% || lr [2.8711035421741885e-05]\n",
            "Epoch[2/10](30/659) || training loss 1.252 || training accuracy 60.00% || lr [5.936906572927975e-05]\n",
            "Epoch[2/10](40/659) || training loss 1.36 || training accuracy 53.75% || lr [8.64484313710601e-05]\n",
            "Epoch[2/10](50/659) || training loss 1.594 || training accuracy 46.25% || lr [9.960573506571231e-05]\n",
            "Epoch[2/10](60/659) || training loss 1.572 || training accuracy 47.50% || lr [9.381533400218287e-05]\n",
            "Epoch[2/10](70/659) || training loss 1.661 || training accuracy 42.50% || lr [7.12889645782473e-05]\n",
            "Epoch[2/10](80/659) || training loss 1.566 || training accuracy 45.00% || lr [4.063093427071229e-05]\n",
            "Epoch[2/10](90/659) || training loss 1.662 || training accuracy 52.50% || lr [1.3551568628927022e-05]\n",
            "Epoch[2/10](100/659) || training loss  1.6 || training accuracy 40.00% || lr [3.942649342760616e-07]\n",
            "Epoch[2/10](110/659) || training loss 1.33 || training accuracy 51.25% || lr [6.1846659978097115e-06]\n",
            "Epoch[2/10](120/659) || training loss 1.434 || training accuracy 57.50% || lr [2.871103542176287e-05]\n",
            "Epoch[2/10](130/659) || training loss 1.456 || training accuracy 51.25% || lr [5.93690657293188e-05]\n",
            "Epoch[2/10](140/659) || training loss 1.288 || training accuracy 52.50% || lr [8.644843137111778e-05]\n",
            "Epoch[2/10](150/659) || training loss 1.225 || training accuracy 58.75% || lr [9.960573506577988e-05]\n",
            "Epoch[2/10](160/659) || training loss 1.54 || training accuracy 52.50% || lr [9.38153340022468e-05]\n",
            "Epoch[2/10](170/659) || training loss 1.638 || training accuracy 42.50% || lr [7.128896457829643e-05]\n",
            "Epoch[2/10](180/659) || training loss 1.352 || training accuracy 48.75% || lr [4.063093427073799e-05]\n",
            "Epoch[2/10](190/659) || training loss 1.381 || training accuracy 53.75% || lr [1.3551568628938855e-05]\n",
            "Epoch[2/10](200/659) || training loss 1.349 || training accuracy 60.00% || lr [3.9426493427610573e-07]\n",
            "Epoch[2/10](210/659) || training loss 1.446 || training accuracy 58.75% || lr [6.184665997803602e-06]\n",
            "Epoch[2/10](220/659) || training loss 1.303 || training accuracy 56.25% || lr [2.871103542172958e-05]\n",
            "Epoch[2/10](230/659) || training loss 1.441 || training accuracy 57.50% || lr [5.936906572925372e-05]\n",
            "Epoch[2/10](240/659) || training loss 1.245 || training accuracy 53.75% || lr [8.644843137102166e-05]\n",
            "Epoch[2/10](250/659) || training loss 1.373 || training accuracy 47.50% || lr [9.96057350656676e-05]\n",
            "Epoch[2/10](260/659) || training loss 1.45 || training accuracy 41.25% || lr [9.381533400214035e-05]\n",
            "Epoch[2/10](270/659) || training loss 1.51 || training accuracy 42.50% || lr [7.128896457821461e-05]\n",
            "Epoch[2/10](280/659) || training loss 1.635 || training accuracy 51.25% || lr [4.063093427069333e-05]\n",
            "Epoch[2/10](290/659) || training loss 1.381 || training accuracy 51.25% || lr [1.3551568628924342e-05]\n",
            "Epoch[2/10](300/659) || training loss 1.453 || training accuracy 48.75% || lr [3.942649342761561e-07]\n",
            "Epoch[2/10](310/659) || training loss 1.263 || training accuracy 47.50% || lr [6.18466599780761e-06]\n",
            "Epoch[2/10](320/659) || training loss 1.468 || training accuracy 50.00% || lr [2.8711035421752178e-05]\n",
            "Epoch[2/10](330/659) || training loss 1.392 || training accuracy 51.25% || lr [5.9369065729296064e-05]\n",
            "Epoch[2/10](340/659) || training loss 1.444 || training accuracy 42.50% || lr [8.644843137108417e-05]\n",
            "Epoch[2/10](350/659) || training loss 1.323 || training accuracy 53.75% || lr [9.96057350657407e-05]\n",
            "Epoch[2/10](360/659) || training loss 1.462 || training accuracy 48.75% || lr [9.381533400220953e-05]\n",
            "Epoch[2/10](370/659) || training loss 1.325 || training accuracy 55.00% || lr [7.128896457826772e-05]\n",
            "Epoch[2/10](380/659) || training loss 1.229 || training accuracy 57.50% || lr [4.0630934270721316e-05]\n",
            "Epoch[2/10](390/659) || training loss 1.407 || training accuracy 50.00% || lr [1.3551568628933051e-05]\n",
            "Epoch[2/10](400/659) || training loss 1.488 || training accuracy 46.25% || lr [3.942649342765777e-07]\n",
            "Epoch[2/10](410/659) || training loss 1.383 || training accuracy 55.00% || lr [6.184665997800127e-06]\n",
            "Epoch[2/10](420/659) || training loss 1.404 || training accuracy 55.00% || lr [2.8711035421718896e-05]\n",
            "Epoch[2/10](430/659) || training loss 1.305 || training accuracy 46.25% || lr [5.936906572923102e-05]\n",
            "Epoch[2/10](440/659) || training loss 1.67 || training accuracy 47.50% || lr [8.644843137098811e-05]\n",
            "Epoch[2/10](450/659) || training loss 1.568 || training accuracy 48.75% || lr [9.960573506562845e-05]\n",
            "Epoch[2/10](460/659) || training loss 1.687 || training accuracy 43.75% || lr [9.381533400210445e-05]\n",
            "Epoch[2/10](470/659) || training loss 1.279 || training accuracy 60.00% || lr [7.128896457818592e-05]\n",
            "Epoch[2/10](480/659) || training loss 1.318 || training accuracy 51.25% || lr [4.063093427067665e-05]\n",
            "Epoch[2/10](490/659) || training loss 1.343 || training accuracy 52.50% || lr [1.3551568628918545e-05]\n",
            "Epoch[2/10](500/659) || training loss 1.484 || training accuracy 46.25% || lr [3.942649342759121e-07]\n",
            "Epoch[2/10](510/659) || training loss 1.498 || training accuracy 47.50% || lr [6.184665997803781e-06]\n",
            "Epoch[2/10](520/659) || training loss 1.526 || training accuracy 53.75% || lr [2.8711035421739875e-05]\n",
            "Epoch[2/10](530/659) || training loss 1.411 || training accuracy 48.75% || lr [5.936906572927003e-05]\n",
            "Epoch[2/10](540/659) || training loss 1.318 || training accuracy 51.25% || lr [8.644843137104577e-05]\n",
            "Epoch[2/10](550/659) || training loss 1.445 || training accuracy 37.50% || lr [9.9605735065696e-05]\n",
            "Epoch[2/10](560/659) || training loss 1.508 || training accuracy 50.00% || lr [9.381533400216698e-05]\n",
            "Epoch[2/10](570/659) || training loss 1.499 || training accuracy 53.75% || lr [7.128896457823506e-05]\n",
            "Epoch[2/10](580/659) || training loss 1.284 || training accuracy 53.75% || lr [4.0630934270702376e-05]\n",
            "Epoch[2/10](590/659) || training loss 1.335 || training accuracy 48.75% || lr [1.3551568628926481e-05]\n",
            "Epoch[2/10](600/659) || training loss 1.449 || training accuracy 51.25% || lr [3.9426493427631167e-07]\n",
            "Epoch[2/10](610/659) || training loss 1.498 || training accuracy 48.75% || lr [6.184665997819949e-06]\n",
            "Epoch[2/10](620/659) || training loss 1.391 || training accuracy 50.00% || lr [2.8711035421807404e-05]\n",
            "Epoch[2/10](630/659) || training loss 1.413 || training accuracy 50.00% || lr [5.936906572941594e-05]\n",
            "Epoch[2/10](640/659) || training loss 1.298 || training accuracy 58.75% || lr [8.6448431371261e-05]\n",
            "Epoch[2/10](650/659) || training loss 1.54 || training accuracy 40.00% || lr [9.960573506594246e-05]\n",
            "Epoch[3/10](10/659) || training loss 1.388 || training accuracy 51.25% || lr [7.408768370524963e-05]\n",
            "Epoch[3/10](20/659) || training loss 1.619 || training accuracy 46.25% || lr [4.373333832188062e-05]\n",
            "Epoch[3/10](30/659) || training loss 1.514 || training accuracy 47.50% || lr [1.5772644703600978e-05]\n",
            "Epoch[3/10](40/659) || training loss 1.303 || training accuracy 53.75% || lr [8.856374635674136e-07]\n",
            "Epoch[3/10](50/659) || training loss 1.483 || training accuracy 52.50% || lr [4.758647376703792e-06]\n",
            "Epoch[3/10](60/659) || training loss 1.425 || training accuracy 47.50% || lr [2.59123162949402e-05]\n",
            "Epoch[3/10](70/659) || training loss 1.46 || training accuracy 56.25% || lr [5.626666167827497e-05]\n",
            "Epoch[3/10](80/659) || training loss 1.515 || training accuracy 41.25% || lr [8.422735529652327e-05]\n",
            "Epoch[3/10](90/659) || training loss 1.501 || training accuracy 46.25% || lr [9.911436253653981e-05]\n",
            "Epoch[3/10](100/659) || training loss 1.34 || training accuracy 53.75% || lr [9.524135262340329e-05]\n",
            "Epoch[3/10](110/659) || training loss 1.337 || training accuracy 57.50% || lr [7.408768370516715e-05]\n",
            "Epoch[3/10](120/659) || training loss 1.493 || training accuracy 45.00% || lr [4.373333832183526e-05]\n",
            "Epoch[3/10](130/659) || training loss 1.515 || training accuracy 52.50% || lr [1.5772644703581933e-05]\n",
            "Epoch[3/10](140/659) || training loss 1.247 || training accuracy 45.00% || lr [8.856374635666214e-07]\n",
            "Epoch[3/10](150/659) || training loss 1.476 || training accuracy 51.25% || lr [4.75864737670776e-06]\n",
            "Epoch[3/10](160/659) || training loss 1.427 || training accuracy 43.75% || lr [2.5912316294959237e-05]\n",
            "Epoch[3/10](170/659) || training loss 1.376 || training accuracy 43.75% || lr [5.6266661678311914e-05]\n",
            "Epoch[3/10](180/659) || training loss 1.483 || training accuracy 47.50% || lr [8.422735529658147e-05]\n",
            "Epoch[3/10](190/659) || training loss 1.33 || training accuracy 46.25% || lr [9.911436253660713e-05]\n",
            "Epoch[3/10](200/659) || training loss 1.386 || training accuracy 47.50% || lr [9.524135262346814e-05]\n",
            "Epoch[3/10](210/659) || training loss 1.531 || training accuracy 57.50% || lr [7.408768370521569e-05]\n",
            "Epoch[3/10](220/659) || training loss 1.51 || training accuracy 48.75% || lr [4.3733338321863075e-05]\n",
            "Epoch[3/10](230/659) || training loss 1.573 || training accuracy 47.50% || lr [1.577264470359546e-05]\n",
            "Epoch[3/10](240/659) || training loss 1.54 || training accuracy 38.75% || lr [8.856374635668875e-07]\n",
            "Epoch[3/10](250/659) || training loss 1.494 || training accuracy 53.75% || lr [4.75864737671078e-06]\n",
            "Epoch[3/10](260/659) || training loss 1.405 || training accuracy 51.25% || lr [2.5912316294977248e-05]\n",
            "Epoch[3/10](270/659) || training loss 1.618 || training accuracy 46.25% || lr [5.6266661678351995e-05]\n",
            "Epoch[3/10](280/659) || training loss 1.248 || training accuracy 56.25% || lr [8.422735529664435e-05]\n",
            "Epoch[3/10](290/659) || training loss 1.451 || training accuracy 45.00% || lr [9.911436253667996e-05]\n",
            "Epoch[3/10](300/659) || training loss 1.617 || training accuracy 45.00% || lr [9.524135262353704e-05]\n",
            "Epoch[3/10](310/659) || training loss 1.292 || training accuracy 55.00% || lr [7.408768370527081e-05]\n",
            "Epoch[3/10](320/659) || training loss 1.581 || training accuracy 48.75% || lr [4.373333832189613e-05]\n",
            "Epoch[3/10](330/659) || training loss 1.129 || training accuracy 52.50% || lr [1.5772644703607775e-05]\n",
            "Epoch[3/10](340/659) || training loss 1.478 || training accuracy 47.50% || lr [8.856374635677401e-07]\n",
            "Epoch[3/10](350/659) || training loss 1.27 || training accuracy 53.75% || lr [4.758647376696396e-06]\n",
            "Epoch[3/10](360/659) || training loss 1.486 || training accuracy 46.25% || lr [2.591231629490048e-05]\n",
            "Epoch[3/10](370/659) || training loss 1.386 || training accuracy 53.75% || lr [5.6266661678191926e-05]\n",
            "Epoch[3/10](380/659) || training loss 1.426 || training accuracy 45.00% || lr [8.422735529639717e-05]\n",
            "Epoch[3/10](390/659) || training loss 1.131 || training accuracy 65.00% || lr [9.911436253638981e-05]\n",
            "Epoch[3/10](400/659) || training loss 1.284 || training accuracy 53.75% || lr [9.524135262325889e-05]\n",
            "Epoch[3/10](410/659) || training loss 1.453 || training accuracy 51.25% || lr [7.408768370505504e-05]\n",
            "Epoch[3/10](420/659) || training loss 1.54 || training accuracy 45.00% || lr [4.3733338321769264e-05]\n",
            "Epoch[3/10](430/659) || training loss 1.261 || training accuracy 50.00% || lr [1.5772644703558274e-05]\n",
            "Epoch[3/10](440/659) || training loss 1.192 || training accuracy 56.25% || lr [8.856374635653492e-07]\n",
            "Epoch[3/10](450/659) || training loss 1.309 || training accuracy 52.50% || lr [4.758647376701574e-06]\n",
            "Epoch[3/10](460/659) || training loss 1.386 || training accuracy 57.50% || lr [2.591231629492202e-05]\n",
            "Epoch[3/10](470/659) || training loss 1.414 || training accuracy 47.50% || lr [5.626666167822885e-05]\n",
            "Epoch[3/10](480/659) || training loss 1.462 || training accuracy 45.00% || lr [8.422735529645315e-05]\n",
            "Epoch[3/10](490/659) || training loss 1.08 || training accuracy 60.00% || lr [9.911436253645641e-05]\n",
            "Epoch[3/10](500/659) || training loss 1.627 || training accuracy 46.25% || lr [9.524135262332352e-05]\n",
            "Epoch[3/10](510/659) || training loss 1.489 || training accuracy 53.75% || lr [7.408768370510587e-05]\n",
            "Epoch[3/10](520/659) || training loss 1.301 || training accuracy 55.00% || lr [4.373333832179416e-05]\n",
            "Epoch[3/10](530/659) || training loss 1.567 || training accuracy 46.25% || lr [1.5772644703569692e-05]\n",
            "Epoch[3/10](540/659) || training loss 1.435 || training accuracy 45.00% || lr [8.856374635661456e-07]\n",
            "Epoch[3/10](550/659) || training loss 1.469 || training accuracy 50.00% || lr [4.758647376701906e-06]\n",
            "Epoch[3/10](560/659) || training loss 1.358 || training accuracy 52.50% || lr [2.5912316294938566e-05]\n",
            "Epoch[3/10](570/659) || training loss 1.28 || training accuracy 51.25% || lr [5.626666167826577e-05]\n",
            "Epoch[3/10](580/659) || training loss 1.339 || training accuracy 51.25% || lr [8.42273552965093e-05]\n",
            "Epoch[3/10](590/659) || training loss 1.419 || training accuracy 46.25% || lr [9.911436253652318e-05]\n",
            "Epoch[3/10](600/659) || training loss 1.54 || training accuracy 48.75% || lr [9.524135262338593e-05]\n",
            "Epoch[3/10](610/659) || training loss 1.254 || training accuracy 55.00% || lr [7.408768370515193e-05]\n",
            "Epoch[3/10](620/659) || training loss 1.251 || training accuracy 57.50% || lr [4.373333832182479e-05]\n",
            "Epoch[3/10](630/659) || training loss 1.414 || training accuracy 52.50% || lr [1.5772644703581137e-05]\n",
            "Epoch[3/10](640/659) || training loss 1.371 || training accuracy 45.00% || lr [8.856374635669497e-07]\n",
            "Epoch[3/10](650/659) || training loss 1.486 || training accuracy 52.50% || lr [4.758647376704659e-06]\n",
            "Epoch[4/10](10/659) || training loss 1.762 || training accuracy 45.00% || lr [5.313952597654946e-05]\n",
            "Epoch[4/10](20/659) || training loss 1.445 || training accuracy 47.50% || lr [8.18711994875626e-05]\n",
            "Epoch[4/10](30/659) || training loss 1.461 || training accuracy 52.50% || lr [9.842915805658606e-05]\n",
            "Epoch[4/10](40/659) || training loss 1.241 || training accuracy 60.00% || lr [9.648882429456593e-05]\n",
            "Epoch[4/10](50/659) || training loss 1.447 || training accuracy 43.75% || lr [7.679133974907495e-05]\n",
            "Epoch[4/10](60/659) || training loss 1.485 || training accuracy 48.75% || lr [4.686047402360862e-05]\n",
            "Epoch[4/10](70/659) || training loss 1.357 || training accuracy 51.25% || lr [1.8128800512595393e-05]\n",
            "Epoch[4/10](80/659) || training loss 1.454 || training accuracy 51.25% || lr [1.570841943571649e-06]\n",
            "Epoch[4/10](90/659) || training loss 1.387 || training accuracy 55.00% || lr [3.5111757055832404e-06]\n",
            "Epoch[4/10](100/659) || training loss 1.261 || training accuracy 58.75% || lr [2.3208660251019045e-05]\n",
            "Epoch[4/10](110/659) || training loss 1.136 || training accuracy 58.75% || lr [5.31395259763929e-05]\n",
            "Epoch[4/10](120/659) || training loss 1.398 || training accuracy 48.75% || lr [8.187119948732217e-05]\n",
            "Epoch[4/10](130/659) || training loss 1.309 || training accuracy 57.50% || lr [9.842915805629772e-05]\n",
            "Epoch[4/10](140/659) || training loss 1.455 || training accuracy 47.50% || lr [9.648882429428398e-05]\n",
            "Epoch[4/10](150/659) || training loss 1.242 || training accuracy 60.00% || lr [7.679133974884634e-05]\n",
            "Epoch[4/10](160/659) || training loss 1.403 || training accuracy 48.75% || lr [4.6860474023472555e-05]\n",
            "Epoch[4/10](170/659) || training loss 1.537 || training accuracy 46.25% || lr [1.8128800512538784e-05]\n",
            "Epoch[4/10](180/659) || training loss 1.469 || training accuracy 50.00% || lr [1.5708419435659072e-06]\n",
            "Epoch[4/10](190/659) || training loss 1.151 || training accuracy 56.25% || lr [3.511175705585211e-06]\n",
            "Epoch[4/10](200/659) || training loss 1.155 || training accuracy 58.75% || lr [2.3208660251033797e-05]\n",
            "Epoch[4/10](210/659) || training loss 1.411 || training accuracy 57.50% || lr [5.313952597642771e-05]\n",
            "Epoch[4/10](220/659) || training loss 1.31 || training accuracy 61.25% || lr [8.187119948737665e-05]\n",
            "Epoch[4/10](230/659) || training loss 1.304 || training accuracy 51.25% || lr [9.842915805636536e-05]\n",
            "Epoch[4/10](240/659) || training loss 1.32 || training accuracy 50.00% || lr [9.648882429434745e-05]\n",
            "Epoch[4/10](250/659) || training loss 1.281 || training accuracy 47.50% || lr [7.679133974889913e-05]\n",
            "Epoch[4/10](260/659) || training loss 1.45 || training accuracy 47.50% || lr [4.686047402350528e-05]\n",
            "Epoch[4/10](270/659) || training loss 1.231 || training accuracy 58.75% || lr [1.8128800512551862e-05]\n",
            "Epoch[4/10](280/659) || training loss 1.28 || training accuracy 48.75% || lr [1.5708419435672358e-06]\n",
            "Epoch[4/10](290/659) || training loss 1.574 || training accuracy 41.25% || lr [3.511175705587188e-06]\n",
            "Epoch[4/10](300/659) || training loss 1.331 || training accuracy 55.00% || lr [2.3208660251048562e-05]\n",
            "Epoch[4/10](310/659) || training loss 1.12 || training accuracy 61.25% || lr [5.3139525976462526e-05]\n",
            "Epoch[4/10](320/659) || training loss 1.568 || training accuracy 47.50% || lr [8.187119948743546e-05]\n",
            "Epoch[4/10](330/659) || training loss 1.301 || training accuracy 50.00% || lr [9.842915805643157e-05]\n",
            "Epoch[4/10](340/659) || training loss 1.41 || training accuracy 53.75% || lr [9.648882429441303e-05]\n",
            "Epoch[4/10](350/659) || training loss 1.513 || training accuracy 52.50% || lr [7.679133974895193e-05]\n",
            "Epoch[4/10](360/659) || training loss 1.413 || training accuracy 47.50% || lr [4.6860474023538034e-05]\n",
            "Epoch[4/10](370/659) || training loss 1.544 || training accuracy 46.25% || lr [1.8128800512569328e-05]\n",
            "Epoch[4/10](380/659) || training loss 1.407 || training accuracy 53.75% || lr [1.5708419435685697e-06]\n",
            "Epoch[4/10](390/659) || training loss 1.585 || training accuracy 43.75% || lr [3.5111757055893573e-06]\n",
            "Epoch[4/10](400/659) || training loss 1.533 || training accuracy 52.50% || lr [2.3208660251069433e-05]\n",
            "Epoch[4/10](410/659) || training loss 1.233 || training accuracy 62.50% || lr [5.313952597650601e-05]\n",
            "Epoch[4/10](420/659) || training loss 1.402 || training accuracy 57.50% || lr [8.187119948749452e-05]\n",
            "Epoch[4/10](430/659) || training loss 1.59 || training accuracy 51.25% || lr [9.842915805650326e-05]\n",
            "Epoch[4/10](440/659) || training loss 1.314 || training accuracy 58.75% || lr [9.648882429448392e-05]\n",
            "Epoch[4/10](450/659) || training loss 1.599 || training accuracy 48.75% || lr [7.679133974900893e-05]\n",
            "Epoch[4/10](460/659) || training loss 1.511 || training accuracy 48.75% || lr [4.686047402357335e-05]\n",
            "Epoch[4/10](470/659) || training loss 1.41 || training accuracy 50.00% || lr [1.812880051257902e-05]\n",
            "Epoch[4/10](480/659) || training loss 1.383 || training accuracy 48.75% || lr [1.5708419435699836e-06]\n",
            "Epoch[4/10](490/659) || training loss 1.516 || training accuracy 48.75% || lr [3.5111757055934264e-06]\n",
            "Epoch[4/10](500/659) || training loss 1.312 || training accuracy 60.00% || lr [2.320866025108419e-05]\n",
            "Epoch[4/10](510/659) || training loss 1.395 || training accuracy 47.50% || lr [5.3139525976540785e-05]\n",
            "Epoch[4/10](520/659) || training loss 1.304 || training accuracy 56.25% || lr [8.187119948754893e-05]\n",
            "Epoch[4/10](530/659) || training loss 1.479 || training accuracy 45.00% || lr [9.842915805656945e-05]\n",
            "Epoch[4/10](540/659) || training loss 1.407 || training accuracy 48.75% || lr [9.648882429454948e-05]\n",
            "Epoch[4/10](550/659) || training loss 1.321 || training accuracy 51.25% || lr [7.679133974905688e-05]\n",
            "Epoch[4/10](560/659) || training loss 1.288 || training accuracy 60.00% || lr [4.6860474023600356e-05]\n",
            "Epoch[4/10](570/659) || training loss 1.502 || training accuracy 48.75% || lr [1.8128800512592076e-05]\n",
            "Epoch[4/10](580/659) || training loss 1.432 || training accuracy 46.25% || lr [1.570841943571309e-06]\n",
            "Epoch[4/10](590/659) || training loss 1.413 || training accuracy 53.75% || lr [3.511175705593305e-06]\n",
            "Epoch[4/10](600/659) || training loss 1.299 || training accuracy 52.50% || lr [2.3208660251098947e-05]\n",
            "Epoch[4/10](610/659) || training loss 1.351 || training accuracy 40.00% || lr [5.313952597657558e-05]\n",
            "Epoch[4/10](620/659) || training loss 1.329 || training accuracy 60.00% || lr [8.18711994876034e-05]\n",
            "Epoch[4/10](630/659) || training loss 1.473 || training accuracy 45.00% || lr [9.842915805663563e-05]\n",
            "Epoch[4/10](640/659) || training loss 1.367 || training accuracy 58.75% || lr [9.648882429461292e-05]\n",
            "Epoch[4/10](650/659) || training loss 1.344 || training accuracy 57.50% || lr [7.679133974910961e-05]\n",
            "Epoch[5/10](10/659) || training loss 1.438 || training accuracy 45.00% || lr [2.061073738542022e-05]\n",
            "Epoch[5/10](20/659) || training loss 1.353 || training accuracy 51.25% || lr [2.447174185248176e-06]\n",
            "Epoch[5/10](30/659) || training loss 1.218 || training accuracy 61.25% || lr [2.447174185247921e-06]\n",
            "Epoch[5/10](40/659) || training loss 1.519 || training accuracy 38.75% || lr [2.061073738543375e-05]\n",
            "Epoch[5/10](50/659) || training loss 1.414 || training accuracy 50.00% || lr [5.000000000013731e-05]\n",
            "Epoch[5/10](60/659) || training loss 1.631 || training accuracy 38.75% || lr [7.938926261484104e-05]\n",
            "Epoch[5/10](70/659) || training loss 1.486 || training accuracy 47.50% || lr [9.75528258150256e-05]\n",
            "Epoch[5/10](80/659) || training loss 1.545 || training accuracy 42.50% || lr [9.755282581502786e-05]\n",
            "Epoch[5/10](90/659) || training loss 1.402 || training accuracy 47.50% || lr [7.93892626148423e-05]\n",
            "Epoch[5/10](100/659) || training loss 1.371 || training accuracy 47.50% || lr [5.0000000000138855e-05]\n",
            "Epoch[5/10](110/659) || training loss 1.363 || training accuracy 56.25% || lr [2.0610737385435004e-05]\n",
            "Epoch[5/10](120/659) || training loss 1.588 || training accuracy 45.00% || lr [2.4471741852484016e-06]\n",
            "Epoch[5/10](130/659) || training loss 1.675 || training accuracy 46.25% || lr [2.4471741852421882e-06]\n",
            "Epoch[5/10](140/659) || training loss 1.335 || training accuracy 51.25% || lr [2.0610737385372574e-05]\n",
            "Epoch[5/10](150/659) || training loss 1.58 || training accuracy 48.75% || lr [4.999999999998997e-05]\n",
            "Epoch[5/10](160/659) || training loss 1.37 || training accuracy 56.25% || lr [7.938926261460792e-05]\n",
            "Epoch[5/10](170/659) || training loss 1.552 || training accuracy 46.25% || lr [9.755282581473996e-05]\n",
            "Epoch[5/10](180/659) || training loss 1.301 || training accuracy 56.25% || lr [9.75528258147411e-05]\n",
            "Epoch[5/10](190/659) || training loss 1.27 || training accuracy 56.25% || lr [7.938926261461097e-05]\n",
            "Epoch[5/10](200/659) || training loss 1.696 || training accuracy 43.75% || lr [4.9999999999993694e-05]\n",
            "Epoch[5/10](210/659) || training loss 1.186 || training accuracy 57.50% || lr [2.0610737385371002e-05]\n",
            "Epoch[5/10](220/659) || training loss 1.404 || training accuracy 48.75% || lr [2.447174185241577e-06]\n",
            "Epoch[5/10](230/659) || training loss 1.331 || training accuracy 53.75% || lr [2.4471741852435075e-06]\n",
            "Epoch[5/10](240/659) || training loss 1.382 || training accuracy 51.25% || lr [2.061073738538563e-05]\n",
            "Epoch[5/10](250/659) || training loss 1.302 || training accuracy 52.50% || lr [5.000000000002266e-05]\n",
            "Epoch[5/10](260/659) || training loss 1.601 || training accuracy 48.75% || lr [7.93892626146607e-05]\n",
            "Epoch[5/10](270/659) || training loss 1.182 || training accuracy 65.00% || lr [9.755282581480723e-05]\n",
            "Epoch[5/10](280/659) || training loss 1.33 || training accuracy 61.25% || lr [9.75528258148073e-05]\n",
            "Epoch[5/10](290/659) || training loss 1.363 || training accuracy 53.75% || lr [7.938926261466544e-05]\n",
            "Epoch[5/10](300/659) || training loss 1.363 || training accuracy 56.25% || lr [5.000000000002853e-05]\n",
            "Epoch[5/10](310/659) || training loss 1.455 || training accuracy 50.00% || lr [2.0610737385385788e-05]\n",
            "Epoch[5/10](320/659) || training loss 1.266 || training accuracy 62.50% || lr [2.447174185243563e-06]\n",
            "Epoch[5/10](330/659) || training loss 1.419 || training accuracy 53.75% || lr [2.4471741852448263e-06]\n",
            "Epoch[5/10](340/659) || training loss 1.246 || training accuracy 55.00% || lr [2.0610737385398666e-05]\n",
            "Epoch[5/10](350/659) || training loss 1.243 || training accuracy 56.25% || lr [5.000000000006099e-05]\n",
            "Epoch[5/10](360/659) || training loss 1.283 || training accuracy 62.50% || lr [7.938926261471796e-05]\n",
            "Epoch[5/10](370/659) || training loss 1.235 || training accuracy 57.50% || lr [9.75528258148727e-05]\n",
            "Epoch[5/10](380/659) || training loss 1.322 || training accuracy 56.25% || lr [9.755282581487345e-05]\n",
            "Epoch[5/10](390/659) || training loss 1.431 || training accuracy 53.75% || lr [7.938926261471987e-05]\n",
            "Epoch[5/10](400/659) || training loss 1.385 || training accuracy 45.00% || lr [5.000000000006335e-05]\n",
            "Epoch[5/10](410/659) || training loss 1.733 || training accuracy 41.25% || lr [2.061073738540516e-05]\n",
            "Epoch[5/10](420/659) || training loss 1.401 || training accuracy 41.25% || lr [2.4471741852455467e-06]\n",
            "Epoch[5/10](430/659) || training loss 1.459 || training accuracy 52.50% || lr [2.447174185246283e-06]\n",
            "Epoch[5/10](440/659) || training loss 1.446 || training accuracy 50.00% || lr [2.0610737385417474e-05]\n",
            "Epoch[5/10](450/659) || training loss 1.288 || training accuracy 56.25% || lr [5.000000000009651e-05]\n",
            "Epoch[5/10](460/659) || training loss 1.607 || training accuracy 47.50% || lr [7.938926261477523e-05]\n",
            "Epoch[5/10](470/659) || training loss 1.461 || training accuracy 53.75% || lr [9.755282581494382e-05]\n",
            "Epoch[5/10](480/659) || training loss 1.248 || training accuracy 58.75% || lr [9.755282581494521e-05]\n",
            "Epoch[5/10](490/659) || training loss 1.242 || training accuracy 63.75% || lr [7.938926261477889e-05]\n",
            "Epoch[5/10](500/659) || training loss 1.325 || training accuracy 53.75% || lr [5.000000000009534e-05]\n",
            "Epoch[5/10](510/659) || training loss 1.45 || training accuracy 55.00% || lr [2.0610737385416525e-05]\n",
            "Epoch[5/10](520/659) || training loss 1.262 || training accuracy 60.00% || lr [2.4471741852476715e-06]\n",
            "Epoch[5/10](530/659) || training loss 1.371 || training accuracy 51.25% || lr [2.4471741852405445e-06]\n",
            "Epoch[5/10](540/659) || training loss 1.169 || training accuracy 57.50% || lr [2.061073738535629e-05]\n",
            "Epoch[5/10](550/659) || training loss 1.468 || training accuracy 45.00% || lr [4.999999999994911e-05]\n",
            "Epoch[5/10](560/659) || training loss 1.365 || training accuracy 50.00% || lr [7.9389262614542e-05]\n",
            "Epoch[5/10](570/659) || training loss 1.243 || training accuracy 63.75% || lr [9.755282581465797e-05]\n",
            "Epoch[5/10](580/659) || training loss 1.314 || training accuracy 60.00% || lr [9.755282581466004e-05]\n",
            "Epoch[5/10](590/659) || training loss 1.054 || training accuracy 61.25% || lr [7.93892626145428e-05]\n",
            "Epoch[5/10](600/659) || training loss 1.247 || training accuracy 58.75% || lr [4.9999999999950075e-05]\n",
            "Epoch[5/10](610/659) || training loss 1.382 || training accuracy 51.25% || lr [2.0610737385357067e-05]\n",
            "Epoch[5/10](620/659) || training loss 1.296 || training accuracy 60.00% || lr [2.4471741852408406e-06]\n",
            "Epoch[5/10](630/659) || training loss 1.569 || training accuracy 55.00% || lr [2.4471741852401096e-06]\n",
            "Epoch[5/10](640/659) || training loss 1.566 || training accuracy 52.50% || lr [2.0610737385369346e-05]\n",
            "Epoch[5/10](650/659) || training loss 1.386 || training accuracy 52.50% || lr [4.9999999999981835e-05]\n",
            "Epoch[6/10](10/659) || training loss 1.479 || training accuracy 41.25% || lr [9.648882429437905e-05]\n",
            "Epoch[6/10](20/659) || training loss 1.407 || training accuracy 51.25% || lr [9.842915805639786e-05]\n",
            "Epoch[6/10](30/659) || training loss 1.37 || training accuracy 53.75% || lr [8.187119948740636e-05]\n",
            "Epoch[6/10](40/659) || training loss 1.111 || training accuracy 66.25% || lr [5.313952597644833e-05]\n",
            "Epoch[6/10](50/659) || training loss 1.74 || training accuracy 47.50% || lr [2.3208660251043887e-05]\n",
            "Epoch[6/10](60/659) || training loss 1.409 || training accuracy 51.25% || lr [3.5111757055873773e-06]\n",
            "Epoch[6/10](70/659) || training loss 1.426 || training accuracy 55.00% || lr [1.570841943569315e-06]\n",
            "Epoch[6/10](80/659) || training loss 1.417 || training accuracy 57.50% || lr [1.812880051257173e-05]\n",
            "Epoch[6/10](90/659) || training loss 1.43 || training accuracy 47.50% || lr [4.686047402354901e-05]\n",
            "Epoch[6/10](100/659) || training loss 1.502 || training accuracy 52.50% || lr [7.679133974897374e-05]\n",
            "Epoch[6/10](110/659) || training loss 1.183 || training accuracy 58.75% || lr [9.648882429444378e-05]\n",
            "Epoch[6/10](120/659) || training loss 1.328 || training accuracy 53.75% || lr [9.842915805646598e-05]\n",
            "Epoch[6/10](130/659) || training loss 1.566 || training accuracy 52.50% || lr [8.187119948746241e-05]\n",
            "Epoch[6/10](140/659) || training loss 1.287 || training accuracy 46.25% || lr [5.313952597648524e-05]\n",
            "Epoch[6/10](150/659) || training loss 1.418 || training accuracy 51.25% || lr [2.320866025106045e-05]\n",
            "Epoch[6/10](160/659) || training loss 1.219 || training accuracy 50.00% || lr [3.511175705588046e-06]\n",
            "Epoch[6/10](170/659) || training loss 1.653 || training accuracy 43.75% || lr [1.5708419435701094e-06]\n",
            "Epoch[6/10](180/659) || training loss 1.264 || training accuracy 57.50% || lr [1.812880051258315e-05]\n",
            "Epoch[6/10](190/659) || training loss 1.465 || training accuracy 50.00% || lr [4.686047402357962e-05]\n",
            "Epoch[6/10](200/659) || training loss 1.248 || training accuracy 55.00% || lr [7.679133974902476e-05]\n",
            "Epoch[6/10](210/659) || training loss 1.393 || training accuracy 55.00% || lr [9.648882429450867e-05]\n",
            "Epoch[6/10](220/659) || training loss 1.212 || training accuracy 60.00% || lr [9.842915805653138e-05]\n",
            "Epoch[6/10](230/659) || training loss 1.141 || training accuracy 55.00% || lr [8.187119948751859e-05]\n",
            "Epoch[6/10](240/659) || training loss 1.259 || training accuracy 56.25% || lr [5.313952597651655e-05]\n",
            "Epoch[6/10](250/659) || training loss 1.41 || training accuracy 46.25% || lr [2.320866025107224e-05]\n",
            "Epoch[6/10](260/659) || training loss 1.395 || training accuracy 53.75% || lr [3.5111757055908167e-06]\n",
            "Epoch[6/10](270/659) || training loss 1.367 || training accuracy 50.00% || lr [1.570841943565247e-06]\n",
            "Epoch[6/10](280/659) || training loss 1.443 || training accuracy 48.75% || lr [1.812880051252927e-05]\n",
            "Epoch[6/10](290/659) || training loss 1.414 || training accuracy 50.00% || lr [4.68604740234414e-05]\n",
            "Epoch[6/10](300/659) || training loss 1.308 || training accuracy 50.00% || lr [7.67913397488039e-05]\n",
            "Epoch[6/10](310/659) || training loss 1.162 || training accuracy 65.00% || lr [9.648882429422793e-05]\n",
            "Epoch[6/10](320/659) || training loss 1.575 || training accuracy 50.00% || lr [9.842915805624356e-05]\n",
            "Epoch[6/10](330/659) || training loss 1.509 || training accuracy 52.50% || lr [8.187119948727982e-05]\n",
            "Epoch[6/10](340/659) || training loss 1.466 || training accuracy 50.00% || lr [5.313952597636781e-05]\n",
            "Epoch[6/10](350/659) || training loss 1.318 || training accuracy 55.00% || lr [2.3208660251005235e-05]\n",
            "Epoch[6/10](360/659) || training loss 1.114 || training accuracy 63.75% || lr [3.511175705580936e-06]\n",
            "Epoch[6/10](370/659) || training loss 1.552 || training accuracy 41.25% || lr [1.5708419435660358e-06]\n",
            "Epoch[6/10](380/659) || training loss 1.383 || training accuracy 52.50% || lr [1.8128800512540678e-05]\n",
            "Epoch[6/10](390/659) || training loss 1.091 || training accuracy 66.25% || lr [4.686047402347763e-05]\n",
            "Epoch[6/10](400/659) || training loss 1.175 || training accuracy 55.00% || lr [7.67913397488548e-05]\n",
            "Epoch[6/10](410/659) || training loss 1.707 || training accuracy 43.75% || lr [9.648882429429264e-05]\n",
            "Epoch[6/10](420/659) || training loss 1.578 || training accuracy 42.50% || lr [9.842915805631026e-05]\n",
            "Epoch[6/10](430/659) || training loss 1.296 || training accuracy 50.00% || lr [8.187119948733589e-05]\n",
            "Epoch[6/10](440/659) || training loss 1.282 || training accuracy 56.25% || lr [5.313952597640473e-05]\n",
            "Epoch[6/10](450/659) || training loss 1.451 || training accuracy 50.00% || lr [2.3208660251021803e-05]\n",
            "Epoch[6/10](460/659) || training loss 1.437 || training accuracy 55.00% || lr [3.5111757055837038e-06]\n",
            "Epoch[6/10](470/659) || training loss 1.356 || training accuracy 50.00% || lr [1.5708419435739898e-06]\n",
            "Epoch[6/10](480/659) || training loss 1.291 || training accuracy 58.75% || lr [1.8128800512622776e-05]\n",
            "Epoch[6/10](490/659) || training loss 1.279 || training accuracy 55.00% || lr [4.6860474023679604e-05]\n",
            "Epoch[6/10](500/659) || training loss 1.271 || training accuracy 53.75% || lr [7.679133974918663e-05]\n",
            "Epoch[6/10](510/659) || training loss 1.246 || training accuracy 57.50% || lr [9.648882429471036e-05]\n",
            "Epoch[6/10](520/659) || training loss 1.289 || training accuracy 56.25% || lr [9.842915805673703e-05]\n",
            "Epoch[6/10](530/659) || training loss 1.139 || training accuracy 52.50% || lr [8.187119948769148e-05]\n",
            "Epoch[6/10](540/659) || training loss 1.421 || training accuracy 48.75% || lr [5.313952597663038e-05]\n",
            "Epoch[6/10](550/659) || training loss 1.147 || training accuracy 57.50% || lr [2.320866025112327e-05]\n",
            "Epoch[6/10](560/659) || training loss 1.346 || training accuracy 56.25% || lr [3.511175705597219e-06]\n",
            "Epoch[6/10](570/659) || training loss 1.275 || training accuracy 56.25% || lr [1.5708419435691221e-06]\n",
            "Epoch[6/10](580/659) || training loss 1.422 || training accuracy 46.25% || lr [1.8128800512568905e-05]\n",
            "Epoch[6/10](590/659) || training loss 1.403 || training accuracy 51.25% || lr [4.6860474023541416e-05]\n",
            "Epoch[6/10](600/659) || training loss 1.401 || training accuracy 53.75% || lr [7.679133974896106e-05]\n",
            "Epoch[6/10](610/659) || training loss 1.422 || training accuracy 51.25% || lr [9.648882429442767e-05]\n",
            "Epoch[6/10](620/659) || training loss 1.652 || training accuracy 41.25% || lr [9.842915805644795e-05]\n",
            "Epoch[6/10](630/659) || training loss 1.158 || training accuracy 52.50% || lr [8.187119948744845e-05]\n",
            "Epoch[6/10](640/659) || training loss 1.463 || training accuracy 50.00% || lr [5.313952597647603e-05]\n",
            "Epoch[6/10](650/659) || training loss 1.346 || training accuracy 60.00% || lr [2.3208660251056304e-05]\n",
            "Epoch[7/10](10/659) || training loss  1.3 || training accuracy 51.25% || lr [8.856374635666611e-07]\n",
            "Epoch[7/10](20/659) || training loss 1.208 || training accuracy 60.00% || lr [1.5772644703579318e-05]\n",
            "Epoch[7/10](30/659) || training loss 1.637 || training accuracy 51.25% || lr [4.3733338321821055e-05]\n",
            "Epoch[7/10](40/659) || training loss 1.252 || training accuracy 55.00% || lr [7.408768370515159e-05]\n",
            "Epoch[7/10](50/659) || training loss 1.331 || training accuracy 56.25% || lr [9.524135262338239e-05]\n",
            "Epoch[7/10](60/659) || training loss 1.251 || training accuracy 61.25% || lr [9.911436253651779e-05]\n",
            "Epoch[7/10](70/659) || training loss 1.49 || training accuracy 50.00% || lr [8.422735529650542e-05]\n",
            "Epoch[7/10](80/659) || training loss 1.225 || training accuracy 61.25% || lr [5.62666616782638e-05]\n",
            "Epoch[7/10](90/659) || training loss 1.189 || training accuracy 46.25% || lr [2.59123162949382e-05]\n",
            "Epoch[7/10](100/659) || training loss 1.332 || training accuracy 51.25% || lr [4.758647376704596e-06]\n",
            "Epoch[7/10](110/659) || training loss 1.381 || training accuracy 61.25% || lr [8.856374635638646e-07]\n",
            "Epoch[7/10](120/659) || training loss 1.267 || training accuracy 52.50% || lr [1.5772644703532392e-05]\n",
            "Epoch[7/10](130/659) || training loss 1.401 || training accuracy 48.75% || lr [4.373333832169205e-05]\n",
            "Epoch[7/10](140/659) || training loss 1.41 || training accuracy 56.25% || lr [7.408768370492893e-05]\n",
            "Epoch[7/10](150/659) || training loss 1.271 || training accuracy 52.50% || lr [9.524135262310092e-05]\n",
            "Epoch[7/10](160/659) || training loss 1.223 || training accuracy 58.75% || lr [9.911436253622913e-05]\n",
            "Epoch[7/10](170/659) || training loss 1.481 || training accuracy 41.25% || lr [8.42273552962598e-05]\n",
            "Epoch[7/10](180/659) || training loss 1.33 || training accuracy 56.25% || lr [5.626666167810029e-05]\n",
            "Epoch[7/10](190/659) || training loss 1.561 || training accuracy 51.25% || lr [2.591231629486335e-05]\n",
            "Epoch[7/10](200/659) || training loss 1.229 || training accuracy 60.00% || lr [4.758647376691133e-06]\n",
            "Epoch[7/10](210/659) || training loss 1.396 || training accuracy 46.25% || lr [8.856374635663858e-07]\n",
            "Epoch[7/10](220/659) || training loss 1.429 || training accuracy 52.50% || lr [1.5772644703603187e-05]\n",
            "Epoch[7/10](230/659) || training loss 1.421 || training accuracy 56.25% || lr [4.373333832188362e-05]\n",
            "Epoch[7/10](240/659) || training loss 1.321 || training accuracy 48.75% || lr [7.408768370524979e-05]\n",
            "Epoch[7/10](250/659) || training loss 1.359 || training accuracy 47.50% || lr [9.524135262351016e-05]\n",
            "Epoch[7/10](260/659) || training loss 1.249 || training accuracy 60.00% || lr [9.91143625366521e-05]\n",
            "Epoch[7/10](270/659) || training loss 1.412 || training accuracy 58.75% || lr [8.422735529662081e-05]\n",
            "Epoch[7/10](280/659) || training loss 1.295 || training accuracy 57.50% || lr [5.626666167833636e-05]\n",
            "Epoch[7/10](290/659) || training loss 1.139 || training accuracy 61.25% || lr [2.591231629497013e-05]\n",
            "Epoch[7/10](300/659) || training loss 1.321 || training accuracy 56.25% || lr [4.758647376709526e-06]\n",
            "Epoch[7/10](310/659) || training loss 1.57 || training accuracy 42.50% || lr [8.856374635646608e-07]\n",
            "Epoch[7/10](320/659) || training loss 1.346 || training accuracy 55.00% || lr [1.5772644703552114e-05]\n",
            "Epoch[7/10](330/659) || training loss 1.072 || training accuracy 65.00% || lr [4.373333832174897e-05]\n",
            "Epoch[7/10](340/659) || training loss 1.475 || training accuracy 50.00% || lr [7.40876837050321e-05]\n",
            "Epoch[7/10](350/659) || training loss 1.113 || training accuracy 66.25% || lr [9.52413526232311e-05]\n",
            "Epoch[7/10](360/659) || training loss 1.545 || training accuracy 46.25% || lr [9.91143625363624e-05]\n",
            "Epoch[7/10](370/659) || training loss 1.488 || training accuracy 50.00% || lr [8.422735529637521e-05]\n",
            "Epoch[7/10](380/659) || training loss 1.264 || training accuracy 60.00% || lr [5.626666167817849e-05]\n",
            "Epoch[7/10](390/659) || training loss 1.442 || training accuracy 55.00% || lr [2.5912316294900267e-05]\n",
            "Epoch[7/10](400/659) || training loss 1.388 || training accuracy 46.25% || lr [4.758647376696067e-06]\n",
            "Epoch[7/10](410/659) || training loss 1.523 || training accuracy 43.75% || lr [8.856374635650534e-07]\n",
            "Epoch[7/10](420/659) || training loss 1.32 || training accuracy 58.75% || lr [1.577264470356198e-05]\n",
            "Epoch[7/10](430/659) || training loss 1.396 || training accuracy 50.00% || lr [4.373333832177742e-05]\n",
            "Epoch[7/10](440/659) || training loss 1.075 || training accuracy 62.50% || lr [7.408768370508115e-05]\n",
            "Epoch[7/10](450/659) || training loss 1.379 || training accuracy 53.75% || lr [9.524135262329729e-05]\n",
            "Epoch[7/10](460/659) || training loss 1.495 || training accuracy 41.25% || lr [9.911436253642835e-05]\n",
            "Epoch[7/10](470/659) || training loss 1.699 || training accuracy 43.75% || lr [8.422735529642864e-05]\n",
            "Epoch[7/10](480/659) || training loss 1.465 || training accuracy 51.25% || lr [5.6266661678211835e-05]\n",
            "Epoch[7/10](490/659) || training loss 1.213 || training accuracy 52.50% || lr [2.591231629491369e-05]\n",
            "Epoch[7/10](500/659) || training loss 1.538 || training accuracy 53.75% || lr [4.75864737669973e-06]\n",
            "Epoch[7/10](510/659) || training loss 1.195 || training accuracy 57.50% || lr [8.856374635697562e-07]\n",
            "Epoch[7/10](520/659) || training loss 1.304 || training accuracy 53.75% || lr [1.5772644703633663e-05]\n",
            "Epoch[7/10](530/659) || training loss 1.353 || training accuracy 55.00% || lr [4.373333832197142e-05]\n",
            "Epoch[7/10](540/659) || training loss 1.203 || training accuracy 63.75% || lr [7.408768370540113e-05]\n",
            "Epoch[7/10](550/659) || training loss 1.316 || training accuracy 53.75% || lr [9.524135262370701e-05]\n",
            "Epoch[7/10](560/659) || training loss 1.422 || training accuracy 56.25% || lr [9.911436253685899e-05]\n",
            "Epoch[7/10](570/659) || training loss 1.599 || training accuracy 46.25% || lr [8.422735529679431e-05]\n",
            "Epoch[7/10](580/659) || training loss 1.325 || training accuracy 48.75% || lr [5.626666167845666e-05]\n",
            "Epoch[7/10](590/659) || training loss 1.312 || training accuracy 50.00% || lr [2.5912316295026884e-05]\n",
            "Epoch[7/10](600/659) || training loss 1.522 || training accuracy 47.50% || lr [4.758647376720803e-06]\n",
            "Epoch[7/10](610/659) || training loss 1.399 || training accuracy 60.00% || lr [8.856374635658994e-07]\n",
            "Epoch[7/10](620/659) || training loss 1.199 || training accuracy 63.75% || lr [1.5772644703582594e-05]\n",
            "Epoch[7/10](630/659) || training loss 1.631 || training accuracy 42.50% || lr [4.3733338321842434e-05]\n",
            "Epoch[7/10](640/659) || training loss 1.339 || training accuracy 57.50% || lr [7.408768370518348e-05]\n",
            "Epoch[7/10](650/659) || training loss 1.392 || training accuracy 48.75% || lr [9.524135262342797e-05]\n",
            "Epoch[8/10](10/659) || training loss 1.233 || training accuracy 66.25% || lr [8.644843137118696e-05]\n",
            "Epoch[8/10](20/659) || training loss 1.145 || training accuracy 63.75% || lr [5.936906572936711e-05]\n",
            "Epoch[8/10](30/659) || training loss 1.535 || training accuracy 41.25% || lr [2.871103542178691e-05]\n",
            "Epoch[8/10](40/659) || training loss 1.369 || training accuracy 52.50% || lr [6.184665997816712e-06]\n",
            "Epoch[8/10](50/659) || training loss 1.108 || training accuracy 56.25% || lr [3.942649342763497e-07]\n",
            "Epoch[8/10](60/659) || training loss 1.489 || training accuracy 55.00% || lr [1.3551568628956876e-05]\n",
            "Epoch[8/10](70/659) || training loss 1.363 || training accuracy 53.75% || lr [4.063093427079485e-05]\n",
            "Epoch[8/10](80/659) || training loss 1.309 || training accuracy 50.00% || lr [7.12889645783958e-05]\n",
            "Epoch[8/10](90/659) || training loss 1.213 || training accuracy 52.50% || lr [9.381533400238144e-05]\n",
            "Epoch[8/10](100/659) || training loss 1.309 || training accuracy 58.75% || lr [9.960573506592628e-05]\n",
            "Epoch[8/10](110/659) || training loss 1.245 || training accuracy 60.00% || lr [8.644843137124993e-05]\n",
            "Epoch[8/10](120/659) || training loss 1.325 || training accuracy 51.25% || lr [5.9369065729408224e-05]\n",
            "Epoch[8/10](130/659) || training loss 1.517 || training accuracy 48.75% || lr [2.871103542180725e-05]\n",
            "Epoch[8/10](140/659) || training loss 1.222 || training accuracy 56.25% || lr [6.184665997821402e-06]\n",
            "Epoch[8/10](150/659) || training loss 1.33 || training accuracy 51.25% || lr [3.942649342757735e-07]\n",
            "Epoch[8/10](160/659) || training loss 1.447 || training accuracy 50.00% || lr [1.355156862892038e-05]\n",
            "Epoch[8/10](170/659) || training loss 1.252 || training accuracy 53.75% || lr [4.063093427068048e-05]\n",
            "Epoch[8/10](180/659) || training loss 1.22 || training accuracy 66.25% || lr [7.128896457819134e-05]\n",
            "Epoch[8/10](190/659) || training loss 1.386 || training accuracy 56.25% || lr [9.381533400210906e-05]\n",
            "Epoch[8/10](200/659) || training loss 1.301 || training accuracy 55.00% || lr [9.96057350656342e-05]\n",
            "Epoch[8/10](210/659) || training loss 1.646 || training accuracy 42.50% || lr [8.644843137099379e-05]\n",
            "Epoch[8/10](220/659) || training loss 1.292 || training accuracy 56.25% || lr [5.9369065729235545e-05]\n",
            "Epoch[8/10](230/659) || training loss 1.256 || training accuracy 58.75% || lr [2.8711035421719065e-05]\n",
            "Epoch[8/10](240/659) || training loss 1.183 || training accuracy 60.00% || lr [6.184665997801082e-06]\n",
            "Epoch[8/10](250/659) || training loss 1.378 || training accuracy 52.50% || lr [3.9426493427732615e-07]\n",
            "Epoch[8/10](260/659) || training loss 1.28 || training accuracy 56.25% || lr [1.3551568628973703e-05]\n",
            "Epoch[8/10](270/659) || training loss 1.354 || training accuracy 48.75% || lr [4.063093427084759e-05]\n",
            "Epoch[8/10](280/659) || training loss 1.381 || training accuracy 58.75% || lr [7.128896457849009e-05]\n",
            "Epoch[8/10](290/659) || training loss 1.316 || training accuracy 58.75% || lr [9.381533400250978e-05]\n",
            "Epoch[8/10](300/659) || training loss 1.438 || training accuracy 42.50% || lr [9.960573506606031e-05]\n",
            "Epoch[8/10](310/659) || training loss 1.407 || training accuracy 52.50% || lr [8.644843137136423e-05]\n",
            "Epoch[8/10](320/659) || training loss 1.387 || training accuracy 51.25% || lr [5.936906572949051e-05]\n",
            "Epoch[8/10](330/659) || training loss 1.371 || training accuracy 50.00% || lr [2.8711035421847977e-05]\n",
            "Epoch[8/10](340/659) || training loss 1.254 || training accuracy 60.00% || lr [6.184665997830792e-06]\n",
            "Epoch[8/10](350/659) || training loss 1.442 || training accuracy 47.50% || lr [3.9426493427603945e-07]\n",
            "Epoch[8/10](360/659) || training loss 1.426 || training accuracy 58.75% || lr [1.3551568628933315e-05]\n",
            "Epoch[8/10](370/659) || training loss 1.337 || training accuracy 56.25% || lr [4.063093427073327e-05]\n",
            "Epoch[8/10](380/659) || training loss 1.332 || training accuracy 53.75% || lr [7.12889645782857e-05]\n",
            "Epoch[8/10](390/659) || training loss 1.523 || training accuracy 50.00% || lr [9.38153340022348e-05]\n",
            "Epoch[8/10](400/659) || training loss 1.333 || training accuracy 56.25% || lr [9.960573506576831e-05]\n",
            "Epoch[8/10](410/659) || training loss 1.401 || training accuracy 55.00% || lr [8.644843137110814e-05]\n",
            "Epoch[8/10](420/659) || training loss 1.527 || training accuracy 50.00% || lr [5.9369065729312266e-05]\n",
            "Epoch[8/10](430/659) || training loss 1.295 || training accuracy 52.50% || lr [2.871103542175979e-05]\n",
            "Epoch[8/10](440/659) || training loss 1.49 || training accuracy 41.25% || lr [6.184665997810477e-06]\n",
            "Epoch[8/10](450/659) || training loss 1.292 || training accuracy 55.00% || lr [3.942649342761668e-07]\n",
            "Epoch[8/10](460/659) || training loss 1.345 || training accuracy 52.50% || lr [1.3551568628945614e-05]\n",
            "Epoch[8/10](470/659) || training loss 1.235 || training accuracy 55.00% || lr [4.063093427075962e-05]\n",
            "Epoch[8/10](480/659) || training loss 1.574 || training accuracy 48.75% || lr [7.128896457833286e-05]\n",
            "Epoch[8/10](490/659) || training loss 1.411 || training accuracy 53.75% || lr [9.381533400229766e-05]\n",
            "Epoch[8/10](500/659) || training loss 1.252 || training accuracy 56.25% || lr [9.960573506583648e-05]\n",
            "Epoch[8/10](510/659) || training loss 1.449 || training accuracy 51.25% || lr [8.64484313711712e-05]\n",
            "Epoch[8/10](520/659) || training loss 1.441 || training accuracy 57.50% || lr [5.936906572935344e-05]\n",
            "Epoch[8/10](530/659) || training loss 1.482 || training accuracy 52.50% || lr [2.8711035421780164e-05]\n",
            "Epoch[8/10](540/659) || training loss 1.436 || training accuracy 51.25% || lr [6.184665997815173e-06]\n",
            "Epoch[8/10](550/659) || training loss  1.4 || training accuracy 47.50% || lr [3.9426493427488013e-07]\n",
            "Epoch[8/10](560/659) || training loss 1.365 || training accuracy 51.25% || lr [1.3551568628901343e-05]\n",
            "Epoch[8/10](570/659) || training loss 1.347 || training accuracy 58.75% || lr [4.063093427063411e-05]\n",
            "Epoch[8/10](580/659) || training loss 1.125 || training accuracy 58.75% || lr [7.12889645781233e-05]\n",
            "Epoch[8/10](590/659) || training loss 1.332 || training accuracy 56.25% || lr [9.381533400202539e-05]\n",
            "Epoch[8/10](600/659) || training loss 1.19 || training accuracy 62.50% || lr [9.960573506554445e-05]\n",
            "Epoch[8/10](610/659) || training loss 1.293 || training accuracy 50.00% || lr [8.644843137091511e-05]\n",
            "Epoch[8/10](620/659) || training loss 1.385 || training accuracy 56.25% || lr [5.936906572918082e-05]\n",
            "Epoch[8/10](630/659) || training loss 1.402 || training accuracy 50.00% || lr [2.871103542169201e-05]\n",
            "Epoch[8/10](640/659) || training loss 1.374 || training accuracy 46.25% || lr [6.184665997794861e-06]\n",
            "Epoch[8/10](650/659) || training loss 1.184 || training accuracy 60.00% || lr [3.942649342771655e-07]\n",
            "Epoch[9/10](10/659) || training loss 1.239 || training accuracy 56.25% || lr [3.756550564185162e-05]\n",
            "Epoch[9/10](20/659) || training loss 1.21 || training accuracy 56.25% || lr [6.84062276344052e-05]\n",
            "Epoch[9/10](30/659) || training loss 1.303 || training accuracy 55.00% || lr [9.221639627533244e-05]\n",
            "Epoch[9/10](40/659) || training loss 1.287 || training accuracy 55.00% || lr [9.990133642166673e-05]\n",
            "Epoch[9/10](50/659) || training loss 1.247 || training accuracy 56.25% || lr [8.852566213901721e-05]\n",
            "Epoch[9/10](60/659) || training loss 1.321 || training accuracy 46.25% || lr [6.243449435840757e-05]\n",
            "Epoch[9/10](70/659) || training loss 1.408 || training accuracy 51.25% || lr [3.159377236584846e-05]\n",
            "Epoch[9/10](80/659) || training loss 1.513 || training accuracy 50.00% || lr [7.783603724917938e-06]\n",
            "Epoch[9/10](90/659) || training loss 1.391 || training accuracy 57.50% || lr [9.866357858642205e-08]\n",
            "Epoch[9/10](100/659) || training loss 1.182 || training accuracy 56.25% || lr [1.1474337861205644e-05]\n",
            "Epoch[9/10](110/659) || training loss 1.375 || training accuracy 47.50% || lr [3.756550564174621e-05]\n",
            "Epoch[9/10](120/659) || training loss 1.218 || training accuracy 62.50% || lr [6.84062276342094e-05]\n",
            "Epoch[9/10](130/659) || training loss 1.248 || training accuracy 68.75% || lr [9.221639627506516e-05]\n",
            "Epoch[9/10](140/659) || training loss 1.315 || training accuracy 55.00% || lr [9.990133642137423e-05]\n",
            "Epoch[9/10](150/659) || training loss 1.187 || training accuracy 68.75% || lr [8.852566213875533e-05]\n",
            "Epoch[9/10](160/659) || training loss 1.313 || training accuracy 56.25% || lr [6.243449435822048e-05]\n",
            "Epoch[9/10](170/659) || training loss 1.356 || training accuracy 53.75% || lr [3.1593772365757045e-05]\n",
            "Epoch[9/10](180/659) || training loss 1.494 || training accuracy 50.00% || lr [7.783603724895747e-06]\n",
            "Epoch[9/10](190/659) || training loss 1.274 || training accuracy 56.25% || lr [9.866357858642205e-08]\n",
            "Epoch[9/10](200/659) || training loss 1.53 || training accuracy 46.25% || lr [1.1474337861212696e-05]\n",
            "Epoch[9/10](210/659) || training loss 1.366 || training accuracy 51.25% || lr [3.7565505641764994e-05]\n",
            "Epoch[9/10](220/659) || training loss 1.606 || training accuracy 47.50% || lr [6.840622763424927e-05]\n",
            "Epoch[9/10](230/659) || training loss 1.292 || training accuracy 52.50% || lr [9.221639627512374e-05]\n",
            "Epoch[9/10](240/659) || training loss 1.406 || training accuracy 61.25% || lr [9.99013364214417e-05]\n",
            "Epoch[9/10](250/659) || training loss 1.444 || training accuracy 51.25% || lr [8.852566213881572e-05]\n",
            "Epoch[9/10](260/659) || training loss 1.346 || training accuracy 62.50% || lr [6.243449435826359e-05]\n",
            "Epoch[9/10](270/659) || training loss 1.373 || training accuracy 56.25% || lr [3.159377236577933e-05]\n",
            "Epoch[9/10](280/659) || training loss 1.184 || training accuracy 61.25% || lr [7.783603724904616e-06]\n",
            "Epoch[9/10](290/659) || training loss 1.416 || training accuracy 55.00% || lr [9.866357858642205e-08]\n",
            "Epoch[9/10](300/659) || training loss 1.379 || training accuracy 56.25% || lr [1.1474337861264702e-05]\n",
            "Epoch[9/10](310/659) || training loss 1.232 || training accuracy 53.75% || lr [3.7565505641930084e-05]\n",
            "Epoch[9/10](320/659) || training loss 1.252 || training accuracy 53.75% || lr [6.840622763454601e-05]\n",
            "Epoch[9/10](330/659) || training loss 1.357 || training accuracy 52.50% || lr [9.221639627552051e-05]\n",
            "Epoch[9/10](340/659) || training loss 1.635 || training accuracy 42.50% || lr [9.990133642186888e-05]\n",
            "Epoch[9/10](350/659) || training loss 1.259 || training accuracy 63.75% || lr [8.85256621391913e-05]\n",
            "Epoch[9/10](360/659) || training loss 1.353 || training accuracy 58.75% || lr [6.24344943585261e-05]\n",
            "Epoch[9/10](370/659) || training loss 1.355 || training accuracy 50.00% || lr [3.159377236591015e-05]\n",
            "Epoch[9/10](380/659) || training loss 1.261 || training accuracy 60.00% || lr [7.78360372493543e-06]\n",
            "Epoch[9/10](390/659) || training loss 1.429 || training accuracy 47.50% || lr [9.866357858642205e-08]\n",
            "Epoch[9/10](400/659) || training loss 1.374 || training accuracy 47.50% || lr [1.1474337861226823e-05]\n",
            "Epoch[9/10](410/659) || training loss 1.538 || training accuracy 48.75% || lr [3.756550564181915e-05]\n",
            "Epoch[9/10](420/659) || training loss 1.521 || training accuracy 57.50% || lr [6.840622763434496e-05]\n",
            "Epoch[9/10](430/659) || training loss 1.227 || training accuracy 56.25% || lr [9.221639627525026e-05]\n",
            "Epoch[9/10](440/659) || training loss 1.35 || training accuracy 52.50% || lr [9.990133642157683e-05]\n",
            "Epoch[9/10](450/659) || training loss 1.496 || training accuracy 46.25% || lr [8.852566213893676e-05]\n",
            "Epoch[9/10](460/659) || training loss 1.375 || training accuracy 53.75% || lr [6.243449435835009e-05]\n",
            "Epoch[9/10](470/659) || training loss 1.31 || training accuracy 50.00% || lr [3.1593772365818784e-05]\n",
            "Epoch[9/10](480/659) || training loss 1.227 || training accuracy 58.75% || lr [7.783603724913249e-06]\n",
            "Epoch[9/10](490/659) || training loss 1.485 || training accuracy 43.75% || lr [9.866357858642205e-08]\n",
            "Epoch[9/10](500/659) || training loss 1.336 || training accuracy 51.25% || lr [1.1474337861233882e-05]\n",
            "Epoch[9/10](510/659) || training loss 1.469 || training accuracy 51.25% || lr [3.756550564183797e-05]\n",
            "Epoch[9/10](520/659) || training loss 1.479 || training accuracy 48.75% || lr [6.84062276343954e-05]\n",
            "Epoch[9/10](530/659) || training loss 1.282 || training accuracy 55.00% || lr [9.221639627531488e-05]\n",
            "Epoch[9/10](540/659) || training loss 1.099 || training accuracy 58.75% || lr [9.990133642164387e-05]\n",
            "Epoch[9/10](550/659) || training loss 1.114 || training accuracy 58.75% || lr [8.852566213899347e-05]\n",
            "Epoch[9/10](560/659) || training loss 1.328 || training accuracy 53.75% || lr [6.243449435838769e-05]\n",
            "Epoch[9/10](570/659) || training loss 1.449 || training accuracy 46.25% || lr [3.159377236584105e-05]\n",
            "Epoch[9/10](580/659) || training loss 1.46 || training accuracy 55.00% || lr [7.783603724916027e-06]\n",
            "Epoch[9/10](590/659) || training loss 1.229 || training accuracy 53.75% || lr [9.866357858642205e-08]\n",
            "Epoch[9/10](600/659) || training loss 1.135 || training accuracy 60.00% || lr [1.1474337861203245e-05]\n",
            "Epoch[9/10](610/659) || training loss 1.238 || training accuracy 53.75% || lr [3.7565505641732495e-05]\n",
            "Epoch[9/10](620/659) || training loss 1.416 || training accuracy 51.25% || lr [6.840622763418895e-05]\n",
            "Epoch[9/10](630/659) || training loss 1.352 || training accuracy 52.50% || lr [9.22163962750415e-05]\n",
            "Epoch[9/10](640/659) || training loss 1.346 || training accuracy 51.25% || lr [9.990133642135172e-05]\n",
            "Epoch[9/10](650/659) || training loss 1.269 || training accuracy 60.00% || lr [8.85256621387352e-05]\n",
            "Epoch[10/10](10/659) || training loss 1.598 || training accuracy 46.25% || lr [3.454915028122781e-05]\n",
            "Epoch[10/10](20/659) || training loss 1.228 || training accuracy 53.75% || lr [9.549150281245327e-06]\n",
            "Epoch[10/10](30/659) || training loss 1.367 || training accuracy 47.50% || lr [0.0]\n",
            "Epoch[10/10](40/659) || training loss  1.2 || training accuracy 65.00% || lr [9.549150281288017e-06]\n",
            "Epoch[10/10](50/659) || training loss 1.053 || training accuracy 63.75% || lr [3.4549150281379616e-05]\n",
            "Epoch[10/10](60/659) || training loss 1.341 || training accuracy 50.00% || lr [6.545084971899333e-05]\n",
            "Epoch[10/10](70/659) || training loss 1.205 || training accuracy 57.50% || lr [9.04508497190843e-05]\n",
            "Epoch[10/10](80/659) || training loss 1.478 || training accuracy 50.00% || lr [0.00010000000000037126]\n",
            "Epoch[10/10](90/659) || training loss 1.099 || training accuracy 60.00% || lr [9.045084971908356e-05]\n",
            "Epoch[10/10](100/659) || training loss 1.552 || training accuracy 50.00% || lr [6.545084971899215e-05]\n",
            "Epoch[10/10](110/659) || training loss 1.211 || training accuracy 56.25% || lr [3.454915028138388e-05]\n",
            "Epoch[10/10](120/659) || training loss 1.332 || training accuracy 51.25% || lr [9.549150281290658e-06]\n",
            "Epoch[10/10](130/659) || training loss 1.287 || training accuracy 55.00% || lr [0.0]\n",
            "Epoch[10/10](140/659) || training loss 1.28 || training accuracy 45.00% || lr [9.54915028125945e-06]\n",
            "Epoch[10/10](150/659) || training loss 1.299 || training accuracy 58.75% || lr [3.454915028127753e-05]\n",
            "Epoch[10/10](160/659) || training loss 1.304 || training accuracy 56.25% || lr [6.545084971879545e-05]\n",
            "Epoch[10/10](170/659) || training loss 1.312 || training accuracy 60.00% || lr [9.045084971881575e-05]\n",
            "Epoch[10/10](180/659) || training loss 1.442 || training accuracy 51.25% || lr [0.00010000000000007877]\n",
            "Epoch[10/10](190/659) || training loss 1.255 || training accuracy 56.25% || lr [9.045084971881964e-05]\n",
            "Epoch[10/10](200/659) || training loss 1.571 || training accuracy 52.50% || lr [6.545084971880176e-05]\n",
            "Epoch[10/10](210/659) || training loss 1.105 || training accuracy 63.75% || lr [3.454915028128387e-05]\n",
            "Epoch[10/10](220/659) || training loss 1.416 || training accuracy 53.75% || lr [9.549150281263368e-06]\n",
            "Epoch[10/10](230/659) || training loss 1.342 || training accuracy 45.00% || lr [0.0]\n",
            "Epoch[10/10](240/659) || training loss 1.245 || training accuracy 58.75% || lr [9.549150281268598e-06]\n",
            "Epoch[10/10](250/659) || training loss 1.511 || training accuracy 51.25% || lr [3.454915028130522e-05]\n",
            "Epoch[10/10](260/659) || training loss 1.155 || training accuracy 55.00% || lr [6.545084971884396e-05]\n",
            "Epoch[10/10](270/659) || training loss 1.189 || training accuracy 56.25% || lr [9.045084971887941e-05]\n",
            "Epoch[10/10](280/659) || training loss 1.354 || training accuracy 51.25% || lr [0.00010000000000014618]\n",
            "Epoch[10/10](290/659) || training loss 1.152 || training accuracy 58.75% || lr [9.045084971888124e-05]\n",
            "Epoch[10/10](300/659) || training loss 1.196 || training accuracy 66.25% || lr [6.545084971884152e-05]\n",
            "Epoch[10/10](310/659) || training loss 1.405 || training accuracy 53.75% || lr [3.454915028130279e-05]\n",
            "Epoch[10/10](320/659) || training loss 1.598 || training accuracy 56.25% || lr [9.549150281267104e-06]\n",
            "Epoch[10/10](330/659) || training loss 1.297 || training accuracy 55.00% || lr [0.0]\n",
            "Epoch[10/10](340/659) || training loss 1.361 || training accuracy 58.75% || lr [9.549150281236687e-06]\n",
            "Epoch[10/10](350/659) || training loss 1.315 || training accuracy 57.50% || lr [3.45491502811977e-05]\n",
            "Epoch[10/10](360/659) || training loss 1.372 || training accuracy 53.75% || lr [6.545084971865143e-05]\n",
            "Epoch[10/10](370/659) || training loss 1.153 || training accuracy 58.75% || lr [9.04508497186142e-05]\n",
            "Epoch[10/10](380/659) || training loss 1.335 || training accuracy 57.50% || lr [9.999999999985365e-05]\n",
            "Epoch[10/10](390/659) || training loss 1.52 || training accuracy 41.25% || lr [9.045084971861726e-05]\n",
            "Epoch[10/10](400/659) || training loss 1.513 || training accuracy 51.25% || lr [6.545084971865647e-05]\n",
            "Epoch[10/10](410/659) || training loss 1.193 || training accuracy 56.25% || lr [3.454915028120814e-05]\n",
            "Epoch[10/10](420/659) || training loss 1.449 || training accuracy 56.25% || lr [9.549150281239799e-06]\n",
            "Epoch[10/10](430/659) || training loss 1.472 || training accuracy 50.00% || lr [0.0]\n",
            "Epoch[10/10](440/659) || training loss 1.406 || training accuracy 51.25% || lr [9.549150281276889e-06]\n",
            "Epoch[10/10](450/659) || training loss 1.505 || training accuracy 47.50% || lr [3.454915028134984e-05]\n",
            "Epoch[10/10](460/659) || training loss 1.529 || training accuracy 47.50% || lr [6.545084971893033e-05]\n",
            "Epoch[10/10](470/659) || training loss 1.681 || training accuracy 45.00% || lr [9.045084971900369e-05]\n",
            "Epoch[10/10](480/659) || training loss 1.016 || training accuracy 75.00% || lr [0.00010000000000028127]\n",
            "Epoch[10/10](490/659) || training loss 1.259 || training accuracy 55.00% || lr [9.045084971900135e-05]\n",
            "Epoch[10/10](500/659) || training loss 1.197 || training accuracy 57.50% || lr [6.545084971893194e-05]\n",
            "Epoch[10/10](510/659) || training loss 1.536 || training accuracy 51.25% || lr [3.4549150281351474e-05]\n",
            "Epoch[10/10](520/659) || training loss 1.623 || training accuracy 52.50% || lr [9.549150281281261e-06]\n",
            "Epoch[10/10](530/659) || training loss 1.325 || training accuracy 57.50% || lr [0.0]\n",
            "Epoch[10/10](540/659) || training loss 1.387 || training accuracy 52.50% || lr [9.549150281251659e-06]\n",
            "Epoch[10/10](550/659) || training loss 1.338 || training accuracy 60.00% || lr [3.454915028124773e-05]\n",
            "Epoch[10/10](560/659) || training loss 1.406 || training accuracy 51.25% || lr [6.545084971873779e-05]\n",
            "Epoch[10/10](570/659) || training loss 1.303 || training accuracy 52.50% || lr [9.045084971873507e-05]\n",
            "Epoch[10/10](580/659) || training loss 1.508 || training accuracy 42.50% || lr [9.999999999998873e-05]\n",
            "Epoch[10/10](590/659) || training loss 1.328 || training accuracy 55.00% || lr [9.04508497187374e-05]\n",
            "Epoch[10/10](600/659) || training loss 1.278 || training accuracy 55.00% || lr [6.545084971874154e-05]\n",
            "Epoch[10/10](610/659) || training loss 1.254 || training accuracy 53.75% || lr [3.454915028125145e-05]\n",
            "Epoch[10/10](620/659) || training loss 1.289 || training accuracy 53.75% || lr [9.54915028125396e-06]\n",
            "Epoch[10/10](630/659) || training loss 1.495 || training accuracy 42.50% || lr [0.0]\n",
            "Epoch[10/10](640/659) || training loss 1.307 || training accuracy 51.25% || lr [9.549150281254134e-06]\n",
            "Epoch[10/10](650/659) || training loss 1.307 || training accuracy 48.75% || lr [3.454915028127004e-05]\n"
          ],
          "name": "stdout"
        }
      ]
    },
    {
      "cell_type": "code",
      "metadata": {
        "id": "cVH0mby3UnGJ"
      },
      "source": [
        "torch.save(model.state_dict(), save_path)"
      ],
      "execution_count": 30,
      "outputs": []
    },
    {
      "cell_type": "code",
      "metadata": {
        "id": "KCXflHVPluUe",
        "colab": {
          "base_uri": "https://localhost:8080/",
          "height": 1000
        },
        "outputId": "160ae9c7-a9a3-411f-f95c-e740c6b46283"
      },
      "source": [
        "inputs, key_inputs, labels = next(it)\n",
        "print(inputs.shape)\n",
        "print(key_inputs.shape)\n",
        "print(labels.shape)\n",
        "# batch, seq, channel, width, height\n",
        "# batch, seq, label\n",
        "\n",
        "display(to_img(inputs[0][0]))\n",
        "# display(to_img(inputs[0][1]))\n",
        "# display(to_img(inputs[0][-1]))\n",
        "\n",
        "model.eval()\n",
        "\n",
        "inputs = inputs.to(device)\n",
        "key_inputs = key_inputs.to(device)\n",
        "labels = labels.to(device)\n",
        "outs, h1, h2 = model(inputs, key_inputs)\n",
        "print(outs)\n",
        "preds = torch.argmax(outs, dim=-1)\n",
        "print(preds)\n",
        "loss = criterion(outs, labels)\n",
        "print(labels)\n",
        "print(loss.cpu())"
      ],
      "execution_count": 31,
      "outputs": [
        {
          "output_type": "stream",
          "text": [
            "torch.Size([8, 10, 3, 224, 224])\n",
            "torch.Size([8, 10, 6])\n",
            "torch.Size([8])\n"
          ],
          "name": "stdout"
        },
        {
          "output_type": "display_data",
          "data": {
            "image/png": "[encoded data removed]",
            "text/plain": [
              "<PIL.Image.Image image mode=RGB size=224x224 at 0x7F72956C1D10>"
            ]
          },
          "metadata": {
            "tags": []
          }
        },
        {
          "output_type": "stream",
          "text": [
            "tensor([[-2.5056, -5.6158, -5.7174, -5.6139, -5.6152, -5.6143, -5.6144, -5.6150,\n",
            "         -3.3639, -5.6145, -5.5239, -6.4117, -5.6138, -5.6145, -5.6145, -5.6164,\n",
            "         -4.0985, -4.6416, -5.9672, -5.6143, -5.6150, -5.6136, -5.6148, -5.6144,\n",
            "         -5.6147, -5.6150, -5.6154, -5.6144, -5.6151, -5.6152, -5.6145, -5.6148,\n",
            "          4.1362, -5.6152, -3.3435, -5.6149,  1.3500, -5.6144, -5.6131, -5.6147,\n",
            "          3.2447, -5.6137,  0.1790, -5.6157,  0.6512, -5.6157, -3.0530, -5.6134,\n",
            "          2.9239, -5.6159,  0.2711, -5.6152, -0.7086, -5.6161, -3.8302, -5.6141,\n",
            "         -1.9466, -5.6172, -4.4456, -5.6141, -5.6147, -5.6148, -8.3556, -5.6149],\n",
            "        [-3.6654, -6.1975, -5.9397, -6.1994, -6.1982, -6.1990, -6.1989, -6.1982,\n",
            "         -3.9371, -6.1986, -6.3859, -6.6701, -6.1994, -6.1987, -6.1987, -6.1967,\n",
            "         -1.9063, -5.7970, -3.2234, -6.1989, -6.1980, -6.1997, -6.1984, -6.1989,\n",
            "         -6.1985, -6.1980, -6.1979, -6.1989, -6.1982, -6.1979, -6.1986, -6.1983,\n",
            "          2.9673, -6.1981, -2.2560, -6.1981, -1.1083, -6.1987, -6.2002, -6.1984,\n",
            "          1.2934, -6.1995, -1.4602, -6.1975, -1.5707, -6.1974, -5.8055, -6.1999,\n",
            "          3.7195, -6.1973,  1.5834, -6.1982,  0.4705, -6.1970, -0.5939, -6.1989,\n",
            "         -0.1621, -6.1958, -2.6897, -6.1991, -6.1986, -6.1983, -7.0854, -6.1981],\n",
            "        [-2.7186, -6.3743, -5.6092, -6.3756, -6.3747, -6.3753, -6.3753, -6.3748,\n",
            "         -4.1373, -6.3750, -5.8829, -6.6173, -6.3756, -6.3751, -6.3751, -6.3739,\n",
            "         -1.0417, -5.7841, -3.9641, -6.3752, -6.3747, -6.3758, -6.3748, -6.3752,\n",
            "         -6.3750, -6.3746, -6.3745, -6.3753, -6.3748, -6.3746, -6.3750, -6.3749,\n",
            "          2.5825, -6.3747, -1.2275, -6.3746, -1.0531, -6.3752, -6.3762, -6.3749,\n",
            "          0.9562, -6.3756, -1.8630, -6.3741, -2.2575, -6.3742, -6.1280, -6.3759,\n",
            "          3.6426, -6.3741,  0.4035, -6.3747,  0.5969, -6.3739, -1.1805, -6.3753,\n",
            "         -0.1968, -6.3732, -1.5773, -6.3754, -6.3752, -6.3749, -5.0292, -6.3748],\n",
            "        [-1.4424, -5.6356, -4.9985, -5.6329, -5.6347, -5.6335, -5.6337, -5.6347,\n",
            "         -3.2449, -5.6339, -4.6071, -5.8812, -5.6329, -5.6339, -5.6339, -5.6366,\n",
            "         -3.3094, -4.7839, -6.2938, -5.6335, -5.6345, -5.6325, -5.6343, -5.6336,\n",
            "         -5.6341, -5.6346, -5.6351, -5.6337, -5.6347, -5.6348, -5.6339, -5.6342,\n",
            "          4.0829, -5.6348, -2.2230, -5.6345,  1.4340, -5.6337, -5.6318, -5.6341,\n",
            "          2.9024, -5.6327, -0.1028, -5.6355, -0.0485, -5.6356, -2.6981, -5.6323,\n",
            "          2.8945, -5.6359, -0.7871, -5.6348, -0.5874, -5.6362, -4.4472, -5.6334,\n",
            "         -2.2639, -5.6378, -4.3343, -5.6333, -5.6341, -5.6344, -7.7591, -5.6346],\n",
            "        [-1.5120, -6.8684, -7.1187, -6.8677, -6.8681, -6.8679, -6.8678, -6.8680,\n",
            "         -2.2932, -6.8681, -5.1276, -5.9265, -6.8678, -6.8679, -6.8679, -6.8683,\n",
            "         -3.6124, -5.1359, -6.0068, -6.8680, -6.8681, -6.8676, -6.8683, -6.8677,\n",
            "         -6.8680, -6.8682, -6.8679, -6.8678, -6.8680, -6.8679, -6.8681, -6.8680,\n",
            "          2.2571, -6.8678, -4.1943, -6.8682, -1.0265, -6.8680, -6.8675, -6.8677,\n",
            "          3.4568, -6.8677, -0.4030, -6.8685,  0.3383, -6.8682, -3.0817, -6.8675,\n",
            "          1.5593, -6.8682, -2.1850, -6.8680, -1.8726, -6.8680, -5.3821, -6.8679,\n",
            "         -0.1044, -6.8687, -0.5774, -6.8679, -6.8679, -6.8683, -1.6395, -6.8680],\n",
            "        [-4.5933, -5.6326, -6.3702, -5.6320, -5.6323, -5.6322, -5.6322, -5.6325,\n",
            "         -1.8020, -5.6320, -1.8959, -2.6907, -5.6319, -5.6320, -5.6322, -5.6324,\n",
            "         -3.0962, -6.1439, -6.5457, -5.6321, -5.6322, -5.6319, -5.6322, -5.6322,\n",
            "         -5.6321, -5.6324, -5.6328, -5.6322, -5.6325, -5.6324, -5.6321, -5.6322,\n",
            "          2.2883, -5.6325, -3.2125, -5.6323, -1.1125, -5.6320, -5.6317, -5.6324,\n",
            "          3.3529, -5.6319,  2.1902, -5.6323, -0.0444, -5.6325,  0.2078, -5.6318,\n",
            "          1.1841, -5.6327, -1.5610, -5.6326, -2.1912, -5.6328, -6.0721, -5.6319,\n",
            "         -1.6383, -5.6330, -2.2440, -5.6320, -5.6323, -5.6321, -5.8264, -5.6323],\n",
            "        [-3.8062, -5.6615, -6.1192, -5.6607, -5.6612, -5.6609, -5.6609, -5.6613,\n",
            "         -2.1797, -5.6609, -1.7537, -2.6925, -5.6606, -5.6608, -5.6610, -5.6614,\n",
            "         -2.3240, -6.1080, -6.3861, -5.6609, -5.6611, -5.6605, -5.6611, -5.6609,\n",
            "         -5.6609, -5.6612, -5.6615, -5.6609, -5.6612, -5.6612, -5.6610, -5.6609,\n",
            "          2.4309, -5.6614, -2.6565, -5.6611, -0.7744, -5.6609, -5.6603, -5.6612,\n",
            "          2.8024, -5.6606,  1.3324, -5.6614, -0.3489, -5.6614,  0.1359, -5.6604,\n",
            "          1.9347, -5.6616, -2.4322, -5.6614, -1.9621, -5.6617, -5.8357, -5.6607,\n",
            "         -1.4098, -5.6619, -2.2982, -5.6607, -5.6611, -5.6609, -5.0030, -5.6611],\n",
            "        [-4.1669, -5.6497, -6.5337, -5.6490, -5.6493, -5.6492, -5.6492, -5.6495,\n",
            "         -1.9167, -5.6491, -4.0239, -4.6978, -5.6490, -5.6491, -5.6492, -5.6497,\n",
            "         -4.5751, -5.4411, -6.4650, -5.6491, -5.6493, -5.6489, -5.6491, -5.6492,\n",
            "         -5.6492, -5.6494, -5.6496, -5.6493, -5.6495, -5.6493, -5.6492, -5.6492,\n",
            "          3.1470, -5.6495, -4.3605, -5.6492, -0.2292, -5.6491, -5.6488, -5.6494,\n",
            "          3.9495, -5.6489,  2.0693, -5.6492,  0.9515, -5.6495, -0.6972, -5.6489,\n",
            "          1.5432, -5.6496, -0.9072, -5.6496, -2.1575, -5.6496, -5.7692, -5.6489,\n",
            "         -1.9157, -5.6497, -2.7556, -5.6490, -5.6493, -5.6492, -6.8631, -5.6493]],\n",
            "       device='cuda:0', grad_fn=<AddmmBackward>)\n",
            "tensor([32, 48, 48, 32, 40, 40, 40, 40], device='cuda:0')\n",
            "tensor([48, 48, 32, 48, 40, 40, 48, 40], device='cuda:0')\n",
            "tensor(1.1463, grad_fn=<CopyBackwards>)\n"
          ],
          "name": "stdout"
        }
      ]
    },
    {
      "cell_type": "code",
      "metadata": {
        "id": "G5NDDQssRpyI",
        "colab": {
          "base_uri": "https://localhost:8080/"
        },
        "outputId": "3f2533e2-1132-4bdc-e852-f0879d4e92bf"
      },
      "source": [
        "print(labels)"
      ],
      "execution_count": 32,
      "outputs": [
        {
          "output_type": "stream",
          "text": [
            "tensor([48, 48, 32, 48, 40, 40, 48, 40], device='cuda:0')\n"
          ],
          "name": "stdout"
        }
      ]
    },
    {
      "cell_type": "code",
      "metadata": {
        "id": "1AM5KJTlmLe1",
        "colab": {
          "base_uri": "https://localhost:8080/"
        },
        "outputId": "1ee7cb5c-38de-4205-e662-427f37657d22"
      },
      "source": [
        "torch.cuda.empty_cache()\n",
        "\n",
        "inputs, key_inputs, labels = next(it)\n",
        "\n",
        "model.eval()\n",
        "\n",
        "inputs = inputs.to(device)\n",
        "key_inputs = key_inputs.to(device)\n",
        "labels = labels.to(device)\n",
        "\n",
        "outs, h1, h2 = model(inputs, key_inputs)\n",
        "\n",
        "preds = torch.argmax(outs, dim=-1)\n",
        "print(preds)\n",
        "print(labels)"
      ],
      "execution_count": 33,
      "outputs": [
        {
          "output_type": "stream",
          "text": [
            "tensor([42, 40, 48, 48, 48, 50, 42, 40], device='cuda:0')\n",
            "tensor([40, 32, 32, 56, 48, 50, 32, 42], device='cuda:0')\n"
          ],
          "name": "stdout"
        }
      ]
    },
    {
      "cell_type": "code",
      "metadata": {
        "id": "M4U3Nt-RV4SW",
        "colab": {
          "base_uri": "https://localhost:8080/"
        },
        "outputId": "8d0ad185-0619-459d-c178-0726ec5ffbfa"
      },
      "source": [
        "model.eval()\n",
        "\n",
        "outs, _, _ = model(inputs, key_inputs, h1, h2)\n",
        "\n",
        "preds = torch.argmax(outs, dim=-1)\n",
        "print(preds)\n",
        "print(labels)"
      ],
      "execution_count": 34,
      "outputs": [
        {
          "output_type": "stream",
          "text": [
            "tensor([42, 40, 48, 48, 48, 50, 42, 40], device='cuda:0')\n",
            "tensor([40, 32, 32, 56, 48, 50, 32, 42], device='cuda:0')\n"
          ],
          "name": "stdout"
        }
      ]
    },
    {
      "cell_type": "code",
      "metadata": {
        "id": "gsjBEgl1V-Ib",
        "colab": {
          "base_uri": "https://localhost:8080/"
        },
        "outputId": "e1f6d715-257c-4295-df63-39f0bc7ba444"
      },
      "source": [
        "model.eval()\n",
        "\n",
        "outs, _, _ = model(inputs, key_inputs)\n",
        "\n",
        "preds = torch.argmax(outs, dim=-1)\n",
        "print(preds)\n",
        "print(labels)"
      ],
      "execution_count": 35,
      "outputs": [
        {
          "output_type": "stream",
          "text": [
            "tensor([42, 40, 48, 48, 48, 50, 42, 40], device='cuda:0')\n",
            "tensor([40, 32, 32, 56, 48, 50, 32, 42], device='cuda:0')\n"
          ],
          "name": "stdout"
        }
      ]
    },
    {
      "cell_type": "code",
      "metadata": {
        "id": "9qFgNknmWcP9",
        "colab": {
          "base_uri": "https://localhost:8080/"
        },
        "outputId": "d62acf33-59bb-4272-d799-90fd4a28e64d"
      },
      "source": [
        "model.eval()\n",
        "\n",
        "h1 = None\n",
        "h2 = None\n",
        "\n",
        "idx = 100\n",
        "for i in range(seq_size):\n",
        "  img = dataset[idx][0][i].unsqueeze(0).unsqueeze(0).to(device)\n",
        "  key = dataset[idx][1][i].unsqueeze(0).unsqueeze(0).to(device)\n",
        "  out, h1, h2 = model(img, key, h1, h2)\n",
        "  pred = torch.argmax(out, dim=-1)\n",
        "  print(pred.item())\n",
        "print(f\"label : {dataset[idx][2]}\")"
      ],
      "execution_count": 39,
      "outputs": [
        {
          "output_type": "stream",
          "text": [
            "32\n",
            "32\n",
            "32\n",
            "32\n",
            "48\n",
            "48\n",
            "48\n",
            "32\n",
            "32\n",
            "48\n",
            "label : 48\n"
          ],
          "name": "stdout"
        }
      ]
    },
    {
      "cell_type": "code",
      "metadata": {
        "id": "tWs1eQ71Y8nL"
      },
      "source": [
        ""
      ],
      "execution_count": null,
      "outputs": []
    }
  ]
}