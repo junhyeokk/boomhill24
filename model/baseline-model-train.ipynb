{
  "nbformat": 4,
  "nbformat_minor": 0,
  "metadata": {
    "colab": {
      "name": "baseline-model-training.ipynb",
      "provenance": [],
      "collapsed_sections": []
    },
    "kernelspec": {
      "name": "python3",
      "display_name": "Python 3"
    },
    "language_info": {
      "name": "python"
    },
    "accelerator": "GPU"
  },
  "cells": [
    {
      "cell_type": "code",
      "metadata": {
        "colab": {
          "base_uri": "https://localhost:8080/"
        },
        "id": "_nG8cgSvr3Iw",
        "outputId": "dff89dce-18f8-4bb1-fb7b-f1cb71d1a57d"
      },
      "source": [
        "from google.colab import drive\n",
        "drive.mount('/content/gdrive/')"
      ],
      "execution_count": null,
      "outputs": [
        {
          "output_type": "stream",
          "text": [
            "Mounted at /content/gdrive/\n"
          ],
          "name": "stdout"
        }
      ]
    },
    {
      "cell_type": "code",
      "metadata": {
        "id": "PssSplM2wemG"
      },
      "source": [
        "import os\n",
        "import csv\n",
        "from PIL import Image\n",
        "\n",
        "import torch\n",
        "import torch.nn as nn\n",
        "import torch.optim as optim\n",
        "import torch.nn.functional as F\n",
        "import torch.utils.data as data\n",
        "from torch.optim.lr_scheduler import StepLR\n",
        "\n",
        "from torchvision import transforms\n",
        "from torchvision.models import resnet50"
      ],
      "execution_count": null,
      "outputs": []
    },
    {
      "cell_type": "code",
      "metadata": {
        "id": "IbCoXUpEs3tm"
      },
      "source": [
        "drivepath = \"/content/gdrive/MyDrive\""
      ],
      "execution_count": null,
      "outputs": []
    },
    {
      "cell_type": "code",
      "metadata": {
        "id": "g2_nYsUu0iAc"
      },
      "source": [
        "class KartModel1(nn.Module):\n",
        "  def __init__(self, class_num = 6):\n",
        "    super(KartModel1, self).__init__()\n",
        "    self.class_num = class_num\n",
        "    self.backbone = resnet50(pretrained=True)\n",
        "    self.backbone.fc = nn.Sequential(\n",
        "      nn.Linear(in_features=2048, out_features=class_num, bias=True),\n",
        "      # nn.Softmax(dim=1)\n",
        "      nn.Sigmoid()\n",
        "    )\n",
        "  \n",
        "  def forward(self, input_image):\n",
        "    output = self.backbone(input_image)\n",
        "    return output"
      ],
      "execution_count": null,
      "outputs": []
    },
    {
      "cell_type": "code",
      "metadata": {
        "id": "cA4jcJPz7xfL"
      },
      "source": [
        "class KartDataSet(data.Dataset):\n",
        "  def __init__(self, csv_file):\n",
        "    self.images = []\n",
        "    self.labels = []\n",
        "\n",
        "    with open(csv_file) as csvfile:\n",
        "      csv_reader = csv.reader(csvfile)\n",
        "      next(csv_reader, None)\n",
        "      \n",
        "      for row in csv_reader:\n",
        "        self.images.append(drivepath + '/' + row[0])\n",
        "        self.labels.append([int(x) for x in list(row[1])])\n",
        "\n",
        "  def __getitem__(self, index):\n",
        "    image_path = self.images[index]\n",
        "    image = Image.open(image_path)\n",
        "\n",
        "    label = self.labels[index]\n",
        "\n",
        "    preprocess = transforms.Compose([\n",
        "      transforms.Resize((224, 224)),\n",
        "      transforms.ToTensor(),\n",
        "    ])\n",
        "    \n",
        "    return preprocess(image), torch.Tensor(label)\n",
        "\n",
        "  def __len__(self):\n",
        "    return len(self.images)"
      ],
      "execution_count": null,
      "outputs": []
    },
    {
      "cell_type": "code",
      "metadata": {
        "colab": {
          "base_uri": "https://localhost:8080/"
        },
        "id": "Jsv0biYQq_0l",
        "outputId": "eae6e5d5-53e0-4baf-93ff-6b6e457c048f"
      },
      "source": [
        "dataset = KartDataSet(drivepath + \"/csv/kart_test.csv\")\n",
        "print(dataset[0][0].shape)\n",
        "print(dataset[0][1])"
      ],
      "execution_count": null,
      "outputs": [
        {
          "output_type": "stream",
          "text": [
            "torch.Size([3, 224, 224])\n",
            "tensor([0., 0., 0., 0., 0., 0.])\n"
          ],
          "name": "stdout"
        }
      ]
    },
    {
      "cell_type": "code",
      "metadata": {
        "colab": {
          "base_uri": "https://localhost:8080/"
        },
        "id": "mhSINRr2RITa",
        "outputId": "22ff3ec2-171f-421b-8770-cdf99b33b06b"
      },
      "source": [
        "num_epochs = 20\n",
        "lr = 1e-4\n",
        "batch_size = 8\n",
        "log_interval = 10\n",
        "\n",
        "device_type = \"cuda\" if torch.cuda.is_available() else \"cpu\"\n",
        "device = torch.device(device_type)\n",
        "print(device)"
      ],
      "execution_count": null,
      "outputs": [
        {
          "output_type": "stream",
          "text": [
            "cuda\n"
          ],
          "name": "stdout"
        }
      ]
    },
    {
      "cell_type": "code",
      "metadata": {
        "id": "Gql6fhRSrkhV",
        "colab": {
          "base_uri": "https://localhost:8080/"
        },
        "outputId": "68c3124c-9263-49d9-a7a7-23f13d033e43"
      },
      "source": [
        "loader = data.DataLoader(\n",
        "    dataset,\n",
        "    batch_size=batch_size,\n",
        "    num_workers=4,\n",
        "    shuffle=False\n",
        ")"
      ],
      "execution_count": null,
      "outputs": [
        {
          "output_type": "stream",
          "text": [
            "/usr/local/lib/python3.7/dist-packages/torch/utils/data/dataloader.py:477: UserWarning: This DataLoader will create 4 worker processes in total. Our suggested max number of worker in current system is 2, which is smaller than what this DataLoader is going to create. Please be aware that excessive worker creation might get DataLoader running slow or even freeze, lower the worker number to avoid potential slowness/freeze if necessary.\n",
            "  cpuset_checked))\n"
          ],
          "name": "stderr"
        }
      ]
    },
    {
      "cell_type": "code",
      "metadata": {
        "id": "UEEp2bw_09UO",
        "colab": {
          "base_uri": "https://localhost:8080/"
        },
        "outputId": "1707abed-9232-42bf-84b3-25cec869576d"
      },
      "source": [
        "save_path = drivepath + \"/test_model.pt\"\n",
        "\n",
        "model = KartModel1()\n",
        "model.load_state_dict(torch.load(save_path))\n",
        "\n",
        "for param, weight in model.named_parameters():\n",
        "    print(f\"param {param:20} required gradient? -> {weight.requires_grad}\")\n",
        "model = model.to(device)"
      ],
      "execution_count": null,
      "outputs": [
        {
          "output_type": "stream",
          "text": [
            "param backbone.conv1.weight required gradient? -> True\n",
            "param backbone.bn1.weight  required gradient? -> True\n",
            "param backbone.bn1.bias    required gradient? -> True\n",
            "param backbone.layer1.0.conv1.weight required gradient? -> True\n",
            "param backbone.layer1.0.bn1.weight required gradient? -> True\n",
            "param backbone.layer1.0.bn1.bias required gradient? -> True\n",
            "param backbone.layer1.0.conv2.weight required gradient? -> True\n",
            "param backbone.layer1.0.bn2.weight required gradient? -> True\n",
            "param backbone.layer1.0.bn2.bias required gradient? -> True\n",
            "param backbone.layer1.0.conv3.weight required gradient? -> True\n",
            "param backbone.layer1.0.bn3.weight required gradient? -> True\n",
            "param backbone.layer1.0.bn3.bias required gradient? -> True\n",
            "param backbone.layer1.0.downsample.0.weight required gradient? -> True\n",
            "param backbone.layer1.0.downsample.1.weight required gradient? -> True\n",
            "param backbone.layer1.0.downsample.1.bias required gradient? -> True\n",
            "param backbone.layer1.1.conv1.weight required gradient? -> True\n",
            "param backbone.layer1.1.bn1.weight required gradient? -> True\n",
            "param backbone.layer1.1.bn1.bias required gradient? -> True\n",
            "param backbone.layer1.1.conv2.weight required gradient? -> True\n",
            "param backbone.layer1.1.bn2.weight required gradient? -> True\n",
            "param backbone.layer1.1.bn2.bias required gradient? -> True\n",
            "param backbone.layer1.1.conv3.weight required gradient? -> True\n",
            "param backbone.layer1.1.bn3.weight required gradient? -> True\n",
            "param backbone.layer1.1.bn3.bias required gradient? -> True\n",
            "param backbone.layer1.2.conv1.weight required gradient? -> True\n",
            "param backbone.layer1.2.bn1.weight required gradient? -> True\n",
            "param backbone.layer1.2.bn1.bias required gradient? -> True\n",
            "param backbone.layer1.2.conv2.weight required gradient? -> True\n",
            "param backbone.layer1.2.bn2.weight required gradient? -> True\n",
            "param backbone.layer1.2.bn2.bias required gradient? -> True\n",
            "param backbone.layer1.2.conv3.weight required gradient? -> True\n",
            "param backbone.layer1.2.bn3.weight required gradient? -> True\n",
            "param backbone.layer1.2.bn3.bias required gradient? -> True\n",
            "param backbone.layer2.0.conv1.weight required gradient? -> True\n",
            "param backbone.layer2.0.bn1.weight required gradient? -> True\n",
            "param backbone.layer2.0.bn1.bias required gradient? -> True\n",
            "param backbone.layer2.0.conv2.weight required gradient? -> True\n",
            "param backbone.layer2.0.bn2.weight required gradient? -> True\n",
            "param backbone.layer2.0.bn2.bias required gradient? -> True\n",
            "param backbone.layer2.0.conv3.weight required gradient? -> True\n",
            "param backbone.layer2.0.bn3.weight required gradient? -> True\n",
            "param backbone.layer2.0.bn3.bias required gradient? -> True\n",
            "param backbone.layer2.0.downsample.0.weight required gradient? -> True\n",
            "param backbone.layer2.0.downsample.1.weight required gradient? -> True\n",
            "param backbone.layer2.0.downsample.1.bias required gradient? -> True\n",
            "param backbone.layer2.1.conv1.weight required gradient? -> True\n",
            "param backbone.layer2.1.bn1.weight required gradient? -> True\n",
            "param backbone.layer2.1.bn1.bias required gradient? -> True\n",
            "param backbone.layer2.1.conv2.weight required gradient? -> True\n",
            "param backbone.layer2.1.bn2.weight required gradient? -> True\n",
            "param backbone.layer2.1.bn2.bias required gradient? -> True\n",
            "param backbone.layer2.1.conv3.weight required gradient? -> True\n",
            "param backbone.layer2.1.bn3.weight required gradient? -> True\n",
            "param backbone.layer2.1.bn3.bias required gradient? -> True\n",
            "param backbone.layer2.2.conv1.weight required gradient? -> True\n",
            "param backbone.layer2.2.bn1.weight required gradient? -> True\n",
            "param backbone.layer2.2.bn1.bias required gradient? -> True\n",
            "param backbone.layer2.2.conv2.weight required gradient? -> True\n",
            "param backbone.layer2.2.bn2.weight required gradient? -> True\n",
            "param backbone.layer2.2.bn2.bias required gradient? -> True\n",
            "param backbone.layer2.2.conv3.weight required gradient? -> True\n",
            "param backbone.layer2.2.bn3.weight required gradient? -> True\n",
            "param backbone.layer2.2.bn3.bias required gradient? -> True\n",
            "param backbone.layer2.3.conv1.weight required gradient? -> True\n",
            "param backbone.layer2.3.bn1.weight required gradient? -> True\n",
            "param backbone.layer2.3.bn1.bias required gradient? -> True\n",
            "param backbone.layer2.3.conv2.weight required gradient? -> True\n",
            "param backbone.layer2.3.bn2.weight required gradient? -> True\n",
            "param backbone.layer2.3.bn2.bias required gradient? -> True\n",
            "param backbone.layer2.3.conv3.weight required gradient? -> True\n",
            "param backbone.layer2.3.bn3.weight required gradient? -> True\n",
            "param backbone.layer2.3.bn3.bias required gradient? -> True\n",
            "param backbone.layer3.0.conv1.weight required gradient? -> True\n",
            "param backbone.layer3.0.bn1.weight required gradient? -> True\n",
            "param backbone.layer3.0.bn1.bias required gradient? -> True\n",
            "param backbone.layer3.0.conv2.weight required gradient? -> True\n",
            "param backbone.layer3.0.bn2.weight required gradient? -> True\n",
            "param backbone.layer3.0.bn2.bias required gradient? -> True\n",
            "param backbone.layer3.0.conv3.weight required gradient? -> True\n",
            "param backbone.layer3.0.bn3.weight required gradient? -> True\n",
            "param backbone.layer3.0.bn3.bias required gradient? -> True\n",
            "param backbone.layer3.0.downsample.0.weight required gradient? -> True\n",
            "param backbone.layer3.0.downsample.1.weight required gradient? -> True\n",
            "param backbone.layer3.0.downsample.1.bias required gradient? -> True\n",
            "param backbone.layer3.1.conv1.weight required gradient? -> True\n",
            "param backbone.layer3.1.bn1.weight required gradient? -> True\n",
            "param backbone.layer3.1.bn1.bias required gradient? -> True\n",
            "param backbone.layer3.1.conv2.weight required gradient? -> True\n",
            "param backbone.layer3.1.bn2.weight required gradient? -> True\n",
            "param backbone.layer3.1.bn2.bias required gradient? -> True\n",
            "param backbone.layer3.1.conv3.weight required gradient? -> True\n",
            "param backbone.layer3.1.bn3.weight required gradient? -> True\n",
            "param backbone.layer3.1.bn3.bias required gradient? -> True\n",
            "param backbone.layer3.2.conv1.weight required gradient? -> True\n",
            "param backbone.layer3.2.bn1.weight required gradient? -> True\n",
            "param backbone.layer3.2.bn1.bias required gradient? -> True\n",
            "param backbone.layer3.2.conv2.weight required gradient? -> True\n",
            "param backbone.layer3.2.bn2.weight required gradient? -> True\n",
            "param backbone.layer3.2.bn2.bias required gradient? -> True\n",
            "param backbone.layer3.2.conv3.weight required gradient? -> True\n",
            "param backbone.layer3.2.bn3.weight required gradient? -> True\n",
            "param backbone.layer3.2.bn3.bias required gradient? -> True\n",
            "param backbone.layer3.3.conv1.weight required gradient? -> True\n",
            "param backbone.layer3.3.bn1.weight required gradient? -> True\n",
            "param backbone.layer3.3.bn1.bias required gradient? -> True\n",
            "param backbone.layer3.3.conv2.weight required gradient? -> True\n",
            "param backbone.layer3.3.bn2.weight required gradient? -> True\n",
            "param backbone.layer3.3.bn2.bias required gradient? -> True\n",
            "param backbone.layer3.3.conv3.weight required gradient? -> True\n",
            "param backbone.layer3.3.bn3.weight required gradient? -> True\n",
            "param backbone.layer3.3.bn3.bias required gradient? -> True\n",
            "param backbone.layer3.4.conv1.weight required gradient? -> True\n",
            "param backbone.layer3.4.bn1.weight required gradient? -> True\n",
            "param backbone.layer3.4.bn1.bias required gradient? -> True\n",
            "param backbone.layer3.4.conv2.weight required gradient? -> True\n",
            "param backbone.layer3.4.bn2.weight required gradient? -> True\n",
            "param backbone.layer3.4.bn2.bias required gradient? -> True\n",
            "param backbone.layer3.4.conv3.weight required gradient? -> True\n",
            "param backbone.layer3.4.bn3.weight required gradient? -> True\n",
            "param backbone.layer3.4.bn3.bias required gradient? -> True\n",
            "param backbone.layer3.5.conv1.weight required gradient? -> True\n",
            "param backbone.layer3.5.bn1.weight required gradient? -> True\n",
            "param backbone.layer3.5.bn1.bias required gradient? -> True\n",
            "param backbone.layer3.5.conv2.weight required gradient? -> True\n",
            "param backbone.layer3.5.bn2.weight required gradient? -> True\n",
            "param backbone.layer3.5.bn2.bias required gradient? -> True\n",
            "param backbone.layer3.5.conv3.weight required gradient? -> True\n",
            "param backbone.layer3.5.bn3.weight required gradient? -> True\n",
            "param backbone.layer3.5.bn3.bias required gradient? -> True\n",
            "param backbone.layer4.0.conv1.weight required gradient? -> True\n",
            "param backbone.layer4.0.bn1.weight required gradient? -> True\n",
            "param backbone.layer4.0.bn1.bias required gradient? -> True\n",
            "param backbone.layer4.0.conv2.weight required gradient? -> True\n",
            "param backbone.layer4.0.bn2.weight required gradient? -> True\n",
            "param backbone.layer4.0.bn2.bias required gradient? -> True\n",
            "param backbone.layer4.0.conv3.weight required gradient? -> True\n",
            "param backbone.layer4.0.bn3.weight required gradient? -> True\n",
            "param backbone.layer4.0.bn3.bias required gradient? -> True\n",
            "param backbone.layer4.0.downsample.0.weight required gradient? -> True\n",
            "param backbone.layer4.0.downsample.1.weight required gradient? -> True\n",
            "param backbone.layer4.0.downsample.1.bias required gradient? -> True\n",
            "param backbone.layer4.1.conv1.weight required gradient? -> True\n",
            "param backbone.layer4.1.bn1.weight required gradient? -> True\n",
            "param backbone.layer4.1.bn1.bias required gradient? -> True\n",
            "param backbone.layer4.1.conv2.weight required gradient? -> True\n",
            "param backbone.layer4.1.bn2.weight required gradient? -> True\n",
            "param backbone.layer4.1.bn2.bias required gradient? -> True\n",
            "param backbone.layer4.1.conv3.weight required gradient? -> True\n",
            "param backbone.layer4.1.bn3.weight required gradient? -> True\n",
            "param backbone.layer4.1.bn3.bias required gradient? -> True\n",
            "param backbone.layer4.2.conv1.weight required gradient? -> True\n",
            "param backbone.layer4.2.bn1.weight required gradient? -> True\n",
            "param backbone.layer4.2.bn1.bias required gradient? -> True\n",
            "param backbone.layer4.2.conv2.weight required gradient? -> True\n",
            "param backbone.layer4.2.bn2.weight required gradient? -> True\n",
            "param backbone.layer4.2.bn2.bias required gradient? -> True\n",
            "param backbone.layer4.2.conv3.weight required gradient? -> True\n",
            "param backbone.layer4.2.bn3.weight required gradient? -> True\n",
            "param backbone.layer4.2.bn3.bias required gradient? -> True\n",
            "param backbone.fc.0.weight required gradient? -> True\n",
            "param backbone.fc.0.bias   required gradient? -> True\n"
          ],
          "name": "stdout"
        }
      ]
    },
    {
      "cell_type": "code",
      "metadata": {
        "id": "IL90tvKMLKVt"
      },
      "source": [
        "# criterion = nn.CrossEntropyLoss()\n",
        "# criterion = nn.BCEWithLogitsLoss()\n",
        "criterion = nn.BCELoss()\n",
        "optimizer = optim.Adam(model.parameters(), lr=lr, weight_decay=5e-4)\n",
        "scheduler = StepLR(optimizer, 5, gamma=0.5)"
      ],
      "execution_count": null,
      "outputs": []
    },
    {
      "cell_type": "code",
      "metadata": {
        "colab": {
          "base_uri": "https://localhost:8080/",
          "height": 618
        },
        "id": "mtaaB5sNndlt",
        "outputId": "7237dc14-a783-4376-831e-7221cc59cc08"
      },
      "source": [
        "a = 0\n",
        "for i in loader:\n",
        "  a = i\n",
        "  break\n",
        "  \n",
        "inputs, labels = a"
      ],
      "execution_count": null,
      "outputs": [
        {
          "output_type": "stream",
          "text": [
            "/usr/local/lib/python3.7/dist-packages/torch/utils/data/dataloader.py:477: UserWarning: This DataLoader will create 4 worker processes in total. Our suggested max number of worker in current system is 2, which is smaller than what this DataLoader is going to create. Please be aware that excessive worker creation might get DataLoader running slow or even freeze, lower the worker number to avoid potential slowness/freeze if necessary.\n",
            "  cpuset_checked))\n"
          ],
          "name": "stderr"
        },
        {
          "output_type": "error",
          "ename": "AttributeError",
          "evalue": "ignored",
          "traceback": [
            "\u001b[0;31m---------------------------------------------------------------------------\u001b[0m",
            "\u001b[0;31mAttributeError\u001b[0m                            Traceback (most recent call last)",
            "\u001b[0;32m<ipython-input-37-b37cf898bfd9>\u001b[0m in \u001b[0;36m<module>\u001b[0;34m()\u001b[0m\n\u001b[1;32m      1\u001b[0m \u001b[0ma\u001b[0m \u001b[0;34m=\u001b[0m \u001b[0;36m0\u001b[0m\u001b[0;34m\u001b[0m\u001b[0;34m\u001b[0m\u001b[0m\n\u001b[0;32m----> 2\u001b[0;31m \u001b[0;32mfor\u001b[0m \u001b[0mi\u001b[0m \u001b[0;32min\u001b[0m \u001b[0mloader\u001b[0m\u001b[0;34m:\u001b[0m\u001b[0;34m\u001b[0m\u001b[0;34m\u001b[0m\u001b[0m\n\u001b[0m\u001b[1;32m      3\u001b[0m   \u001b[0ma\u001b[0m \u001b[0;34m=\u001b[0m \u001b[0mi\u001b[0m\u001b[0;34m\u001b[0m\u001b[0;34m\u001b[0m\u001b[0m\n\u001b[1;32m      4\u001b[0m   \u001b[0;32mbreak\u001b[0m\u001b[0;34m\u001b[0m\u001b[0;34m\u001b[0m\u001b[0m\n\u001b[1;32m      5\u001b[0m \u001b[0;34m\u001b[0m\u001b[0m\n",
            "\u001b[0;32m/usr/local/lib/python3.7/dist-packages/torch/utils/data/dataloader.py\u001b[0m in \u001b[0;36m__next__\u001b[0;34m(self)\u001b[0m\n\u001b[1;32m    515\u001b[0m             \u001b[0;32mif\u001b[0m \u001b[0mself\u001b[0m\u001b[0;34m.\u001b[0m\u001b[0m_sampler_iter\u001b[0m \u001b[0;32mis\u001b[0m \u001b[0;32mNone\u001b[0m\u001b[0;34m:\u001b[0m\u001b[0;34m\u001b[0m\u001b[0;34m\u001b[0m\u001b[0m\n\u001b[1;32m    516\u001b[0m                 \u001b[0mself\u001b[0m\u001b[0;34m.\u001b[0m\u001b[0m_reset\u001b[0m\u001b[0;34m(\u001b[0m\u001b[0;34m)\u001b[0m\u001b[0;34m\u001b[0m\u001b[0;34m\u001b[0m\u001b[0m\n\u001b[0;32m--> 517\u001b[0;31m             \u001b[0mdata\u001b[0m \u001b[0;34m=\u001b[0m \u001b[0mself\u001b[0m\u001b[0;34m.\u001b[0m\u001b[0m_next_data\u001b[0m\u001b[0;34m(\u001b[0m\u001b[0;34m)\u001b[0m\u001b[0;34m\u001b[0m\u001b[0;34m\u001b[0m\u001b[0m\n\u001b[0m\u001b[1;32m    518\u001b[0m             \u001b[0mself\u001b[0m\u001b[0;34m.\u001b[0m\u001b[0m_num_yielded\u001b[0m \u001b[0;34m+=\u001b[0m \u001b[0;36m1\u001b[0m\u001b[0;34m\u001b[0m\u001b[0;34m\u001b[0m\u001b[0m\n\u001b[1;32m    519\u001b[0m             \u001b[0;32mif\u001b[0m \u001b[0mself\u001b[0m\u001b[0;34m.\u001b[0m\u001b[0m_dataset_kind\u001b[0m \u001b[0;34m==\u001b[0m \u001b[0m_DatasetKind\u001b[0m\u001b[0;34m.\u001b[0m\u001b[0mIterable\u001b[0m \u001b[0;32mand\u001b[0m\u001b[0;31m \u001b[0m\u001b[0;31m\\\u001b[0m\u001b[0;34m\u001b[0m\u001b[0;34m\u001b[0m\u001b[0m\n",
            "\u001b[0;32m/usr/local/lib/python3.7/dist-packages/torch/utils/data/dataloader.py\u001b[0m in \u001b[0;36m_next_data\u001b[0;34m(self)\u001b[0m\n\u001b[1;32m   1197\u001b[0m             \u001b[0;32melse\u001b[0m\u001b[0;34m:\u001b[0m\u001b[0;34m\u001b[0m\u001b[0;34m\u001b[0m\u001b[0m\n\u001b[1;32m   1198\u001b[0m                 \u001b[0;32mdel\u001b[0m \u001b[0mself\u001b[0m\u001b[0;34m.\u001b[0m\u001b[0m_task_info\u001b[0m\u001b[0;34m[\u001b[0m\u001b[0midx\u001b[0m\u001b[0;34m]\u001b[0m\u001b[0;34m\u001b[0m\u001b[0;34m\u001b[0m\u001b[0m\n\u001b[0;32m-> 1199\u001b[0;31m                 \u001b[0;32mreturn\u001b[0m \u001b[0mself\u001b[0m\u001b[0;34m.\u001b[0m\u001b[0m_process_data\u001b[0m\u001b[0;34m(\u001b[0m\u001b[0mdata\u001b[0m\u001b[0;34m)\u001b[0m\u001b[0;34m\u001b[0m\u001b[0;34m\u001b[0m\u001b[0m\n\u001b[0m\u001b[1;32m   1200\u001b[0m \u001b[0;34m\u001b[0m\u001b[0m\n\u001b[1;32m   1201\u001b[0m     \u001b[0;32mdef\u001b[0m \u001b[0m_try_put_index\u001b[0m\u001b[0;34m(\u001b[0m\u001b[0mself\u001b[0m\u001b[0;34m)\u001b[0m\u001b[0;34m:\u001b[0m\u001b[0;34m\u001b[0m\u001b[0;34m\u001b[0m\u001b[0m\n",
            "\u001b[0;32m/usr/local/lib/python3.7/dist-packages/torch/utils/data/dataloader.py\u001b[0m in \u001b[0;36m_process_data\u001b[0;34m(self, data)\u001b[0m\n\u001b[1;32m   1223\u001b[0m         \u001b[0mself\u001b[0m\u001b[0;34m.\u001b[0m\u001b[0m_try_put_index\u001b[0m\u001b[0;34m(\u001b[0m\u001b[0;34m)\u001b[0m\u001b[0;34m\u001b[0m\u001b[0;34m\u001b[0m\u001b[0m\n\u001b[1;32m   1224\u001b[0m         \u001b[0;32mif\u001b[0m \u001b[0misinstance\u001b[0m\u001b[0;34m(\u001b[0m\u001b[0mdata\u001b[0m\u001b[0;34m,\u001b[0m \u001b[0mExceptionWrapper\u001b[0m\u001b[0;34m)\u001b[0m\u001b[0;34m:\u001b[0m\u001b[0;34m\u001b[0m\u001b[0;34m\u001b[0m\u001b[0m\n\u001b[0;32m-> 1225\u001b[0;31m             \u001b[0mdata\u001b[0m\u001b[0;34m.\u001b[0m\u001b[0mreraise\u001b[0m\u001b[0;34m(\u001b[0m\u001b[0;34m)\u001b[0m\u001b[0;34m\u001b[0m\u001b[0;34m\u001b[0m\u001b[0m\n\u001b[0m\u001b[1;32m   1226\u001b[0m         \u001b[0;32mreturn\u001b[0m \u001b[0mdata\u001b[0m\u001b[0;34m\u001b[0m\u001b[0;34m\u001b[0m\u001b[0m\n\u001b[1;32m   1227\u001b[0m \u001b[0;34m\u001b[0m\u001b[0m\n",
            "\u001b[0;32m/usr/local/lib/python3.7/dist-packages/torch/_utils.py\u001b[0m in \u001b[0;36mreraise\u001b[0;34m(self)\u001b[0m\n\u001b[1;32m    427\u001b[0m             \u001b[0;31m# have message field\u001b[0m\u001b[0;34m\u001b[0m\u001b[0;34m\u001b[0m\u001b[0;34m\u001b[0m\u001b[0m\n\u001b[1;32m    428\u001b[0m             \u001b[0;32mraise\u001b[0m \u001b[0mself\u001b[0m\u001b[0;34m.\u001b[0m\u001b[0mexc_type\u001b[0m\u001b[0;34m(\u001b[0m\u001b[0mmessage\u001b[0m\u001b[0;34m=\u001b[0m\u001b[0mmsg\u001b[0m\u001b[0;34m)\u001b[0m\u001b[0;34m\u001b[0m\u001b[0;34m\u001b[0m\u001b[0m\n\u001b[0;32m--> 429\u001b[0;31m         \u001b[0;32mraise\u001b[0m \u001b[0mself\u001b[0m\u001b[0;34m.\u001b[0m\u001b[0mexc_type\u001b[0m\u001b[0;34m(\u001b[0m\u001b[0mmsg\u001b[0m\u001b[0;34m)\u001b[0m\u001b[0;34m\u001b[0m\u001b[0;34m\u001b[0m\u001b[0m\n\u001b[0m\u001b[1;32m    430\u001b[0m \u001b[0;34m\u001b[0m\u001b[0m\n\u001b[1;32m    431\u001b[0m \u001b[0;34m\u001b[0m\u001b[0m\n",
            "\u001b[0;31mAttributeError\u001b[0m: Caught AttributeError in DataLoader worker process 0.\nOriginal Traceback (most recent call last):\n  File \"/usr/local/lib/python3.7/dist-packages/torch/utils/data/_utils/worker.py\", line 202, in _worker_loop\n    data = fetcher.fetch(index)\n  File \"/usr/local/lib/python3.7/dist-packages/torch/utils/data/_utils/fetch.py\", line 44, in fetch\n    data = [self.dataset[idx] for idx in possibly_batched_index]\n  File \"/usr/local/lib/python3.7/dist-packages/torch/utils/data/_utils/fetch.py\", line 44, in <listcomp>\n    data = [self.dataset[idx] for idx in possibly_batched_index]\n  File \"<ipython-input-29-c5a43b8f9b7b>\", line 16, in __getitem__\n    image = Image.open(image_path)\nAttributeError: type object 'Image' has no attribute 'open'\n"
          ]
        }
      ]
    },
    {
      "cell_type": "code",
      "metadata": {
        "colab": {
          "base_uri": "https://localhost:8080/",
          "height": 487
        },
        "id": "bFQfddsJ2FXn",
        "outputId": "b2743a83-b457-4bb1-a475-ee8fc6e4db68"
      },
      "source": [
        "from torchvision.transforms import ToPILImage\n",
        "from IPython.display import Image\n",
        "to_img = ToPILImage()\n",
        "\n",
        "display(to_img(inputs[0]))\n",
        "\n",
        "inputs = inputs.to(device)\n",
        "labels = labels.to(device)\n",
        "outs = model(inputs)\n",
        "print(outs.cpu())\n",
        "loss = criterion(outs, labels)\n",
        "print(labels.cpu())\n",
        "print(loss.cpu())"
      ],
      "execution_count": null,
      "outputs": [
        {
          "output_type": "display_data",
          "data": {
            "image/png": "[encoded data removed]",
            "text/plain": [
              "<PIL.Image.Image image mode=RGB size=224x224 at 0x7FBD87411290>"
            ]
          },
          "metadata": {
            "tags": []
          }
        },
        {
          "output_type": "stream",
          "text": [
            "tensor([[0.6684, 0.2650, 0.2120, 0.1272, 0.1036, 0.1047],\n",
            "        [0.7077, 0.2653, 0.2050, 0.1464, 0.1483, 0.0990],\n",
            "        [0.6307, 0.2370, 0.2018, 0.1416, 0.1382, 0.1221],\n",
            "        [0.6427, 0.2262, 0.2046, 0.1436, 0.1364, 0.1023],\n",
            "        [0.5304, 0.2177, 0.1318, 0.1229, 0.1208, 0.0920],\n",
            "        [0.4622, 0.2214, 0.1618, 0.1786, 0.1426, 0.1399]],\n",
            "       grad_fn=<CopyBackwards>)\n",
            "tensor([[1., 0., 1., 0., 0., 0.],\n",
            "        [1., 0., 0., 0., 0., 0.],\n",
            "        [1., 0., 0., 0., 0., 0.],\n",
            "        [1., 1., 0., 0., 0., 0.],\n",
            "        [1., 0., 0., 0., 0., 0.],\n",
            "        [1., 0., 0., 0., 0., 0.]])\n",
            "tensor(0.3044, grad_fn=<CopyBackwards>)\n"
          ],
          "name": "stdout"
        }
      ]
    },
    {
      "cell_type": "code",
      "metadata": {
        "colab": {
          "base_uri": "https://localhost:8080/"
        },
        "id": "ZfhPU3UcEqJl",
        "outputId": "d7c8414e-1303-45c4-bac9-c11a6398a949"
      },
      "source": [
        "for epoch in range(num_epochs):\n",
        "  model.train()\n",
        "  loss_value = 0\n",
        "  matches = 0\n",
        "  \n",
        "  for idx, train_batch in enumerate(loader):\n",
        "    inputs, labels = train_batch\n",
        "    inputs = inputs.to(device)\n",
        "    labels = labels.to(device)\n",
        "\n",
        "    outs = model(inputs)\n",
        "    # preds = torch.argmax(outs)\n",
        "    loss = criterion(outs, labels)\n",
        "\n",
        "    loss.backward()\n",
        "    optimizer.step()\n",
        "    optimizer.zero_grad()\n",
        "\n",
        "    loss_value += loss.item()\n",
        "    # matches += (preds == labels).sum().item()\n",
        "\n",
        "    if (idx + 1) % log_interval == 0:\n",
        "      train_loss = loss_value / log_interval\n",
        "      # train_acc = matches / batch_size / log_interval\n",
        "      current_lr = scheduler.get_last_lr()\n",
        "      print(\n",
        "          f\"Epoch[{epoch}/{num_epochs}]({idx + 1}/{len(loader)}) || \"\n",
        "          f\"training loss {train_loss:4.4} || lr {current_lr}\"\n",
        "          # f\"training loss {train_loss:4.4} || training accuracy {train_acc:4.2%} || lr {current_lr}\"\n",
        "      )\n",
        "\n",
        "      loss_value = 0\n",
        "      matches = 0\n",
        "\n",
        "    scheduler.step()\n",
        "    \n",
        "  torch.save(model.state_dict(), save_path)"
      ],
      "execution_count": null,
      "outputs": [
        {
          "output_type": "stream",
          "text": [
            "/usr/local/lib/python3.7/dist-packages/torch/utils/data/dataloader.py:477: UserWarning: This DataLoader will create 4 worker processes in total. Our suggested max number of worker in current system is 2, which is smaller than what this DataLoader is going to create. Please be aware that excessive worker creation might get DataLoader running slow or even freeze, lower the worker number to avoid potential slowness/freeze if necessary.\n",
            "  cpuset_checked))\n"
          ],
          "name": "stderr"
        },
        {
          "output_type": "stream",
          "text": [
            "Epoch[0/20](10/129) || training loss 0.4133 || lr [5e-05]\n",
            "Epoch[0/20](20/129) || training loss 0.4664 || lr [1.25e-05]\n",
            "Epoch[0/20](30/129) || training loss 0.4594 || lr [3.125e-06]\n",
            "Epoch[0/20](40/129) || training loss 0.4633 || lr [7.8125e-07]\n",
            "Epoch[0/20](50/129) || training loss 0.4293 || lr [1.953125e-07]\n",
            "Epoch[0/20](60/129) || training loss 0.4399 || lr [4.8828125e-08]\n",
            "Epoch[0/20](70/129) || training loss 0.3934 || lr [1.220703125e-08]\n",
            "Epoch[0/20](80/129) || training loss 0.404 || lr [3.0517578125e-09]\n",
            "Epoch[0/20](90/129) || training loss 0.469 || lr [7.62939453125e-10]\n",
            "Epoch[0/20](100/129) || training loss 0.5431 || lr [1.9073486328125e-10]\n",
            "Epoch[0/20](110/129) || training loss 0.4452 || lr [4.76837158203125e-11]\n",
            "Epoch[0/20](120/129) || training loss 0.4529 || lr [1.1920928955078126e-11]\n",
            "Epoch[1/20](10/129) || training loss 0.2568 || lr [7.450580596923828e-13]\n",
            "Epoch[1/20](20/129) || training loss 0.4057 || lr [1.862645149230957e-13]\n",
            "Epoch[1/20](30/129) || training loss 0.4414 || lr [4.656612873077393e-14]\n",
            "Epoch[1/20](40/129) || training loss 0.4586 || lr [1.1641532182693482e-14]\n",
            "Epoch[1/20](50/129) || training loss 0.4282 || lr [2.9103830456733705e-15]\n",
            "Epoch[1/20](60/129) || training loss 0.4397 || lr [7.275957614183426e-16]\n",
            "Epoch[1/20](70/129) || training loss 0.3933 || lr [1.8189894035458566e-16]\n",
            "Epoch[1/20](80/129) || training loss 0.404 || lr [4.5474735088646414e-17]\n",
            "Epoch[1/20](90/129) || training loss 0.469 || lr [1.1368683772161604e-17]\n",
            "Epoch[1/20](100/129) || training loss 0.5431 || lr [2.842170943040401e-18]\n",
            "Epoch[1/20](110/129) || training loss 0.4452 || lr [7.105427357601002e-19]\n",
            "Epoch[1/20](120/129) || training loss 0.4529 || lr [1.7763568394002505e-19]\n",
            "Epoch[2/20](10/129) || training loss 0.2568 || lr [1.1102230246251566e-20]\n",
            "Epoch[2/20](20/129) || training loss 0.4057 || lr [2.7755575615628915e-21]\n",
            "Epoch[2/20](30/129) || training loss 0.4414 || lr [6.938893903907229e-22]\n",
            "Epoch[2/20](40/129) || training loss 0.4586 || lr [1.7347234759768072e-22]\n",
            "Epoch[2/20](50/129) || training loss 0.4282 || lr [4.336808689942018e-23]\n",
            "Epoch[2/20](60/129) || training loss 0.4397 || lr [1.0842021724855045e-23]\n",
            "Epoch[2/20](70/129) || training loss 0.3933 || lr [2.7105054312137612e-24]\n",
            "Epoch[2/20](80/129) || training loss 0.404 || lr [6.776263578034403e-25]\n",
            "Epoch[2/20](90/129) || training loss 0.469 || lr [1.6940658945086008e-25]\n",
            "Epoch[2/20](100/129) || training loss 0.5431 || lr [4.235164736271502e-26]\n",
            "Epoch[2/20](110/129) || training loss 0.4452 || lr [1.0587911840678755e-26]\n",
            "Epoch[2/20](120/129) || training loss 0.4529 || lr [2.6469779601696887e-27]\n",
            "Epoch[3/20](10/129) || training loss 0.2568 || lr [1.6543612251060554e-28]\n",
            "Epoch[3/20](20/129) || training loss 0.4057 || lr [4.1359030627651386e-29]\n",
            "Epoch[3/20](30/129) || training loss 0.4414 || lr [1.0339757656912846e-29]\n",
            "Epoch[3/20](40/129) || training loss 0.4586 || lr [2.5849394142282116e-30]\n",
            "Epoch[3/20](50/129) || training loss 0.4282 || lr [6.462348535570529e-31]\n",
            "Epoch[3/20](60/129) || training loss 0.4397 || lr [1.6155871338926323e-31]\n",
            "Epoch[3/20](70/129) || training loss 0.3933 || lr [4.0389678347315806e-32]\n",
            "Epoch[3/20](80/129) || training loss 0.404 || lr [1.0097419586828952e-32]\n",
            "Epoch[3/20](90/129) || training loss 0.469 || lr [2.524354896707238e-33]\n",
            "Epoch[3/20](100/129) || training loss 0.5431 || lr [6.310887241768095e-34]\n",
            "Epoch[3/20](110/129) || training loss 0.4452 || lr [1.5777218104420237e-34]\n",
            "Epoch[3/20](120/129) || training loss 0.4529 || lr [3.944304526105059e-35]\n",
            "Epoch[4/20](10/129) || training loss 0.2568 || lr [2.465190328815662e-36]\n",
            "Epoch[4/20](20/129) || training loss 0.4057 || lr [6.162975822039155e-37]\n",
            "Epoch[4/20](30/129) || training loss 0.4414 || lr [1.5407439555097888e-37]\n",
            "Epoch[4/20](40/129) || training loss 0.4586 || lr [3.851859888774472e-38]\n",
            "Epoch[4/20](50/129) || training loss 0.4282 || lr [9.62964972193618e-39]\n",
            "Epoch[4/20](60/129) || training loss 0.4397 || lr [2.407412430484045e-39]\n",
            "Epoch[4/20](70/129) || training loss 0.3933 || lr [6.018531076210112e-40]\n",
            "Epoch[4/20](80/129) || training loss 0.404 || lr [1.504632769052528e-40]\n",
            "Epoch[4/20](90/129) || training loss 0.469 || lr [3.76158192263132e-41]\n",
            "Epoch[4/20](100/129) || training loss 0.5431 || lr [9.4039548065783e-42]\n",
            "Epoch[4/20](110/129) || training loss 0.4452 || lr [2.350988701644575e-42]\n",
            "Epoch[4/20](120/129) || training loss 0.4529 || lr [5.877471754111438e-43]\n",
            "Epoch[5/20](10/129) || training loss 0.2568 || lr [7.346839692639297e-44]\n",
            "Epoch[5/20](20/129) || training loss 0.4057 || lr [1.8367099231598243e-44]\n",
            "Epoch[5/20](30/129) || training loss 0.4414 || lr [4.591774807899561e-45]\n",
            "Epoch[5/20](40/129) || training loss 0.4586 || lr [1.1479437019748902e-45]\n",
            "Epoch[5/20](50/129) || training loss 0.4282 || lr [2.8698592549372255e-46]\n",
            "Epoch[5/20](60/129) || training loss 0.4397 || lr [7.174648137343064e-47]\n",
            "Epoch[5/20](70/129) || training loss 0.3933 || lr [1.793662034335766e-47]\n",
            "Epoch[5/20](80/129) || training loss 0.404 || lr [4.484155085839415e-48]\n",
            "Epoch[5/20](90/129) || training loss 0.469 || lr [1.1210387714598537e-48]\n",
            "Epoch[5/20](100/129) || training loss 0.5431 || lr [2.8025969286496343e-49]\n",
            "Epoch[5/20](110/129) || training loss 0.4452 || lr [7.006492321624086e-50]\n",
            "Epoch[5/20](120/129) || training loss 0.4529 || lr [1.7516230804060214e-50]\n",
            "Epoch[6/20](10/129) || training loss 0.2568 || lr [1.0947644252537634e-51]\n",
            "Epoch[6/20](20/129) || training loss 0.4057 || lr [2.7369110631344085e-52]\n",
            "Epoch[6/20](30/129) || training loss 0.4414 || lr [6.842277657836021e-53]\n",
            "Epoch[6/20](40/129) || training loss 0.4586 || lr [1.7105694144590053e-53]\n",
            "Epoch[6/20](50/129) || training loss 0.4282 || lr [4.276423536147513e-54]\n",
            "Epoch[6/20](60/129) || training loss 0.4397 || lr [1.0691058840368783e-54]\n",
            "Epoch[6/20](70/129) || training loss 0.3933 || lr [2.6727647100921958e-55]\n",
            "Epoch[6/20](80/129) || training loss 0.404 || lr [6.681911775230489e-56]\n",
            "Epoch[6/20](90/129) || training loss 0.469 || lr [1.6704779438076224e-56]\n",
            "Epoch[6/20](100/129) || training loss 0.5431 || lr [4.176194859519056e-57]\n",
            "Epoch[6/20](110/129) || training loss 0.4452 || lr [1.044048714879764e-57]\n",
            "Epoch[6/20](120/129) || training loss 0.4529 || lr [2.61012178719941e-58]\n",
            "Epoch[7/20](10/129) || training loss 0.2568 || lr [1.6313261169996312e-59]\n",
            "Epoch[7/20](20/129) || training loss 0.4057 || lr [4.078315292499078e-60]\n",
            "Epoch[7/20](30/129) || training loss 0.4414 || lr [1.0195788231247695e-60]\n",
            "Epoch[7/20](40/129) || training loss 0.4586 || lr [2.5489470578119238e-61]\n",
            "Epoch[7/20](50/129) || training loss 0.4282 || lr [6.372367644529809e-62]\n",
            "Epoch[7/20](60/129) || training loss 0.4397 || lr [1.5930919111324524e-62]\n",
            "Epoch[7/20](70/129) || training loss 0.3933 || lr [3.982729777831131e-63]\n",
            "Epoch[7/20](80/129) || training loss 0.404 || lr [9.956824444577827e-64]\n",
            "Epoch[7/20](90/129) || training loss 0.469 || lr [2.4892061111444568e-64]\n",
            "Epoch[7/20](100/129) || training loss 0.5431 || lr [6.223015277861142e-65]\n",
            "Epoch[7/20](110/129) || training loss 0.4452 || lr [1.5557538194652855e-65]\n",
            "Epoch[7/20](120/129) || training loss 0.4529 || lr [3.889384548663214e-66]\n",
            "Epoch[8/20](10/129) || training loss 0.2568 || lr [2.4308653429145086e-67]\n",
            "Epoch[8/20](20/129) || training loss 0.4057 || lr [6.0771633572862715e-68]\n",
            "Epoch[8/20](30/129) || training loss 0.4414 || lr [1.5192908393215679e-68]\n",
            "Epoch[8/20](40/129) || training loss 0.4586 || lr [3.7982270983039197e-69]\n",
            "Epoch[8/20](50/129) || training loss 0.4282 || lr [9.495567745759799e-70]\n",
            "Epoch[8/20](60/129) || training loss 0.4397 || lr [2.3738919364399498e-70]\n",
            "Epoch[8/20](70/129) || training loss 0.3933 || lr [5.9347298410998745e-71]\n",
            "Epoch[8/20](80/129) || training loss 0.404 || lr [1.4836824602749686e-71]\n",
            "Epoch[8/20](90/129) || training loss 0.469 || lr [3.7092061506874216e-72]\n",
            "Epoch[8/20](100/129) || training loss 0.5431 || lr [9.273015376718554e-73]\n",
            "Epoch[8/20](110/129) || training loss 0.4452 || lr [2.3182538441796385e-73]\n",
            "Epoch[8/20](120/129) || training loss 0.4529 || lr [5.795634610449096e-74]\n",
            "Epoch[9/20](10/129) || training loss 0.2568 || lr [3.622271631530685e-75]\n",
            "Epoch[9/20](20/129) || training loss 0.4057 || lr [9.055679078826713e-76]\n",
            "Epoch[9/20](30/129) || training loss 0.4414 || lr [2.2639197697066782e-76]\n",
            "Epoch[9/20](40/129) || training loss 0.4586 || lr [5.6597994242666955e-77]\n",
            "Epoch[9/20](50/129) || training loss 0.4282 || lr [1.4149498560666739e-77]\n",
            "Epoch[9/20](60/129) || training loss 0.4397 || lr [3.5373746401666847e-78]\n",
            "Epoch[9/20](70/129) || training loss 0.3933 || lr [8.843436600416712e-79]\n",
            "Epoch[9/20](80/129) || training loss 0.404 || lr [2.210859150104178e-79]\n",
            "Epoch[9/20](90/129) || training loss 0.469 || lr [5.527147875260445e-80]\n",
            "Epoch[9/20](100/129) || training loss 0.5431 || lr [1.3817869688151112e-80]\n",
            "Epoch[9/20](110/129) || training loss 0.4452 || lr [3.454467422037778e-81]\n",
            "Epoch[9/20](120/129) || training loss 0.4529 || lr [8.636168555094445e-82]\n",
            "Epoch[10/20](10/129) || training loss 0.2568 || lr [1.0795210693868056e-82]\n",
            "Epoch[10/20](20/129) || training loss 0.4057 || lr [2.698802673467014e-83]\n",
            "Epoch[10/20](30/129) || training loss 0.4414 || lr [6.747006683667535e-84]\n",
            "Epoch[10/20](40/129) || training loss 0.4586 || lr [1.6867516709168838e-84]\n",
            "Epoch[10/20](50/129) || training loss 0.4282 || lr [4.2168791772922095e-85]\n",
            "Epoch[10/20](60/129) || training loss 0.4397 || lr [1.0542197943230524e-85]\n",
            "Epoch[10/20](70/129) || training loss 0.3933 || lr [2.635549485807631e-86]\n",
            "Epoch[10/20](80/129) || training loss 0.404 || lr [6.588873714519077e-87]\n",
            "Epoch[10/20](90/129) || training loss 0.469 || lr [1.6472184286297693e-87]\n",
            "Epoch[10/20](100/129) || training loss 0.5431 || lr [4.1180460715744233e-88]\n",
            "Epoch[10/20](110/129) || training loss 0.4452 || lr [1.0295115178936058e-88]\n",
            "Epoch[10/20](120/129) || training loss 0.4529 || lr [2.5737787947340146e-89]\n",
            "Epoch[11/20](10/129) || training loss 0.2568 || lr [1.6086117467087591e-90]\n",
            "Epoch[11/20](20/129) || training loss 0.4057 || lr [4.021529366771898e-91]\n",
            "Epoch[11/20](30/129) || training loss 0.4414 || lr [1.0053823416929744e-91]\n",
            "Epoch[11/20](40/129) || training loss 0.4586 || lr [2.513455854232436e-92]\n",
            "Epoch[11/20](50/129) || training loss 0.4282 || lr [6.28363963558109e-93]\n",
            "Epoch[11/20](60/129) || training loss 0.4397 || lr [1.5709099088952726e-93]\n",
            "Epoch[11/20](70/129) || training loss 0.3933 || lr [3.9272747722381814e-94]\n",
            "Epoch[11/20](80/129) || training loss 0.404 || lr [9.818186930595454e-95]\n",
            "Epoch[11/20](90/129) || training loss 0.469 || lr [2.4545467326488634e-95]\n",
            "Epoch[11/20](100/129) || training loss 0.5431 || lr [6.1363668316221585e-96]\n",
            "Epoch[11/20](110/129) || training loss 0.4452 || lr [1.5340917079055396e-96]\n",
            "Epoch[11/20](120/129) || training loss 0.4529 || lr [3.835229269763849e-97]\n",
            "Epoch[12/20](10/129) || training loss 0.2568 || lr [2.3970182936024057e-98]\n",
            "Epoch[12/20](20/129) || training loss 0.4057 || lr [5.992545734006014e-99]\n",
            "Epoch[12/20](30/129) || training loss 0.4414 || lr [1.4981364335015035e-99]\n",
            "Epoch[12/20](40/129) || training loss 0.4586 || lr [3.745341083753759e-100]\n",
            "Epoch[12/20](50/129) || training loss 0.4282 || lr [9.363352709384397e-101]\n",
            "Epoch[12/20](60/129) || training loss 0.4397 || lr [2.3408381773460993e-101]\n",
            "Epoch[12/20](70/129) || training loss 0.3933 || lr [5.852095443365248e-102]\n",
            "Epoch[12/20](80/129) || training loss 0.404 || lr [1.463023860841312e-102]\n",
            "Epoch[12/20](90/129) || training loss 0.469 || lr [3.65755965210328e-103]\n",
            "Epoch[12/20](100/129) || training loss 0.5431 || lr [9.1438991302582e-104]\n",
            "Epoch[12/20](110/129) || training loss 0.4452 || lr [2.28597478256455e-104]\n",
            "Epoch[12/20](120/129) || training loss 0.4529 || lr [5.714936956411375e-105]\n",
            "Epoch[13/20](10/129) || training loss 0.2568 || lr [3.5718355977571095e-106]\n",
            "Epoch[13/20](20/129) || training loss 0.4057 || lr [8.929588994392774e-107]\n",
            "Epoch[13/20](30/129) || training loss 0.4414 || lr [2.2323972485981934e-107]\n",
            "Epoch[13/20](40/129) || training loss 0.4586 || lr [5.5809931214954836e-108]\n",
            "Epoch[13/20](50/129) || training loss 0.4282 || lr [1.3952482803738709e-108]\n",
            "Epoch[13/20](60/129) || training loss 0.4397 || lr [3.4881207009346772e-109]\n",
            "Epoch[13/20](70/129) || training loss 0.3933 || lr [8.720301752336693e-110]\n",
            "Epoch[13/20](80/129) || training loss 0.404 || lr [2.1800754380841733e-110]\n",
            "Epoch[13/20](90/129) || training loss 0.469 || lr [5.450188595210433e-111]\n",
            "Epoch[13/20](100/129) || training loss 0.5431 || lr [1.3625471488026083e-111]\n",
            "Epoch[13/20](110/129) || training loss 0.4452 || lr [3.4063678720065207e-112]\n",
            "Epoch[13/20](120/129) || training loss 0.4529 || lr [8.515919680016302e-113]\n",
            "Epoch[14/20](10/129) || training loss 0.2568 || lr [5.322449800010189e-114]\n",
            "Epoch[14/20](20/129) || training loss 0.4057 || lr [1.3306124500025472e-114]\n",
            "Epoch[14/20](30/129) || training loss 0.4414 || lr [3.326531125006368e-115]\n",
            "Epoch[14/20](40/129) || training loss 0.4586 || lr [8.31632781251592e-116]\n",
            "Epoch[14/20](50/129) || training loss 0.4282 || lr [2.07908195312898e-116]\n",
            "Epoch[14/20](60/129) || training loss 0.4397 || lr [5.19770488282245e-117]\n",
            "Epoch[14/20](70/129) || training loss 0.3933 || lr [1.2994262207056125e-117]\n",
            "Epoch[14/20](80/129) || training loss 0.404 || lr [3.248565551764031e-118]\n",
            "Epoch[14/20](90/129) || training loss 0.469 || lr [8.121413879410078e-119]\n",
            "Epoch[14/20](100/129) || training loss 0.5431 || lr [2.0303534698525195e-119]\n",
            "Epoch[14/20](110/129) || training loss 0.4452 || lr [5.075883674631299e-120]\n",
            "Epoch[14/20](120/129) || training loss 0.4529 || lr [1.2689709186578247e-120]\n",
            "Epoch[15/20](10/129) || training loss 0.2568 || lr [1.5862136483222808e-121]\n",
            "Epoch[15/20](20/129) || training loss 0.4057 || lr [3.965534120805702e-122]\n",
            "Epoch[15/20](30/129) || training loss 0.4414 || lr [9.913835302014255e-123]\n",
            "Epoch[15/20](40/129) || training loss 0.4586 || lr [2.4784588255035638e-123]\n",
            "Epoch[15/20](50/129) || training loss 0.4282 || lr [6.1961470637589095e-124]\n",
            "Epoch[15/20](60/129) || training loss 0.4397 || lr [1.5490367659397274e-124]\n",
            "Epoch[15/20](70/129) || training loss 0.3933 || lr [3.8725919148493185e-125]\n",
            "Epoch[15/20](80/129) || training loss 0.404 || lr [9.681479787123296e-126]\n",
            "Epoch[15/20](90/129) || training loss 0.469 || lr [2.420369946780824e-126]\n",
            "Epoch[15/20](100/129) || training loss 0.5431 || lr [6.05092486695206e-127]\n",
            "Epoch[15/20](110/129) || training loss 0.4452 || lr [1.512731216738015e-127]\n",
            "Epoch[15/20](120/129) || training loss 0.4529 || lr [3.7818280418450376e-128]\n",
            "Epoch[16/20](10/129) || training loss 0.2568 || lr [2.3636425261531485e-129]\n",
            "Epoch[16/20](20/129) || training loss 0.4057 || lr [5.909106315382871e-130]\n",
            "Epoch[16/20](30/129) || training loss 0.4414 || lr [1.4772765788457178e-130]\n",
            "Epoch[16/20](40/129) || training loss 0.4586 || lr [3.6931914471142945e-131]\n",
            "Epoch[16/20](50/129) || training loss 0.4282 || lr [9.232978617785736e-132]\n",
            "Epoch[16/20](60/129) || training loss 0.4397 || lr [2.308244654446434e-132]\n",
            "Epoch[16/20](70/129) || training loss 0.3933 || lr [5.770611636116085e-133]\n",
            "Epoch[16/20](80/129) || training loss 0.404 || lr [1.4426529090290213e-133]\n",
            "Epoch[16/20](90/129) || training loss 0.469 || lr [3.606632272572553e-134]\n",
            "Epoch[16/20](100/129) || training loss 0.5431 || lr [9.016580681431383e-135]\n",
            "Epoch[16/20](110/129) || training loss 0.4452 || lr [2.2541451703578458e-135]\n",
            "Epoch[16/20](120/129) || training loss 0.4529 || lr [5.6353629258946144e-136]\n",
            "Epoch[17/20](10/129) || training loss 0.2568 || lr [3.522101828684134e-137]\n",
            "Epoch[17/20](20/129) || training loss 0.4057 || lr [8.805254571710335e-138]\n",
            "Epoch[17/20](30/129) || training loss 0.4414 || lr [2.2013136429275837e-138]\n",
            "Epoch[17/20](40/129) || training loss 0.4586 || lr [5.503284107318959e-139]\n",
            "Epoch[17/20](50/129) || training loss 0.4282 || lr [1.3758210268297398e-139]\n",
            "Epoch[17/20](60/129) || training loss 0.4397 || lr [3.4395525670743496e-140]\n",
            "Epoch[17/20](70/129) || training loss 0.3933 || lr [8.598881417685874e-141]\n",
            "Epoch[17/20](80/129) || training loss 0.404 || lr [2.1497203544214685e-141]\n",
            "Epoch[17/20](90/129) || training loss 0.469 || lr [5.374300886053671e-142]\n",
            "Epoch[17/20](100/129) || training loss 0.5431 || lr [1.3435752215134178e-142]\n",
            "Epoch[17/20](110/129) || training loss 0.4452 || lr [3.3589380537835445e-143]\n",
            "Epoch[17/20](120/129) || training loss 0.4529 || lr [8.397345134458861e-144]\n",
            "Epoch[18/20](10/129) || training loss 0.2568 || lr [5.248340709036788e-145]\n",
            "Epoch[18/20](20/129) || training loss 0.4057 || lr [1.312085177259197e-145]\n",
            "Epoch[18/20](30/129) || training loss 0.4414 || lr [3.2802129431479927e-146]\n",
            "Epoch[18/20](40/129) || training loss 0.4586 || lr [8.200532357869982e-147]\n",
            "Epoch[18/20](50/129) || training loss 0.4282 || lr [2.0501330894674954e-147]\n",
            "Epoch[18/20](60/129) || training loss 0.4397 || lr [5.1253327236687386e-148]\n",
            "Epoch[18/20](70/129) || training loss 0.3933 || lr [1.2813331809171847e-148]\n",
            "Epoch[18/20](80/129) || training loss 0.404 || lr [3.2033329522929616e-149]\n",
            "Epoch[18/20](90/129) || training loss 0.469 || lr [8.008332380732404e-150]\n",
            "Epoch[18/20](100/129) || training loss 0.5431 || lr [2.002083095183101e-150]\n",
            "Epoch[18/20](110/129) || training loss 0.4452 || lr [5.0052077379577526e-151]\n",
            "Epoch[18/20](120/129) || training loss 0.4529 || lr [1.2513019344894381e-151]\n",
            "Epoch[19/20](10/129) || training loss 0.2568 || lr [7.820637090558988e-153]\n",
            "Epoch[19/20](20/129) || training loss 0.4057 || lr [1.955159272639747e-153]\n",
            "Epoch[19/20](30/129) || training loss 0.4414 || lr [4.887898181599368e-154]\n",
            "Epoch[19/20](40/129) || training loss 0.4586 || lr [1.221974545399842e-154]\n",
            "Epoch[19/20](50/129) || training loss 0.4282 || lr [3.054936363499605e-155]\n",
            "Epoch[19/20](60/129) || training loss 0.4397 || lr [7.637340908749012e-156]\n",
            "Epoch[19/20](70/129) || training loss 0.3933 || lr [1.909335227187253e-156]\n",
            "Epoch[19/20](80/129) || training loss 0.404 || lr [4.7733380679681325e-157]\n",
            "Epoch[19/20](90/129) || training loss 0.469 || lr [1.1933345169920331e-157]\n",
            "Epoch[19/20](100/129) || training loss 0.5431 || lr [2.983336292480083e-158]\n",
            "Epoch[19/20](110/129) || training loss 0.4452 || lr [7.458340731200207e-159]\n",
            "Epoch[19/20](120/129) || training loss 0.4529 || lr [1.8645851828000518e-159]\n"
          ],
          "name": "stdout"
        }
      ]
    },
    {
      "cell_type": "code",
      "metadata": {
        "id": "QrqSafrzn7M1"
      },
      "source": [
        ""
      ],
      "execution_count": null,
      "outputs": []
    }
  ]
}