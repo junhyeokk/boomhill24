{
  "nbformat": 4,
  "nbformat_minor": 0,
  "metadata": {
    "colab": {
      "name": "baseline-model-training2",
      "provenance": [],
      "collapsed_sections": []
    },
    "kernelspec": {
      "name": "python3",
      "display_name": "Python 3"
    },
    "language_info": {
      "name": "python"
    },
    "accelerator": "GPU",
    "widgets": {
      "application/vnd.jupyter.widget-state+json": {
        "1823a97c5d244ecaa8412a30da2ad0a6": {
          "model_module": "@jupyter-widgets/controls",
          "model_name": "HBoxModel",
          "state": {
            "_view_name": "HBoxView",
            "_dom_classes": [],
            "_model_name": "HBoxModel",
            "_view_module": "@jupyter-widgets/controls",
            "_model_module_version": "1.5.0",
            "_view_count": null,
            "_view_module_version": "1.5.0",
            "box_style": "",
            "layout": "IPY_MODEL_d185b52cca084f6292bac7ec168242ba",
            "_model_module": "@jupyter-widgets/controls",
            "children": [
              "IPY_MODEL_d82032c7353c469bbc57b9de29224d76",
              "IPY_MODEL_ed6fb1a661a14fdf8c8c947c54c671ef"
            ]
          }
        },
        "d185b52cca084f6292bac7ec168242ba": {
          "model_module": "@jupyter-widgets/base",
          "model_name": "LayoutModel",
          "state": {
            "_view_name": "LayoutView",
            "grid_template_rows": null,
            "right": null,
            "justify_content": null,
            "_view_module": "@jupyter-widgets/base",
            "overflow": null,
            "_model_module_version": "1.2.0",
            "_view_count": null,
            "flex_flow": null,
            "width": null,
            "min_width": null,
            "border": null,
            "align_items": null,
            "bottom": null,
            "_model_module": "@jupyter-widgets/base",
            "top": null,
            "grid_column": null,
            "overflow_y": null,
            "overflow_x": null,
            "grid_auto_flow": null,
            "grid_area": null,
            "grid_template_columns": null,
            "flex": null,
            "_model_name": "LayoutModel",
            "justify_items": null,
            "grid_row": null,
            "max_height": null,
            "align_content": null,
            "visibility": null,
            "align_self": null,
            "height": null,
            "min_height": null,
            "padding": null,
            "grid_auto_rows": null,
            "grid_gap": null,
            "max_width": null,
            "order": null,
            "_view_module_version": "1.2.0",
            "grid_template_areas": null,
            "object_position": null,
            "object_fit": null,
            "grid_auto_columns": null,
            "margin": null,
            "display": null,
            "left": null
          }
        },
        "d82032c7353c469bbc57b9de29224d76": {
          "model_module": "@jupyter-widgets/controls",
          "model_name": "FloatProgressModel",
          "state": {
            "_view_name": "ProgressView",
            "style": "IPY_MODEL_ec2a736955da4a818f8a27a82977d403",
            "_dom_classes": [],
            "description": "100%",
            "_model_name": "FloatProgressModel",
            "bar_style": "success",
            "max": 102530333,
            "_view_module": "@jupyter-widgets/controls",
            "_model_module_version": "1.5.0",
            "value": 102530333,
            "_view_count": null,
            "_view_module_version": "1.5.0",
            "orientation": "horizontal",
            "min": 0,
            "description_tooltip": null,
            "_model_module": "@jupyter-widgets/controls",
            "layout": "IPY_MODEL_0193114fc54d403a92357072c1f441a0"
          }
        },
        "ed6fb1a661a14fdf8c8c947c54c671ef": {
          "model_module": "@jupyter-widgets/controls",
          "model_name": "HTMLModel",
          "state": {
            "_view_name": "HTMLView",
            "style": "IPY_MODEL_c79b932bfbf94bebad84942523448015",
            "_dom_classes": [],
            "description": "",
            "_model_name": "HTMLModel",
            "placeholder": "​",
            "_view_module": "@jupyter-widgets/controls",
            "_model_module_version": "1.5.0",
            "value": " 97.8M/97.8M [00:29&lt;00:00, 3.45MB/s]",
            "_view_count": null,
            "_view_module_version": "1.5.0",
            "description_tooltip": null,
            "_model_module": "@jupyter-widgets/controls",
            "layout": "IPY_MODEL_59a693a6e6c24df19864f525c649203f"
          }
        },
        "ec2a736955da4a818f8a27a82977d403": {
          "model_module": "@jupyter-widgets/controls",
          "model_name": "ProgressStyleModel",
          "state": {
            "_view_name": "StyleView",
            "_model_name": "ProgressStyleModel",
            "description_width": "initial",
            "_view_module": "@jupyter-widgets/base",
            "_model_module_version": "1.5.0",
            "_view_count": null,
            "_view_module_version": "1.2.0",
            "bar_color": null,
            "_model_module": "@jupyter-widgets/controls"
          }
        },
        "0193114fc54d403a92357072c1f441a0": {
          "model_module": "@jupyter-widgets/base",
          "model_name": "LayoutModel",
          "state": {
            "_view_name": "LayoutView",
            "grid_template_rows": null,
            "right": null,
            "justify_content": null,
            "_view_module": "@jupyter-widgets/base",
            "overflow": null,
            "_model_module_version": "1.2.0",
            "_view_count": null,
            "flex_flow": null,
            "width": null,
            "min_width": null,
            "border": null,
            "align_items": null,
            "bottom": null,
            "_model_module": "@jupyter-widgets/base",
            "top": null,
            "grid_column": null,
            "overflow_y": null,
            "overflow_x": null,
            "grid_auto_flow": null,
            "grid_area": null,
            "grid_template_columns": null,
            "flex": null,
            "_model_name": "LayoutModel",
            "justify_items": null,
            "grid_row": null,
            "max_height": null,
            "align_content": null,
            "visibility": null,
            "align_self": null,
            "height": null,
            "min_height": null,
            "padding": null,
            "grid_auto_rows": null,
            "grid_gap": null,
            "max_width": null,
            "order": null,
            "_view_module_version": "1.2.0",
            "grid_template_areas": null,
            "object_position": null,
            "object_fit": null,
            "grid_auto_columns": null,
            "margin": null,
            "display": null,
            "left": null
          }
        },
        "c79b932bfbf94bebad84942523448015": {
          "model_module": "@jupyter-widgets/controls",
          "model_name": "DescriptionStyleModel",
          "state": {
            "_view_name": "StyleView",
            "_model_name": "DescriptionStyleModel",
            "description_width": "",
            "_view_module": "@jupyter-widgets/base",
            "_model_module_version": "1.5.0",
            "_view_count": null,
            "_view_module_version": "1.2.0",
            "_model_module": "@jupyter-widgets/controls"
          }
        },
        "59a693a6e6c24df19864f525c649203f": {
          "model_module": "@jupyter-widgets/base",
          "model_name": "LayoutModel",
          "state": {
            "_view_name": "LayoutView",
            "grid_template_rows": null,
            "right": null,
            "justify_content": null,
            "_view_module": "@jupyter-widgets/base",
            "overflow": null,
            "_model_module_version": "1.2.0",
            "_view_count": null,
            "flex_flow": null,
            "width": null,
            "min_width": null,
            "border": null,
            "align_items": null,
            "bottom": null,
            "_model_module": "@jupyter-widgets/base",
            "top": null,
            "grid_column": null,
            "overflow_y": null,
            "overflow_x": null,
            "grid_auto_flow": null,
            "grid_area": null,
            "grid_template_columns": null,
            "flex": null,
            "_model_name": "LayoutModel",
            "justify_items": null,
            "grid_row": null,
            "max_height": null,
            "align_content": null,
            "visibility": null,
            "align_self": null,
            "height": null,
            "min_height": null,
            "padding": null,
            "grid_auto_rows": null,
            "grid_gap": null,
            "max_width": null,
            "order": null,
            "_view_module_version": "1.2.0",
            "grid_template_areas": null,
            "object_position": null,
            "object_fit": null,
            "grid_auto_columns": null,
            "margin": null,
            "display": null,
            "left": null
          }
        }
      }
    }
  },
  "cells": [
    {
      "cell_type": "code",
      "metadata": {
        "colab": {
          "base_uri": "https://localhost:8080/"
        },
        "id": "_nG8cgSvr3Iw",
        "outputId": "56113740-d814-45f9-bbf6-1deb07b6ccd7"
      },
      "source": [
        "from google.colab import drive\n",
        "drive.mount('/content/gdrive/')"
      ],
      "execution_count": 1,
      "outputs": [
        {
          "output_type": "stream",
          "text": [
            "Mounted at /content/gdrive/\n"
          ],
          "name": "stdout"
        }
      ]
    },
    {
      "cell_type": "code",
      "metadata": {
        "id": "PssSplM2wemG"
      },
      "source": [
        "import os\n",
        "import csv\n",
        "import random\n",
        "import numpy as np\n",
        "from PIL import Image as PIL_Image\n",
        "\n",
        "import torch\n",
        "import torch.nn as nn\n",
        "import torch.optim as optim\n",
        "import torch.nn.functional as F\n",
        "import torch.utils.data as data\n",
        "from torch.optim.lr_scheduler import StepLR\n",
        "\n",
        "from torchvision import transforms\n",
        "from torchvision.models import resnet50"
      ],
      "execution_count": 2,
      "outputs": []
    },
    {
      "cell_type": "markdown",
      "metadata": {
        "id": "7NWq3tjAdRZl"
      },
      "source": [
        "# 랜덤 시드 고정"
      ]
    },
    {
      "cell_type": "code",
      "metadata": {
        "id": "L8zWtPW8JY5O"
      },
      "source": [
        "seed = 365\n",
        "\n",
        "os.environ['PYTHONHASHSEED'] = str(seed)\n",
        "random.seed(seed)\n",
        "np.random.seed(seed)\n",
        "torch.manual_seed(seed)    \n",
        "torch.cuda.manual_seed(seed)\n",
        "torch.backends.cudnn.deterministic = True"
      ],
      "execution_count": 3,
      "outputs": []
    },
    {
      "cell_type": "code",
      "metadata": {
        "id": "IbCoXUpEs3tm"
      },
      "source": [
        "drivepath = \"/content/gdrive/MyDrive\""
      ],
      "execution_count": 4,
      "outputs": []
    },
    {
      "cell_type": "markdown",
      "metadata": {
        "id": "2Bs7yOD-dYuP"
      },
      "source": [
        "# 모델과 그에 맞는 데이터셋 설정\n",
        "\n",
        "기존의 Convolution layer에 더해서 이후 fc layer에 이전 n개의 입력을 추가하여 고려해서 다음 키 입력을 예측할 수 있도록 설계하였습니다."
      ]
    },
    {
      "cell_type": "code",
      "metadata": {
        "id": "PSMg8huoo4xa"
      },
      "source": [
        "window_size = 50      # 이전의 입력을 몇개까지 볼 것인가"
      ],
      "execution_count": 5,
      "outputs": []
    },
    {
      "cell_type": "code",
      "metadata": {
        "id": "tmc26h6VoJyU"
      },
      "source": [
        "class KartModel2(nn.Module):\n",
        "  def __init__(self, class_num = 6):\n",
        "    super(KartModel2, self).__init__()\n",
        "    self.class_num = class_num\n",
        "    self.backbone = resnet50(pretrained=True)\n",
        "    self.backbone.fc = nn.Sequential(\n",
        "      nn.Linear(in_features=2048, out_features=1000, bias=True),\n",
        "    )\n",
        "    self.fc_include_past_inputs = nn.Sequential(\n",
        "        nn.Linear(in_features=1000+6*window_size, out_features=class_num, bias=True),\n",
        "        nn.Sigmoid(),\n",
        "    )\n",
        "  \n",
        "  def forward(self, input_image, past_inputs_10):\n",
        "    out = self.backbone(input_image)\n",
        "    out = self.fc_include_past_inputs(torch.cat((out, past_inputs_10), dim=1))\n",
        "    return out"
      ],
      "execution_count": 6,
      "outputs": []
    },
    {
      "cell_type": "code",
      "metadata": {
        "id": "ITBTnuR9oOUt"
      },
      "source": [
        "class KartDataSet2(data.Dataset):\n",
        "  def __init__(self, csv_file):\n",
        "    self.images = []\n",
        "    self.labels = []\n",
        "\n",
        "    with open(csv_file) as csvfile:\n",
        "      csv_reader = csv.reader(csvfile)\n",
        "      next(csv_reader, None)        # 첫번째 row 스킵\n",
        "      \n",
        "      for row in csv_reader:\n",
        "        self.images.append(drivepath + '/' + row[0])\n",
        "        self.labels.append([int(x) for x in list(row[1])])\n",
        "\n",
        "  def __getitem__(self, index):\n",
        "    image_path = self.images[index]\n",
        "    image = PIL_Image.open(image_path)\n",
        "\n",
        "    past_labels = []\n",
        "    if index < window_size:\n",
        "      for _ in range(window_size):\n",
        "        past_labels += [0.0, 0.0, 0.0, 0.0, 0.0, 0.0]\n",
        "    else:\n",
        "      for i in range(index - window_size, index):\n",
        "        past_labels += self.labels[i]\n",
        "    \n",
        "    label = self.labels[index]\n",
        "\n",
        "    preprocess = transforms.Compose([\n",
        "      transforms.Resize((224, 224)),\n",
        "      transforms.ToTensor(),\n",
        "      transforms.Normalize((0.5, 0.5, 0.5), (0.5, 0.5, 0.5)),     # -1 ~ 1 로 normalize\n",
        "    ])\n",
        "    \n",
        "    return preprocess(image), torch.Tensor(past_labels), torch.Tensor(label)\n",
        "\n",
        "  def __len__(self):\n",
        "    return len(self.images)"
      ],
      "execution_count": 7,
      "outputs": []
    },
    {
      "cell_type": "code",
      "metadata": {
        "colab": {
          "base_uri": "https://localhost:8080/"
        },
        "id": "Jsv0biYQq_0l",
        "outputId": "dea5dcbe-6565-4ccb-f1be-e02cb01f2375"
      },
      "source": [
        "dataset = KartDataSet2(drivepath + \"/csv/kart_test.mp4.csv\")\n",
        "print(dataset[0][0])\n",
        "print(dataset[0][1])\n",
        "print(dataset[0][2])"
      ],
      "execution_count": 8,
      "outputs": [
        {
          "output_type": "stream",
          "text": [
            "tensor([[[-0.8902, -0.8902, -0.8824,  ..., -0.8824, -0.9529, -0.9608],\n",
            "         [-0.8745, -0.8824, -0.8745,  ..., -0.8902, -0.9529, -0.9608],\n",
            "         [-0.8667, -0.8588, -0.8510,  ..., -0.8824, -0.9216, -0.9373],\n",
            "         ...,\n",
            "         [-0.2549, -0.2549, -0.2314,  ..., -1.0000, -1.0000, -1.0000],\n",
            "         [-0.2627, -0.2784, -0.2549,  ..., -1.0000, -1.0000, -1.0000],\n",
            "         [-0.2627, -0.2627, -0.2471,  ..., -1.0000, -1.0000, -1.0000]],\n",
            "\n",
            "        [[-0.4980, -0.4902, -0.4824,  ..., -0.8588, -0.6078, -0.5686],\n",
            "         [-0.4824, -0.4824, -0.4745,  ..., -0.8667, -0.6157, -0.5686],\n",
            "         [-0.4667, -0.4588, -0.4510,  ..., -0.8588, -0.6000, -0.5608],\n",
            "         ...,\n",
            "         [-0.7176, -0.7098, -0.7098,  ..., -1.0000, -1.0000, -1.0000],\n",
            "         [-0.7255, -0.7176, -0.7176,  ..., -1.0000, -1.0000, -1.0000],\n",
            "         [-0.7255, -0.7176, -0.7176,  ..., -1.0000, -1.0000, -1.0000]],\n",
            "\n",
            "        [[-0.0196, -0.0118,  0.0039,  ..., -0.7961, -0.1922, -0.0510],\n",
            "         [-0.0275, -0.0275, -0.0039,  ..., -0.7961, -0.2000, -0.0588],\n",
            "         [-0.0118, -0.0118,  0.0196,  ..., -0.7961, -0.2000, -0.0510],\n",
            "         ...,\n",
            "         [-0.8275, -0.8275, -0.8196,  ..., -1.0000, -1.0000, -1.0000],\n",
            "         [-0.8275, -0.8196, -0.8275,  ..., -1.0000, -1.0000, -1.0000],\n",
            "         [-0.8196, -0.8118, -0.8196,  ..., -1.0000, -1.0000, -1.0000]]])\n",
            "tensor([0., 0., 0., 0., 0., 0., 0., 0., 0., 0., 0., 0., 0., 0., 0., 0., 0., 0., 0., 0., 0., 0., 0., 0.,\n",
            "        0., 0., 0., 0., 0., 0., 0., 0., 0., 0., 0., 0., 0., 0., 0., 0., 0., 0., 0., 0., 0., 0., 0., 0.,\n",
            "        0., 0., 0., 0., 0., 0., 0., 0., 0., 0., 0., 0., 0., 0., 0., 0., 0., 0., 0., 0., 0., 0., 0., 0.,\n",
            "        0., 0., 0., 0., 0., 0., 0., 0., 0., 0., 0., 0., 0., 0., 0., 0., 0., 0., 0., 0., 0., 0., 0., 0.,\n",
            "        0., 0., 0., 0., 0., 0., 0., 0., 0., 0., 0., 0., 0., 0., 0., 0., 0., 0., 0., 0., 0., 0., 0., 0.,\n",
            "        0., 0., 0., 0., 0., 0., 0., 0., 0., 0., 0., 0., 0., 0., 0., 0., 0., 0., 0., 0., 0., 0., 0., 0.,\n",
            "        0., 0., 0., 0., 0., 0., 0., 0., 0., 0., 0., 0., 0., 0., 0., 0., 0., 0., 0., 0., 0., 0., 0., 0.,\n",
            "        0., 0., 0., 0., 0., 0., 0., 0., 0., 0., 0., 0., 0., 0., 0., 0., 0., 0., 0., 0., 0., 0., 0., 0.,\n",
            "        0., 0., 0., 0., 0., 0., 0., 0., 0., 0., 0., 0., 0., 0., 0., 0., 0., 0., 0., 0., 0., 0., 0., 0.,\n",
            "        0., 0., 0., 0., 0., 0., 0., 0., 0., 0., 0., 0., 0., 0., 0., 0., 0., 0., 0., 0., 0., 0., 0., 0.,\n",
            "        0., 0., 0., 0., 0., 0., 0., 0., 0., 0., 0., 0., 0., 0., 0., 0., 0., 0., 0., 0., 0., 0., 0., 0.,\n",
            "        0., 0., 0., 0., 0., 0., 0., 0., 0., 0., 0., 0., 0., 0., 0., 0., 0., 0., 0., 0., 0., 0., 0., 0.,\n",
            "        0., 0., 0., 0., 0., 0., 0., 0., 0., 0., 0., 0.])\n",
            "tensor([0., 0., 0., 0., 0., 0.])\n"
          ],
          "name": "stdout"
        }
      ]
    },
    {
      "cell_type": "markdown",
      "metadata": {
        "id": "bO9v0wAPdy0H"
      },
      "source": [
        "# 하이퍼 파라미터 설정"
      ]
    },
    {
      "cell_type": "code",
      "metadata": {
        "colab": {
          "base_uri": "https://localhost:8080/"
        },
        "id": "mhSINRr2RITa",
        "outputId": "7ea46e1d-1eac-49e0-8c92-c16f5f3a1870"
      },
      "source": [
        "num_epochs = 20\n",
        "lr = 1e-4\n",
        "batch_size = 8\n",
        "log_interval = 10\n",
        "\n",
        "device_type = \"cuda\" if torch.cuda.is_available() else \"cpu\"\n",
        "device = torch.device(device_type)\n",
        "print(device)"
      ],
      "execution_count": 9,
      "outputs": [
        {
          "output_type": "stream",
          "text": [
            "cuda\n"
          ],
          "name": "stdout"
        }
      ]
    },
    {
      "cell_type": "code",
      "metadata": {
        "id": "Gql6fhRSrkhV",
        "colab": {
          "base_uri": "https://localhost:8080/"
        },
        "outputId": "b149a69b-2406-432f-873a-aca43c7ebd07"
      },
      "source": [
        "loader = data.DataLoader(\n",
        "    dataset,\n",
        "    batch_size=batch_size,\n",
        "    num_workers=4,\n",
        "    shuffle=True\n",
        ")"
      ],
      "execution_count": 10,
      "outputs": [
        {
          "output_type": "stream",
          "text": [
            "/usr/local/lib/python3.7/dist-packages/torch/utils/data/dataloader.py:481: UserWarning: This DataLoader will create 4 worker processes in total. Our suggested max number of worker in current system is 2, which is smaller than what this DataLoader is going to create. Please be aware that excessive worker creation might get DataLoader running slow or even freeze, lower the worker number to avoid potential slowness/freeze if necessary.\n",
            "  cpuset_checked))\n"
          ],
          "name": "stderr"
        }
      ]
    },
    {
      "cell_type": "markdown",
      "metadata": {
        "id": "vPAQgxFNd4fS"
      },
      "source": [
        "# 모델 저장 설정 및 학습 가능한 레이어 확인"
      ]
    },
    {
      "cell_type": "code",
      "metadata": {
        "id": "UEEp2bw_09UO",
        "colab": {
          "base_uri": "https://localhost:8080/",
          "height": 1000,
          "referenced_widgets": [
            "1823a97c5d244ecaa8412a30da2ad0a6",
            "d185b52cca084f6292bac7ec168242ba",
            "d82032c7353c469bbc57b9de29224d76",
            "ed6fb1a661a14fdf8c8c947c54c671ef",
            "ec2a736955da4a818f8a27a82977d403",
            "0193114fc54d403a92357072c1f441a0",
            "c79b932bfbf94bebad84942523448015",
            "59a693a6e6c24df19864f525c649203f"
          ]
        },
        "outputId": "bad0f4f9-58fd-4cdb-c075-4a810ecdc8c1"
      },
      "source": [
        "save_path = drivepath + \"/test_model2.pt\"\n",
        "\n",
        "model = KartModel2()\n",
        "# model.load_state_dict(torch.load(save_path))\n",
        "\n",
        "for param, weight in model.named_parameters():\n",
        "    print(f\"param {param:20} required gradient? -> {weight.requires_grad}\")\n",
        "model = model.to(device)"
      ],
      "execution_count": 11,
      "outputs": [
        {
          "output_type": "stream",
          "text": [
            "Downloading: \"https://download.pytorch.org/models/resnet50-0676ba61.pth\" to /root/.cache/torch/hub/checkpoints/resnet50-0676ba61.pth\n"
          ],
          "name": "stderr"
        },
        {
          "output_type": "display_data",
          "data": {
            "application/vnd.jupyter.widget-view+json": {
              "model_id": "1823a97c5d244ecaa8412a30da2ad0a6",
              "version_minor": 0,
              "version_major": 2
            },
            "text/plain": [
              "HBox(children=(FloatProgress(value=0.0, max=102530333.0), HTML(value='')))"
            ]
          },
          "metadata": {
            "tags": []
          }
        },
        {
          "output_type": "stream",
          "text": [
            "\n",
            "param backbone.conv1.weight required gradient? -> True\n",
            "param backbone.bn1.weight  required gradient? -> True\n",
            "param backbone.bn1.bias    required gradient? -> True\n",
            "param backbone.layer1.0.conv1.weight required gradient? -> True\n",
            "param backbone.layer1.0.bn1.weight required gradient? -> True\n",
            "param backbone.layer1.0.bn1.bias required gradient? -> True\n",
            "param backbone.layer1.0.conv2.weight required gradient? -> True\n",
            "param backbone.layer1.0.bn2.weight required gradient? -> True\n",
            "param backbone.layer1.0.bn2.bias required gradient? -> True\n",
            "param backbone.layer1.0.conv3.weight required gradient? -> True\n",
            "param backbone.layer1.0.bn3.weight required gradient? -> True\n",
            "param backbone.layer1.0.bn3.bias required gradient? -> True\n",
            "param backbone.layer1.0.downsample.0.weight required gradient? -> True\n",
            "param backbone.layer1.0.downsample.1.weight required gradient? -> True\n",
            "param backbone.layer1.0.downsample.1.bias required gradient? -> True\n",
            "param backbone.layer1.1.conv1.weight required gradient? -> True\n",
            "param backbone.layer1.1.bn1.weight required gradient? -> True\n",
            "param backbone.layer1.1.bn1.bias required gradient? -> True\n",
            "param backbone.layer1.1.conv2.weight required gradient? -> True\n",
            "param backbone.layer1.1.bn2.weight required gradient? -> True\n",
            "param backbone.layer1.1.bn2.bias required gradient? -> True\n",
            "param backbone.layer1.1.conv3.weight required gradient? -> True\n",
            "param backbone.layer1.1.bn3.weight required gradient? -> True\n",
            "param backbone.layer1.1.bn3.bias required gradient? -> True\n",
            "param backbone.layer1.2.conv1.weight required gradient? -> True\n",
            "param backbone.layer1.2.bn1.weight required gradient? -> True\n",
            "param backbone.layer1.2.bn1.bias required gradient? -> True\n",
            "param backbone.layer1.2.conv2.weight required gradient? -> True\n",
            "param backbone.layer1.2.bn2.weight required gradient? -> True\n",
            "param backbone.layer1.2.bn2.bias required gradient? -> True\n",
            "param backbone.layer1.2.conv3.weight required gradient? -> True\n",
            "param backbone.layer1.2.bn3.weight required gradient? -> True\n",
            "param backbone.layer1.2.bn3.bias required gradient? -> True\n",
            "param backbone.layer2.0.conv1.weight required gradient? -> True\n",
            "param backbone.layer2.0.bn1.weight required gradient? -> True\n",
            "param backbone.layer2.0.bn1.bias required gradient? -> True\n",
            "param backbone.layer2.0.conv2.weight required gradient? -> True\n",
            "param backbone.layer2.0.bn2.weight required gradient? -> True\n",
            "param backbone.layer2.0.bn2.bias required gradient? -> True\n",
            "param backbone.layer2.0.conv3.weight required gradient? -> True\n",
            "param backbone.layer2.0.bn3.weight required gradient? -> True\n",
            "param backbone.layer2.0.bn3.bias required gradient? -> True\n",
            "param backbone.layer2.0.downsample.0.weight required gradient? -> True\n",
            "param backbone.layer2.0.downsample.1.weight required gradient? -> True\n",
            "param backbone.layer2.0.downsample.1.bias required gradient? -> True\n",
            "param backbone.layer2.1.conv1.weight required gradient? -> True\n",
            "param backbone.layer2.1.bn1.weight required gradient? -> True\n",
            "param backbone.layer2.1.bn1.bias required gradient? -> True\n",
            "param backbone.layer2.1.conv2.weight required gradient? -> True\n",
            "param backbone.layer2.1.bn2.weight required gradient? -> True\n",
            "param backbone.layer2.1.bn2.bias required gradient? -> True\n",
            "param backbone.layer2.1.conv3.weight required gradient? -> True\n",
            "param backbone.layer2.1.bn3.weight required gradient? -> True\n",
            "param backbone.layer2.1.bn3.bias required gradient? -> True\n",
            "param backbone.layer2.2.conv1.weight required gradient? -> True\n",
            "param backbone.layer2.2.bn1.weight required gradient? -> True\n",
            "param backbone.layer2.2.bn1.bias required gradient? -> True\n",
            "param backbone.layer2.2.conv2.weight required gradient? -> True\n",
            "param backbone.layer2.2.bn2.weight required gradient? -> True\n",
            "param backbone.layer2.2.bn2.bias required gradient? -> True\n",
            "param backbone.layer2.2.conv3.weight required gradient? -> True\n",
            "param backbone.layer2.2.bn3.weight required gradient? -> True\n",
            "param backbone.layer2.2.bn3.bias required gradient? -> True\n",
            "param backbone.layer2.3.conv1.weight required gradient? -> True\n",
            "param backbone.layer2.3.bn1.weight required gradient? -> True\n",
            "param backbone.layer2.3.bn1.bias required gradient? -> True\n",
            "param backbone.layer2.3.conv2.weight required gradient? -> True\n",
            "param backbone.layer2.3.bn2.weight required gradient? -> True\n",
            "param backbone.layer2.3.bn2.bias required gradient? -> True\n",
            "param backbone.layer2.3.conv3.weight required gradient? -> True\n",
            "param backbone.layer2.3.bn3.weight required gradient? -> True\n",
            "param backbone.layer2.3.bn3.bias required gradient? -> True\n",
            "param backbone.layer3.0.conv1.weight required gradient? -> True\n",
            "param backbone.layer3.0.bn1.weight required gradient? -> True\n",
            "param backbone.layer3.0.bn1.bias required gradient? -> True\n",
            "param backbone.layer3.0.conv2.weight required gradient? -> True\n",
            "param backbone.layer3.0.bn2.weight required gradient? -> True\n",
            "param backbone.layer3.0.bn2.bias required gradient? -> True\n",
            "param backbone.layer3.0.conv3.weight required gradient? -> True\n",
            "param backbone.layer3.0.bn3.weight required gradient? -> True\n",
            "param backbone.layer3.0.bn3.bias required gradient? -> True\n",
            "param backbone.layer3.0.downsample.0.weight required gradient? -> True\n",
            "param backbone.layer3.0.downsample.1.weight required gradient? -> True\n",
            "param backbone.layer3.0.downsample.1.bias required gradient? -> True\n",
            "param backbone.layer3.1.conv1.weight required gradient? -> True\n",
            "param backbone.layer3.1.bn1.weight required gradient? -> True\n",
            "param backbone.layer3.1.bn1.bias required gradient? -> True\n",
            "param backbone.layer3.1.conv2.weight required gradient? -> True\n",
            "param backbone.layer3.1.bn2.weight required gradient? -> True\n",
            "param backbone.layer3.1.bn2.bias required gradient? -> True\n",
            "param backbone.layer3.1.conv3.weight required gradient? -> True\n",
            "param backbone.layer3.1.bn3.weight required gradient? -> True\n",
            "param backbone.layer3.1.bn3.bias required gradient? -> True\n",
            "param backbone.layer3.2.conv1.weight required gradient? -> True\n",
            "param backbone.layer3.2.bn1.weight required gradient? -> True\n",
            "param backbone.layer3.2.bn1.bias required gradient? -> True\n",
            "param backbone.layer3.2.conv2.weight required gradient? -> True\n",
            "param backbone.layer3.2.bn2.weight required gradient? -> True\n",
            "param backbone.layer3.2.bn2.bias required gradient? -> True\n",
            "param backbone.layer3.2.conv3.weight required gradient? -> True\n",
            "param backbone.layer3.2.bn3.weight required gradient? -> True\n",
            "param backbone.layer3.2.bn3.bias required gradient? -> True\n",
            "param backbone.layer3.3.conv1.weight required gradient? -> True\n",
            "param backbone.layer3.3.bn1.weight required gradient? -> True\n",
            "param backbone.layer3.3.bn1.bias required gradient? -> True\n",
            "param backbone.layer3.3.conv2.weight required gradient? -> True\n",
            "param backbone.layer3.3.bn2.weight required gradient? -> True\n",
            "param backbone.layer3.3.bn2.bias required gradient? -> True\n",
            "param backbone.layer3.3.conv3.weight required gradient? -> True\n",
            "param backbone.layer3.3.bn3.weight required gradient? -> True\n",
            "param backbone.layer3.3.bn3.bias required gradient? -> True\n",
            "param backbone.layer3.4.conv1.weight required gradient? -> True\n",
            "param backbone.layer3.4.bn1.weight required gradient? -> True\n",
            "param backbone.layer3.4.bn1.bias required gradient? -> True\n",
            "param backbone.layer3.4.conv2.weight required gradient? -> True\n",
            "param backbone.layer3.4.bn2.weight required gradient? -> True\n",
            "param backbone.layer3.4.bn2.bias required gradient? -> True\n",
            "param backbone.layer3.4.conv3.weight required gradient? -> True\n",
            "param backbone.layer3.4.bn3.weight required gradient? -> True\n",
            "param backbone.layer3.4.bn3.bias required gradient? -> True\n",
            "param backbone.layer3.5.conv1.weight required gradient? -> True\n",
            "param backbone.layer3.5.bn1.weight required gradient? -> True\n",
            "param backbone.layer3.5.bn1.bias required gradient? -> True\n",
            "param backbone.layer3.5.conv2.weight required gradient? -> True\n",
            "param backbone.layer3.5.bn2.weight required gradient? -> True\n",
            "param backbone.layer3.5.bn2.bias required gradient? -> True\n",
            "param backbone.layer3.5.conv3.weight required gradient? -> True\n",
            "param backbone.layer3.5.bn3.weight required gradient? -> True\n",
            "param backbone.layer3.5.bn3.bias required gradient? -> True\n",
            "param backbone.layer4.0.conv1.weight required gradient? -> True\n",
            "param backbone.layer4.0.bn1.weight required gradient? -> True\n",
            "param backbone.layer4.0.bn1.bias required gradient? -> True\n",
            "param backbone.layer4.0.conv2.weight required gradient? -> True\n",
            "param backbone.layer4.0.bn2.weight required gradient? -> True\n",
            "param backbone.layer4.0.bn2.bias required gradient? -> True\n",
            "param backbone.layer4.0.conv3.weight required gradient? -> True\n",
            "param backbone.layer4.0.bn3.weight required gradient? -> True\n",
            "param backbone.layer4.0.bn3.bias required gradient? -> True\n",
            "param backbone.layer4.0.downsample.0.weight required gradient? -> True\n",
            "param backbone.layer4.0.downsample.1.weight required gradient? -> True\n",
            "param backbone.layer4.0.downsample.1.bias required gradient? -> True\n",
            "param backbone.layer4.1.conv1.weight required gradient? -> True\n",
            "param backbone.layer4.1.bn1.weight required gradient? -> True\n",
            "param backbone.layer4.1.bn1.bias required gradient? -> True\n",
            "param backbone.layer4.1.conv2.weight required gradient? -> True\n",
            "param backbone.layer4.1.bn2.weight required gradient? -> True\n",
            "param backbone.layer4.1.bn2.bias required gradient? -> True\n",
            "param backbone.layer4.1.conv3.weight required gradient? -> True\n",
            "param backbone.layer4.1.bn3.weight required gradient? -> True\n",
            "param backbone.layer4.1.bn3.bias required gradient? -> True\n",
            "param backbone.layer4.2.conv1.weight required gradient? -> True\n",
            "param backbone.layer4.2.bn1.weight required gradient? -> True\n",
            "param backbone.layer4.2.bn1.bias required gradient? -> True\n",
            "param backbone.layer4.2.conv2.weight required gradient? -> True\n",
            "param backbone.layer4.2.bn2.weight required gradient? -> True\n",
            "param backbone.layer4.2.bn2.bias required gradient? -> True\n",
            "param backbone.layer4.2.conv3.weight required gradient? -> True\n",
            "param backbone.layer4.2.bn3.weight required gradient? -> True\n",
            "param backbone.layer4.2.bn3.bias required gradient? -> True\n",
            "param backbone.fc.0.weight required gradient? -> True\n",
            "param backbone.fc.0.bias   required gradient? -> True\n",
            "param fc_include_past_inputs.0.weight required gradient? -> True\n",
            "param fc_include_past_inputs.0.bias required gradient? -> True\n"
          ],
          "name": "stdout"
        }
      ]
    },
    {
      "cell_type": "markdown",
      "metadata": {
        "id": "9oDeDJoneDDL"
      },
      "source": [
        "# Loss, Optimizer, Scheduler 설정"
      ]
    },
    {
      "cell_type": "code",
      "metadata": {
        "id": "IL90tvKMLKVt"
      },
      "source": [
        "# criterion = nn.CrossEntropyLoss()\n",
        "# criterion = nn.BCEWithLogitsLoss()\n",
        "criterion = nn.BCELoss()\n",
        "optimizer = optim.Adam(model.parameters(), lr=lr, weight_decay=5e-4)\n",
        "scheduler = StepLR(optimizer, 5, gamma=0.5)"
      ],
      "execution_count": 12,
      "outputs": []
    },
    {
      "cell_type": "code",
      "metadata": {
        "colab": {
          "base_uri": "https://localhost:8080/"
        },
        "id": "mtaaB5sNndlt",
        "outputId": "b53e4600-8dc3-40f5-ca0a-18d1d0481936"
      },
      "source": [
        "a = 0\n",
        "for i in loader:\n",
        "  a = i\n",
        "  break\n",
        "  \n",
        "inputs, past_inputs, labels = a\n",
        "print(inputs.shape)\n",
        "print(past_inputs.shape)\n",
        "print(labels.shape)"
      ],
      "execution_count": 13,
      "outputs": [
        {
          "output_type": "stream",
          "text": [
            "/usr/local/lib/python3.7/dist-packages/torch/utils/data/dataloader.py:481: UserWarning: This DataLoader will create 4 worker processes in total. Our suggested max number of worker in current system is 2, which is smaller than what this DataLoader is going to create. Please be aware that excessive worker creation might get DataLoader running slow or even freeze, lower the worker number to avoid potential slowness/freeze if necessary.\n",
            "  cpuset_checked))\n"
          ],
          "name": "stderr"
        },
        {
          "output_type": "stream",
          "text": [
            "torch.Size([8, 3, 224, 224])\n",
            "torch.Size([8, 300])\n",
            "torch.Size([8, 6])\n"
          ],
          "name": "stdout"
        }
      ]
    },
    {
      "cell_type": "markdown",
      "metadata": {
        "id": "ADHzW0qMeK9_"
      },
      "source": [
        "# 데이터로더, 모델 인풋, 아웃풋 점검"
      ]
    },
    {
      "cell_type": "code",
      "metadata": {
        "colab": {
          "base_uri": "https://localhost:8080/",
          "height": 630
        },
        "id": "bFQfddsJ2FXn",
        "outputId": "34410f68-0b3f-426a-9b98-f6a924129ed2"
      },
      "source": [
        "from torchvision.transforms import ToPILImage\n",
        "from IPython.display import Image\n",
        "to_img = ToPILImage()\n",
        "\n",
        "display(to_img(inputs[0]))\n",
        "\n",
        "inputs = inputs.to(device)\n",
        "labels = labels.to(device)\n",
        "past_inputs = past_inputs.to(device)\n",
        "print(past_inputs.shape)\n",
        "outs = model(inputs, past_inputs)\n",
        "print(outs > 0.5)\n",
        "print((((outs > 0.5) == labels).sum(axis=1) == 6).sum())\n",
        "loss = criterion(outs, labels)\n",
        "print(labels.cpu())\n",
        "print(loss.cpu())"
      ],
      "execution_count": 15,
      "outputs": [
        {
          "output_type": "display_data",
          "data": {
            "image/png": "[encoded data removed]",
            "text/plain": [
              "<PIL.Image.Image image mode=RGB size=224x224 at 0x7FC298BDEB50>"
            ]
          },
          "metadata": {
            "tags": []
          }
        },
        {
          "output_type": "stream",
          "text": [
            "torch.Size([8, 300])\n",
            "tensor([[False,  True,  True,  True,  True, False],\n",
            "        [False,  True,  True,  True, False, False],\n",
            "        [ True, False,  True, False, False, False],\n",
            "        [ True,  True,  True,  True,  True, False],\n",
            "        [ True,  True,  True,  True,  True,  True],\n",
            "        [ True,  True,  True,  True,  True, False],\n",
            "        [ True,  True,  True, False,  True,  True],\n",
            "        [ True,  True,  True,  True,  True, False]], device='cuda:0')\n",
            "tensor(0, device='cuda:0')\n",
            "tensor([[1., 0., 0., 0., 0., 0.],\n",
            "        [1., 1., 0., 0., 0., 0.],\n",
            "        [1., 1., 0., 0., 0., 0.],\n",
            "        [1., 0., 1., 0., 0., 0.],\n",
            "        [1., 0., 0., 0., 0., 0.],\n",
            "        [1., 0., 0., 0., 0., 0.],\n",
            "        [1., 0., 1., 0., 0., 0.],\n",
            "        [1., 1., 1., 0., 1., 0.]])\n",
            "tensor(0.6944, grad_fn=<CopyBackwards>)\n"
          ],
          "name": "stdout"
        },
        {
          "output_type": "stream",
          "text": [
            "/usr/local/lib/python3.7/dist-packages/torch/nn/functional.py:718: UserWarning: Named tensors and all their associated APIs are an experimental feature and subject to change. Please do not use them for anything important until they are released as stable. (Triggered internally at  /pytorch/c10/core/TensorImpl.h:1156.)\n",
            "  return torch.max_pool2d(input, kernel_size, stride, padding, dilation, ceil_mode)\n"
          ],
          "name": "stderr"
        }
      ]
    },
    {
      "cell_type": "markdown",
      "metadata": {
        "id": "YUEu9R1ZeTXY"
      },
      "source": [
        "# 학습 진행상황 확인을 위한 wandb 설정"
      ]
    },
    {
      "cell_type": "code",
      "metadata": {
        "id": "97MpR5dh-2H7",
        "colab": {
          "base_uri": "https://localhost:8080/"
        },
        "outputId": "44a5c9a3-bf52-4b4e-9215-4eb9ca1d918a"
      },
      "source": [
        "!pip install wandb"
      ],
      "execution_count": 16,
      "outputs": [
        {
          "output_type": "stream",
          "text": [
            "Collecting wandb\n",
            "\u001b[?25l  Downloading https://files.pythonhosted.org/packages/e0/b4/9d92953d8cddc8450c859be12e3dbdd4c7754fb8def94c28b3b351c6ee4e/wandb-0.10.32-py2.py3-none-any.whl (1.8MB)\n",
            "\u001b[K     |████████████████████████████████| 1.8MB 12.3MB/s \n",
            "\u001b[?25hCollecting subprocess32>=3.5.3\n",
            "\u001b[?25l  Downloading https://files.pythonhosted.org/packages/32/c8/564be4d12629b912ea431f1a50eb8b3b9d00f1a0b1ceff17f266be190007/subprocess32-3.5.4.tar.gz (97kB)\n",
            "\u001b[K     |████████████████████████████████| 102kB 10.9MB/s \n",
            "\u001b[?25hRequirement already satisfied: PyYAML in /usr/local/lib/python3.7/dist-packages (from wandb) (3.13)\n",
            "Collecting sentry-sdk>=0.4.0\n",
            "\u001b[?25l  Downloading https://files.pythonhosted.org/packages/1c/4a/a54b254f67d8f4052338d54ebe90126f200693440a93ef76d254d581e3ec/sentry_sdk-1.1.0-py2.py3-none-any.whl (131kB)\n",
            "\u001b[K     |████████████████████████████████| 133kB 37.1MB/s \n",
            "\u001b[?25hRequirement already satisfied: promise<3,>=2.0 in /usr/local/lib/python3.7/dist-packages (from wandb) (2.3)\n",
            "Requirement already satisfied: six>=1.13.0 in /usr/local/lib/python3.7/dist-packages (from wandb) (1.15.0)\n",
            "Collecting docker-pycreds>=0.4.0\n",
            "  Downloading https://files.pythonhosted.org/packages/f5/e8/f6bd1eee09314e7e6dee49cbe2c5e22314ccdb38db16c9fc72d2fa80d054/docker_pycreds-0.4.0-py2.py3-none-any.whl\n",
            "Collecting pathtools\n",
            "  Downloading https://files.pythonhosted.org/packages/e7/7f/470d6fcdf23f9f3518f6b0b76be9df16dcc8630ad409947f8be2eb0ed13a/pathtools-0.1.2.tar.gz\n",
            "Requirement already satisfied: protobuf>=3.12.0 in /usr/local/lib/python3.7/dist-packages (from wandb) (3.12.4)\n",
            "Requirement already satisfied: requests<3,>=2.0.0 in /usr/local/lib/python3.7/dist-packages (from wandb) (2.23.0)\n",
            "Requirement already satisfied: python-dateutil>=2.6.1 in /usr/local/lib/python3.7/dist-packages (from wandb) (2.8.1)\n",
            "Requirement already satisfied: Click!=8.0.0,>=7.0 in /usr/local/lib/python3.7/dist-packages (from wandb) (7.1.2)\n",
            "Collecting configparser>=3.8.1\n",
            "  Downloading https://files.pythonhosted.org/packages/fd/01/ff260a18caaf4457eb028c96eeb405c4a230ca06c8ec9c1379f813caa52e/configparser-5.0.2-py3-none-any.whl\n",
            "Collecting shortuuid>=0.5.0\n",
            "  Downloading https://files.pythonhosted.org/packages/25/a6/2ecc1daa6a304e7f1b216f0896b26156b78e7c38e1211e9b798b4716c53d/shortuuid-1.0.1-py3-none-any.whl\n",
            "Collecting GitPython>=1.0.0\n",
            "\u001b[?25l  Downloading https://files.pythonhosted.org/packages/bc/91/b38c4fabb6e5092ab23492ded4f318ab7299b19263272b703478038c0fbc/GitPython-3.1.18-py3-none-any.whl (170kB)\n",
            "\u001b[K     |████████████████████████████████| 174kB 37.6MB/s \n",
            "\u001b[?25hRequirement already satisfied: psutil>=5.0.0 in /usr/local/lib/python3.7/dist-packages (from wandb) (5.4.8)\n",
            "Requirement already satisfied: urllib3>=1.10.0 in /usr/local/lib/python3.7/dist-packages (from sentry-sdk>=0.4.0->wandb) (1.24.3)\n",
            "Requirement already satisfied: certifi in /usr/local/lib/python3.7/dist-packages (from sentry-sdk>=0.4.0->wandb) (2021.5.30)\n",
            "Requirement already satisfied: setuptools in /usr/local/lib/python3.7/dist-packages (from protobuf>=3.12.0->wandb) (57.0.0)\n",
            "Requirement already satisfied: idna<3,>=2.5 in /usr/local/lib/python3.7/dist-packages (from requests<3,>=2.0.0->wandb) (2.10)\n",
            "Requirement already satisfied: chardet<4,>=3.0.2 in /usr/local/lib/python3.7/dist-packages (from requests<3,>=2.0.0->wandb) (3.0.4)\n",
            "Collecting gitdb<5,>=4.0.1\n",
            "\u001b[?25l  Downloading https://files.pythonhosted.org/packages/ea/e8/f414d1a4f0bbc668ed441f74f44c116d9816833a48bf81d22b697090dba8/gitdb-4.0.7-py3-none-any.whl (63kB)\n",
            "\u001b[K     |████████████████████████████████| 71kB 9.6MB/s \n",
            "\u001b[?25hRequirement already satisfied: typing-extensions>=3.7.4.0; python_version < \"3.8\" in /usr/local/lib/python3.7/dist-packages (from GitPython>=1.0.0->wandb) (3.7.4.3)\n",
            "Collecting smmap<5,>=3.0.1\n",
            "  Downloading https://files.pythonhosted.org/packages/68/ee/d540eb5e5996eb81c26ceffac6ee49041d473bc5125f2aa995cf51ec1cf1/smmap-4.0.0-py2.py3-none-any.whl\n",
            "Building wheels for collected packages: subprocess32, pathtools\n",
            "  Building wheel for subprocess32 (setup.py) ... \u001b[?25l\u001b[?25hdone\n",
            "  Created wheel for subprocess32: filename=subprocess32-3.5.4-cp37-none-any.whl size=6502 sha256=1a218e871b4ffb046ce32a34231bb43a5ffd3cae141759d46c393a78fe339a1f\n",
            "  Stored in directory: /root/.cache/pip/wheels/68/39/1a/5e402bdfdf004af1786c8b853fd92f8c4a04f22aad179654d1\n",
            "  Building wheel for pathtools (setup.py) ... \u001b[?25l\u001b[?25hdone\n",
            "  Created wheel for pathtools: filename=pathtools-0.1.2-cp37-none-any.whl size=8807 sha256=1ec13da17e245ca6375971d6428d5a1f24d207eb5de0d6d504707bd7e230d7f6\n",
            "  Stored in directory: /root/.cache/pip/wheels/0b/04/79/c3b0c3a0266a3cb4376da31e5bfe8bba0c489246968a68e843\n",
            "Successfully built subprocess32 pathtools\n",
            "Installing collected packages: subprocess32, sentry-sdk, docker-pycreds, pathtools, configparser, shortuuid, smmap, gitdb, GitPython, wandb\n",
            "Successfully installed GitPython-3.1.18 configparser-5.0.2 docker-pycreds-0.4.0 gitdb-4.0.7 pathtools-0.1.2 sentry-sdk-1.1.0 shortuuid-1.0.1 smmap-4.0.0 subprocess32-3.5.4 wandb-0.10.32\n"
          ],
          "name": "stdout"
        }
      ]
    },
    {
      "cell_type": "code",
      "metadata": {
        "id": "MBXF3hbr_CnU",
        "colab": {
          "base_uri": "https://localhost:8080/",
          "height": 69
        },
        "outputId": "ceadab99-1dc7-447b-f0d6-b0192b983118"
      },
      "source": [
        "import wandb\n",
        "\n",
        "wandb.login()"
      ],
      "execution_count": 17,
      "outputs": [
        {
          "output_type": "display_data",
          "data": {
            "application/javascript": [
              "\n",
              "        window._wandbApiKey = new Promise((resolve, reject) => {\n",
              "            function loadScript(url) {\n",
              "            return new Promise(function(resolve, reject) {\n",
              "                let newScript = document.createElement(\"script\");\n",
              "                newScript.onerror = reject;\n",
              "                newScript.onload = resolve;\n",
              "                document.body.appendChild(newScript);\n",
              "                newScript.src = url;\n",
              "            });\n",
              "            }\n",
              "            loadScript(\"https://cdn.jsdelivr.net/npm/postmate/build/postmate.min.js\").then(() => {\n",
              "            const iframe = document.createElement('iframe')\n",
              "            iframe.style.cssText = \"width:0;height:0;border:none\"\n",
              "            document.body.appendChild(iframe)\n",
              "            const handshake = new Postmate({\n",
              "                container: iframe,\n",
              "                url: 'https://wandb.ai/authorize'\n",
              "            });\n",
              "            const timeout = setTimeout(() => reject(\"Couldn't auto authenticate\"), 5000)\n",
              "            handshake.then(function(child) {\n",
              "                child.on('authorize', data => {\n",
              "                    clearTimeout(timeout)\n",
              "                    resolve(data)\n",
              "                });\n",
              "            });\n",
              "            })\n",
              "        });\n",
              "    "
            ],
            "text/plain": [
              "<IPython.core.display.Javascript object>"
            ]
          },
          "metadata": {
            "tags": []
          }
        },
        {
          "output_type": "stream",
          "text": [
            "\u001b[34m\u001b[1mwandb\u001b[0m: Appending key for api.wandb.ai to your netrc file: /root/.netrc\n"
          ],
          "name": "stderr"
        },
        {
          "output_type": "execute_result",
          "data": {
            "text/plain": [
              "True"
            ]
          },
          "metadata": {
            "tags": []
          },
          "execution_count": 17
        }
      ]
    },
    {
      "cell_type": "code",
      "metadata": {
        "id": "ywyX1-As_Nou",
        "colab": {
          "base_uri": "https://localhost:8080/",
          "height": 596
        },
        "outputId": "6405c842-0f2c-4ae2-c0f1-a2b3a90c77c9"
      },
      "source": [
        "config = {}\n",
        "config['n_epochs'] = num_epochs\n",
        "config['batch_sze'] = batch_size\n",
        "config['lr'] = lr\n",
        "\n",
        "\n",
        "wandb.init(project=\"boomhill24_1\", config=config)"
      ],
      "execution_count": 18,
      "outputs": [
        {
          "output_type": "stream",
          "text": [
            "\u001b[34m\u001b[1mwandb\u001b[0m: Currently logged in as: \u001b[33mjunhyeokk\u001b[0m (use `wandb login --relogin` to force relogin)\n"
          ],
          "name": "stderr"
        },
        {
          "output_type": "display_data",
          "data": {
            "text/html": [
              "\n",
              "                Tracking run with wandb version 0.10.32<br/>\n",
              "                Syncing run <strong style=\"color:#cdcd00\">azure-bush-6</strong> to <a href=\"https://wandb.ai\" target=\"_blank\">Weights & Biases</a> <a href=\"https://docs.wandb.com/integrations/jupyter.html\" target=\"_blank\">(Documentation)</a>.<br/>\n",
              "                Project page: <a href=\"https://wandb.ai/junhyeokk/boomhill24_1\" target=\"_blank\">https://wandb.ai/junhyeokk/boomhill24_1</a><br/>\n",
              "                Run page: <a href=\"https://wandb.ai/junhyeokk/boomhill24_1/runs/709804qf\" target=\"_blank\">https://wandb.ai/junhyeokk/boomhill24_1/runs/709804qf</a><br/>\n",
              "                Run data is saved locally in <code>/content/wandb/run-20210623_092616-709804qf</code><br/><br/>\n",
              "            "
            ],
            "text/plain": [
              "<IPython.core.display.HTML object>"
            ]
          },
          "metadata": {
            "tags": []
          }
        },
        {
          "output_type": "execute_result",
          "data": {
            "text/plain": [
              "<wandb.sdk.wandb_run.Run at 0x7fc293707e90>"
            ],
            "text/html": [
              "<h1>Run(709804qf)</h1><iframe src=\"https://wandb.ai/junhyeokk/boomhill24_1/runs/709804qf\" style=\"border:none;width:100%;height:400px\"></iframe>"
            ]
          },
          "metadata": {
            "tags": []
          },
          "execution_count": 18
        }
      ]
    },
    {
      "cell_type": "markdown",
      "metadata": {
        "id": "hinVVVHHeXxT"
      },
      "source": [
        "# 학습 진행 및 저장"
      ]
    },
    {
      "cell_type": "code",
      "metadata": {
        "colab": {
          "base_uri": "https://localhost:8080/"
        },
        "id": "ZfhPU3UcEqJl",
        "outputId": "400ba24b-4e17-45c7-9ddb-0edca0c85676"
      },
      "source": [
        "for epoch in range(num_epochs):\n",
        "  model.train()\n",
        "  # loss_value = 0\n",
        "  # matches = 0\n",
        "  \n",
        "  for idx, train_batch in enumerate(loader):\n",
        "    inputs, past_inputs, labels = train_batch\n",
        "    inputs = inputs.to(device)\n",
        "    past_inputs = past_inputs.to(device)\n",
        "    labels = labels.to(device)\n",
        "\n",
        "    outs = model(inputs, past_inputs)\n",
        "    preds = (outs > 0.5)\n",
        "    loss = criterion(outs, labels)\n",
        "\n",
        "    loss.backward()\n",
        "    optimizer.step()\n",
        "    optimizer.zero_grad()\n",
        "\n",
        "    # loss_value += loss.item()\n",
        "    # matches += (preds == labels).sum().item()\n",
        "    matches = ((preds == labels).sum(axis = 1) == 6).sum()\n",
        "\n",
        "    wandb.log({\"epoch\" : epoch, \"training_loss\" : loss.item(), \"training_acc\" : matches / batch_size})\n",
        "    if (idx + 1) % log_interval == 0:\n",
        "    #   train_loss = loss_value / log_interval\n",
        "    #   # train_acc = matches / batch_size / log_interval\n",
        "    #   current_lr = scheduler.get_last_lr()\n",
        "      print(\n",
        "          f\"Epoch[{epoch}/{num_epochs}]({idx + 1}/{len(loader)}) || \"\n",
        "          # f\"training loss {train_loss:4.4} || lr {current_lr}\"\n",
        "          # f\"training loss {train_loss:4.4} || training accuracy {train_acc:4.2%} || lr {current_lr}\"\n",
        "      )\n",
        "\n",
        "      # loss_value = 0\n",
        "      # matches = 0\n",
        "\n",
        "    scheduler.step()\n",
        "    \n",
        "  torch.save(model.state_dict(), save_path)"
      ],
      "execution_count": 19,
      "outputs": [
        {
          "output_type": "stream",
          "text": [
            "/usr/local/lib/python3.7/dist-packages/torch/utils/data/dataloader.py:481: UserWarning: This DataLoader will create 4 worker processes in total. Our suggested max number of worker in current system is 2, which is smaller than what this DataLoader is going to create. Please be aware that excessive worker creation might get DataLoader running slow or even freeze, lower the worker number to avoid potential slowness/freeze if necessary.\n",
            "  cpuset_checked))\n"
          ],
          "name": "stderr"
        },
        {
          "output_type": "stream",
          "text": [
            "Epoch[0/20](10/123) || \n",
            "Epoch[0/20](20/123) || \n",
            "Epoch[0/20](30/123) || \n",
            "Epoch[0/20](40/123) || \n",
            "Epoch[0/20](50/123) || \n",
            "Epoch[0/20](60/123) || \n",
            "Epoch[0/20](70/123) || \n",
            "Epoch[0/20](80/123) || \n",
            "Epoch[0/20](90/123) || \n",
            "Epoch[0/20](100/123) || \n",
            "Epoch[0/20](110/123) || \n",
            "Epoch[0/20](120/123) || \n",
            "Epoch[1/20](10/123) || \n",
            "Epoch[1/20](20/123) || \n",
            "Epoch[1/20](30/123) || \n",
            "Epoch[1/20](40/123) || \n",
            "Epoch[1/20](50/123) || \n",
            "Epoch[1/20](60/123) || \n",
            "Epoch[1/20](70/123) || \n",
            "Epoch[1/20](80/123) || \n",
            "Epoch[1/20](90/123) || \n",
            "Epoch[1/20](100/123) || \n",
            "Epoch[1/20](110/123) || \n",
            "Epoch[1/20](120/123) || \n",
            "Epoch[2/20](10/123) || \n",
            "Epoch[2/20](20/123) || \n",
            "Epoch[2/20](30/123) || \n",
            "Epoch[2/20](40/123) || \n",
            "Epoch[2/20](50/123) || \n",
            "Epoch[2/20](60/123) || \n",
            "Epoch[2/20](70/123) || \n",
            "Epoch[2/20](80/123) || \n",
            "Epoch[2/20](90/123) || \n",
            "Epoch[2/20](100/123) || \n",
            "Epoch[2/20](110/123) || \n",
            "Epoch[2/20](120/123) || \n",
            "Epoch[3/20](10/123) || \n",
            "Epoch[3/20](20/123) || \n",
            "Epoch[3/20](30/123) || \n",
            "Epoch[3/20](40/123) || \n",
            "Epoch[3/20](50/123) || \n",
            "Epoch[3/20](60/123) || \n",
            "Epoch[3/20](70/123) || \n",
            "Epoch[3/20](80/123) || \n",
            "Epoch[3/20](90/123) || \n",
            "Epoch[3/20](100/123) || \n",
            "Epoch[3/20](110/123) || \n",
            "Epoch[3/20](120/123) || \n",
            "Epoch[4/20](10/123) || \n",
            "Epoch[4/20](20/123) || \n",
            "Epoch[4/20](30/123) || \n",
            "Epoch[4/20](40/123) || \n",
            "Epoch[4/20](50/123) || \n",
            "Epoch[4/20](60/123) || \n",
            "Epoch[4/20](70/123) || \n",
            "Epoch[4/20](80/123) || \n",
            "Epoch[4/20](90/123) || \n",
            "Epoch[4/20](100/123) || \n",
            "Epoch[4/20](110/123) || \n",
            "Epoch[4/20](120/123) || \n",
            "Epoch[5/20](10/123) || \n",
            "Epoch[5/20](20/123) || \n",
            "Epoch[5/20](30/123) || \n",
            "Epoch[5/20](40/123) || \n",
            "Epoch[5/20](50/123) || \n",
            "Epoch[5/20](60/123) || \n",
            "Epoch[5/20](70/123) || \n",
            "Epoch[5/20](80/123) || \n",
            "Epoch[5/20](90/123) || \n",
            "Epoch[5/20](100/123) || \n",
            "Epoch[5/20](110/123) || \n",
            "Epoch[5/20](120/123) || \n",
            "Epoch[6/20](10/123) || \n",
            "Epoch[6/20](20/123) || \n",
            "Epoch[6/20](30/123) || \n",
            "Epoch[6/20](40/123) || \n",
            "Epoch[6/20](50/123) || \n",
            "Epoch[6/20](60/123) || \n",
            "Epoch[6/20](70/123) || \n",
            "Epoch[6/20](80/123) || \n",
            "Epoch[6/20](90/123) || \n",
            "Epoch[6/20](100/123) || \n",
            "Epoch[6/20](110/123) || \n",
            "Epoch[6/20](120/123) || \n",
            "Epoch[7/20](10/123) || \n",
            "Epoch[7/20](20/123) || \n",
            "Epoch[7/20](30/123) || \n",
            "Epoch[7/20](40/123) || \n",
            "Epoch[7/20](50/123) || \n",
            "Epoch[7/20](60/123) || \n",
            "Epoch[7/20](70/123) || \n",
            "Epoch[7/20](80/123) || \n",
            "Epoch[7/20](90/123) || \n",
            "Epoch[7/20](100/123) || \n",
            "Epoch[7/20](110/123) || \n",
            "Epoch[7/20](120/123) || \n",
            "Epoch[8/20](10/123) || \n",
            "Epoch[8/20](20/123) || \n",
            "Epoch[8/20](30/123) || \n",
            "Epoch[8/20](40/123) || \n",
            "Epoch[8/20](50/123) || \n",
            "Epoch[8/20](60/123) || \n",
            "Epoch[8/20](70/123) || \n",
            "Epoch[8/20](80/123) || \n",
            "Epoch[8/20](90/123) || \n",
            "Epoch[8/20](100/123) || \n",
            "Epoch[8/20](110/123) || \n",
            "Epoch[8/20](120/123) || \n",
            "Epoch[9/20](10/123) || \n",
            "Epoch[9/20](20/123) || \n",
            "Epoch[9/20](30/123) || \n",
            "Epoch[9/20](40/123) || \n",
            "Epoch[9/20](50/123) || \n",
            "Epoch[9/20](60/123) || \n",
            "Epoch[9/20](70/123) || \n",
            "Epoch[9/20](80/123) || \n",
            "Epoch[9/20](90/123) || \n",
            "Epoch[9/20](100/123) || \n",
            "Epoch[9/20](110/123) || \n",
            "Epoch[9/20](120/123) || \n",
            "Epoch[10/20](10/123) || \n",
            "Epoch[10/20](20/123) || \n",
            "Epoch[10/20](30/123) || \n",
            "Epoch[10/20](40/123) || \n",
            "Epoch[10/20](50/123) || \n",
            "Epoch[10/20](60/123) || \n",
            "Epoch[10/20](70/123) || \n",
            "Epoch[10/20](80/123) || \n",
            "Epoch[10/20](90/123) || \n",
            "Epoch[10/20](100/123) || \n",
            "Epoch[10/20](110/123) || \n",
            "Epoch[10/20](120/123) || \n",
            "Epoch[11/20](10/123) || \n",
            "Epoch[11/20](20/123) || \n",
            "Epoch[11/20](30/123) || \n",
            "Epoch[11/20](40/123) || \n",
            "Epoch[11/20](50/123) || \n",
            "Epoch[11/20](60/123) || \n",
            "Epoch[11/20](70/123) || \n",
            "Epoch[11/20](80/123) || \n",
            "Epoch[11/20](90/123) || \n",
            "Epoch[11/20](100/123) || \n",
            "Epoch[11/20](110/123) || \n",
            "Epoch[11/20](120/123) || \n",
            "Epoch[12/20](10/123) || \n",
            "Epoch[12/20](20/123) || \n",
            "Epoch[12/20](30/123) || \n",
            "Epoch[12/20](40/123) || \n",
            "Epoch[12/20](50/123) || \n",
            "Epoch[12/20](60/123) || \n",
            "Epoch[12/20](70/123) || \n",
            "Epoch[12/20](80/123) || \n",
            "Epoch[12/20](90/123) || \n",
            "Epoch[12/20](100/123) || \n",
            "Epoch[12/20](110/123) || \n",
            "Epoch[12/20](120/123) || \n",
            "Epoch[13/20](10/123) || \n",
            "Epoch[13/20](20/123) || \n",
            "Epoch[13/20](30/123) || \n",
            "Epoch[13/20](40/123) || \n",
            "Epoch[13/20](50/123) || \n",
            "Epoch[13/20](60/123) || \n",
            "Epoch[13/20](70/123) || \n",
            "Epoch[13/20](80/123) || \n",
            "Epoch[13/20](90/123) || \n",
            "Epoch[13/20](100/123) || \n",
            "Epoch[13/20](110/123) || \n",
            "Epoch[13/20](120/123) || \n",
            "Epoch[14/20](10/123) || \n",
            "Epoch[14/20](20/123) || \n",
            "Epoch[14/20](30/123) || \n",
            "Epoch[14/20](40/123) || \n",
            "Epoch[14/20](50/123) || \n",
            "Epoch[14/20](60/123) || \n",
            "Epoch[14/20](70/123) || \n",
            "Epoch[14/20](80/123) || \n",
            "Epoch[14/20](90/123) || \n",
            "Epoch[14/20](100/123) || \n",
            "Epoch[14/20](110/123) || \n",
            "Epoch[14/20](120/123) || \n",
            "Epoch[15/20](10/123) || \n",
            "Epoch[15/20](20/123) || \n",
            "Epoch[15/20](30/123) || \n",
            "Epoch[15/20](40/123) || \n",
            "Epoch[15/20](50/123) || \n",
            "Epoch[15/20](60/123) || \n",
            "Epoch[15/20](70/123) || \n",
            "Epoch[15/20](80/123) || \n",
            "Epoch[15/20](90/123) || \n",
            "Epoch[15/20](100/123) || \n",
            "Epoch[15/20](110/123) || \n",
            "Epoch[15/20](120/123) || \n",
            "Epoch[16/20](10/123) || \n",
            "Epoch[16/20](20/123) || \n",
            "Epoch[16/20](30/123) || \n",
            "Epoch[16/20](40/123) || \n",
            "Epoch[16/20](50/123) || \n",
            "Epoch[16/20](60/123) || \n",
            "Epoch[16/20](70/123) || \n",
            "Epoch[16/20](80/123) || \n",
            "Epoch[16/20](90/123) || \n",
            "Epoch[16/20](100/123) || \n",
            "Epoch[16/20](110/123) || \n",
            "Epoch[16/20](120/123) || \n",
            "Epoch[17/20](10/123) || \n",
            "Epoch[17/20](20/123) || \n",
            "Epoch[17/20](30/123) || \n",
            "Epoch[17/20](40/123) || \n",
            "Epoch[17/20](50/123) || \n",
            "Epoch[17/20](60/123) || \n",
            "Epoch[17/20](70/123) || \n",
            "Epoch[17/20](80/123) || \n",
            "Epoch[17/20](90/123) || \n",
            "Epoch[17/20](100/123) || \n",
            "Epoch[17/20](110/123) || \n",
            "Epoch[17/20](120/123) || \n",
            "Epoch[18/20](10/123) || \n",
            "Epoch[18/20](20/123) || \n",
            "Epoch[18/20](30/123) || \n",
            "Epoch[18/20](40/123) || \n",
            "Epoch[18/20](50/123) || \n",
            "Epoch[18/20](60/123) || \n",
            "Epoch[18/20](70/123) || \n",
            "Epoch[18/20](80/123) || \n",
            "Epoch[18/20](90/123) || \n",
            "Epoch[18/20](100/123) || \n",
            "Epoch[18/20](110/123) || \n",
            "Epoch[18/20](120/123) || \n",
            "Epoch[19/20](10/123) || \n",
            "Epoch[19/20](20/123) || \n",
            "Epoch[19/20](30/123) || \n",
            "Epoch[19/20](40/123) || \n",
            "Epoch[19/20](50/123) || \n",
            "Epoch[19/20](60/123) || \n",
            "Epoch[19/20](70/123) || \n",
            "Epoch[19/20](80/123) || \n",
            "Epoch[19/20](90/123) || \n",
            "Epoch[19/20](100/123) || \n",
            "Epoch[19/20](110/123) || \n",
            "Epoch[19/20](120/123) || \n"
          ],
          "name": "stdout"
        }
      ]
    },
    {
      "cell_type": "code",
      "metadata": {
        "id": "QrqSafrzn7M1"
      },
      "source": [
        ""
      ],
      "execution_count": null,
      "outputs": []
    }
  ]
}